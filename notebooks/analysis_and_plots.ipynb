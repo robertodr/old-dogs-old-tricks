{
 "cells": [
  {
   "cell_type": "code",
   "execution_count": 1,
   "id": "f7b9d89d-9360-46a8-8850-7d05d83d92e6",
   "metadata": {},
   "outputs": [],
   "source": [
    "import plotly.graph_objects as go\n",
    "import h5py\n",
    "import numpy as np"
   ]
  },
  {
   "cell_type": "code",
   "execution_count": 2,
   "id": "4c654730-60c9-4ae3-a1bc-2bfb0c609a37",
   "metadata": {},
   "outputs": [],
   "source": [
    "# max order computed\n",
    "max_order = 20\n",
    "\n",
    "# open file with reference data\n",
    "ref_fh = h5py.File(\"../data/boys_reference.h5\", \"r\")\n",
    "\n",
    "# open file with computed data\n",
    "comp_fh = h5py.File(\"../data/boys_computed.h5\", \"r\")"
   ]
  },
  {
   "cell_type": "code",
   "execution_count": 4,
   "id": "3a8f0c60-2f25-4f84-b7fd-0d2b6f6a18c5",
   "metadata": {},
   "outputs": [
    {
     "data": {
      "application/vnd.plotly.v1+json": {
       "config": {
        "plotlyServerURL": "https://plot.ly"
       },
       "data": [
        {
         "hovertemplate": "x = %{x}<br>max(|&#x394;|) = %{y}<extra></extra>",
         "mode": "markers",
         "name": "1",
         "type": "scatter",
         "x": [
          0.67735,
          12.048,
          13.501365
         ],
         "y": [
          8.326672684688674e-17,
          1.734723475976807e-17,
          3.469446951953614e-18
         ]
        },
        {
         "hovertemplate": "x = %{x}<br>max(|&#x394;|) = %{y}<extra></extra>",
         "mode": "markers",
         "name": "2",
         "type": "scatter",
         "x": [
          0.00115,
          12.048,
          13.501365
         ],
         "y": [
          5.551115123125783e-17,
          2.168404344971009e-18,
          4.336808689942018e-19
         ]
        },
        {
         "hovertemplate": "x = %{x}<br>max(|&#x394;|) = %{y}<extra></extra>",
         "mode": "markers",
         "name": "3",
         "type": "scatter",
         "x": [
          0.00115,
          12.048,
          13.6365
         ],
         "y": [
          2.7755575615628914e-17,
          4.336808689942018e-19,
          1.0842021724855044e-19
         ]
        },
        {
         "hovertemplate": "x = %{x}<br>max(|&#x394;|) = %{y}<extra></extra>",
         "mode": "markers",
         "name": "4",
         "type": "scatter",
         "x": [
          0.05405,
          12.048,
          13.65561
         ],
         "y": [
          2.7755575615628914e-17,
          1.3552527156068805e-19,
          3.3881317890172014e-20
         ]
        },
        {
         "hovertemplate": "x = %{x}<br>max(|&#x394;|) = %{y}<extra></extra>",
         "mode": "markers",
         "name": "5",
         "type": "scatter",
         "x": [
          0.019549999999999998,
          12.048,
          13.65561
         ],
         "y": [
          2.7755575615628914e-17,
          5.082197683525802e-20,
          1.1858461261560205e-20
         ]
        },
        {
         "hovertemplate": "x = %{x}<br>max(|&#x394;|) = %{y}<extra></extra>",
         "mode": "markers",
         "name": "6",
         "type": "scatter",
         "x": [
          0.00115,
          12.048,
          13.65561
         ],
         "y": [
          1.3877787807814457e-17,
          2.541098841762901e-20,
          5.929230630780102e-21
         ]
        },
        {
         "hovertemplate": "x = %{x}<br>max(|&#x394;|) = %{y}<extra></extra>",
         "mode": "markers",
         "name": "7",
         "type": "scatter",
         "x": [
          0.0023,
          12.048,
          13.65561
         ],
         "y": [
          1.3877787807814457e-17,
          1.2705494208814505e-20,
          2.964615315390051e-21
         ]
        },
        {
         "hovertemplate": "x = %{x}<br>max(|&#x394;|) = %{y}<extra></extra>",
         "mode": "markers",
         "name": "8",
         "type": "scatter",
         "x": [
          0.0253,
          11.546,
          13.65561
         ],
         "y": [
          1.3877787807814457e-17,
          7.623296525288703e-21,
          1.9058241313221758e-21
         ]
        },
        {
         "hovertemplate": "x = %{x}<br>max(|&#x394;|) = %{y}<extra></extra>",
         "mode": "markers",
         "name": "9",
         "type": "scatter",
         "x": [
          0.01495,
          11.848,
          13.75935
         ],
         "y": [
          1.3877787807814457e-17,
          5.505714157152952e-21,
          1.2705494208814505e-21
         ]
        },
        {
         "hovertemplate": "x = %{x}<br>max(|&#x394;|) = %{y}<extra></extra>",
         "mode": "markers",
         "name": "10",
         "type": "scatter",
         "x": [
          0.0069,
          11.546,
          13.509555
         ],
         "y": [
          1.3877787807814457e-17,
          4.235164736271502e-21,
          9.529120656610879e-22
         ]
        },
        {
         "hovertemplate": "x = %{x}<br>max(|&#x394;|) = %{y}<extra></extra>",
         "mode": "markers",
         "name": "11",
         "type": "scatter",
         "x": [
          0.08395,
          11.648,
          13.75935
         ],
         "y": [
          1.3877787807814457e-17,
          4.0234064994579266e-21,
          7.940933880509066e-22
         ]
        },
        {
         "hovertemplate": "x = %{x}<br>max(|&#x394;|) = %{y}<extra></extra>",
         "mode": "markers",
         "name": "12",
         "type": "scatter",
         "x": [
          0.00345,
          11.648,
          13.75935
         ],
         "y": [
          6.938893903907228e-18,
          3.8116482626443515e-21,
          6.88214269644119e-22
         ]
        },
        {
         "hovertemplate": "x = %{x}<br>max(|&#x394;|) = %{y}<extra></extra>",
         "mode": "markers",
         "name": "13",
         "type": "scatter",
         "x": [
          0.00345,
          11.548,
          13.75935
         ],
         "y": [
          6.938893903907228e-18,
          4.235164736271502e-21,
          6.88214269644119e-22
         ]
        },
        {
         "hovertemplate": "x = %{x}<br>max(|&#x394;|) = %{y}<extra></extra>",
         "mode": "markers",
         "name": "14",
         "type": "scatter",
         "x": [
          0.09659999999999999,
          11.548,
          13.75935
         ],
         "y": [
          1.3877787807814457e-17,
          4.658681209898652e-21,
          6.617444900424221e-22
         ]
        },
        {
         "hovertemplate": "x = %{x}<br>max(|&#x394;|) = %{y}<extra></extra>",
         "mode": "markers",
         "name": "15",
         "type": "scatter",
         "x": [
          0.00345,
          11.548,
          13.75935
         ],
         "y": [
          6.938893903907228e-18,
          5.929230630780102e-21,
          7.146840492458159e-22
         ]
        },
        {
         "hovertemplate": "x = %{x}<br>max(|&#x394;|) = %{y}<extra></extra>",
         "mode": "markers",
         "name": "16",
         "type": "scatter",
         "x": [
          0.06325,
          11.548,
          13.509555
         ],
         "y": [
          6.938893903907228e-18,
          7.940933880509066e-21,
          8.205631676526035e-22
         ]
        },
        {
         "hovertemplate": "x = %{x}<br>max(|&#x394;|) = %{y}<extra></extra>",
         "mode": "markers",
         "name": "17",
         "type": "scatter",
         "x": [
          0.0069,
          11.548,
          13.509555
         ],
         "y": [
          6.938893903907228e-18,
          1.1434944787933055e-20,
          1.0323214044661785e-21
         ]
        },
        {
         "hovertemplate": "x = %{x}<br>max(|&#x394;|) = %{y}<extra></extra>",
         "mode": "markers",
         "name": "18",
         "type": "scatter",
         "x": [
          0.00805,
          11.548,
          13.509555
         ],
         "y": [
          6.938893903907228e-18,
          1.7152417181899582e-20,
          1.3499587596865412e-21
         ]
        },
        {
         "hovertemplate": "x = %{x}<br>max(|&#x394;|) = %{y}<extra></extra>",
         "mode": "markers",
         "name": "19",
         "type": "scatter",
         "x": [
          1.04995,
          11.548,
          13.509555
         ],
         "y": [
          5.724587470723463e-17,
          2.752857078576476e-20,
          1.8661194619196304e-21
         ]
        },
        {
         "hovertemplate": "x = %{x}<br>max(|&#x394;|) = %{y}<extra></extra>",
         "mode": "markers",
         "name": "20",
         "type": "scatter",
         "x": [
          0.04945,
          11.548,
          13.509555
         ],
         "y": [
          2.5951463200613034e-15,
          4.6269174743766156e-20,
          2.686682629572234e-21
         ]
        }
       ],
       "layout": {
        "autosize": false,
        "height": 700,
        "legend": {
         "title": {
          "text": "Boys' function order"
         }
        },
        "shapes": [
         {
          "line": {
           "width": 0.7
          },
          "type": "line",
          "x0": 11.5,
          "x1": 11.5,
          "xref": "x",
          "y0": 0,
          "y1": 1,
          "yref": "y domain"
         },
         {
          "line": {
           "width": 0.7
          },
          "type": "line",
          "x0": 13.5,
          "x1": 13.5,
          "xref": "x",
          "y0": 0,
          "y1": 1,
          "yref": "y domain"
         },
         {
          "line": {
           "color": "blue",
           "dash": "dot",
           "width": 0.5
          },
          "type": "line",
          "x0": 0,
          "x1": 1,
          "xref": "x domain",
          "y0": 1e-14,
          "y1": 1e-14,
          "yref": "y"
         },
         {
          "line": {
           "color": "red",
           "dash": "dot",
           "width": 0.5
          },
          "type": "line",
          "x0": 0,
          "x1": 1,
          "xref": "x domain",
          "y0": 1e-16,
          "y1": 1e-16,
          "yref": "y"
         },
         {
          "line": {
           "color": "green",
           "dash": "dot",
           "width": 0.5
          },
          "type": "line",
          "x0": 0,
          "x1": 1,
          "xref": "x domain",
          "y0": 1e-18,
          "y1": 1e-18,
          "yref": "y"
         }
        ],
        "template": {
         "data": {
          "bar": [
           {
            "error_x": {
             "color": "#2a3f5f"
            },
            "error_y": {
             "color": "#2a3f5f"
            },
            "marker": {
             "line": {
              "color": "#E5ECF6",
              "width": 0.5
             },
             "pattern": {
              "fillmode": "overlay",
              "size": 10,
              "solidity": 0.2
             }
            },
            "type": "bar"
           }
          ],
          "barpolar": [
           {
            "marker": {
             "line": {
              "color": "#E5ECF6",
              "width": 0.5
             },
             "pattern": {
              "fillmode": "overlay",
              "size": 10,
              "solidity": 0.2
             }
            },
            "type": "barpolar"
           }
          ],
          "carpet": [
           {
            "aaxis": {
             "endlinecolor": "#2a3f5f",
             "gridcolor": "white",
             "linecolor": "white",
             "minorgridcolor": "white",
             "startlinecolor": "#2a3f5f"
            },
            "baxis": {
             "endlinecolor": "#2a3f5f",
             "gridcolor": "white",
             "linecolor": "white",
             "minorgridcolor": "white",
             "startlinecolor": "#2a3f5f"
            },
            "type": "carpet"
           }
          ],
          "choropleth": [
           {
            "colorbar": {
             "outlinewidth": 0,
             "ticks": ""
            },
            "type": "choropleth"
           }
          ],
          "contour": [
           {
            "colorbar": {
             "outlinewidth": 0,
             "ticks": ""
            },
            "colorscale": [
             [
              0,
              "#0d0887"
             ],
             [
              0.1111111111111111,
              "#46039f"
             ],
             [
              0.2222222222222222,
              "#7201a8"
             ],
             [
              0.3333333333333333,
              "#9c179e"
             ],
             [
              0.4444444444444444,
              "#bd3786"
             ],
             [
              0.5555555555555556,
              "#d8576b"
             ],
             [
              0.6666666666666666,
              "#ed7953"
             ],
             [
              0.7777777777777778,
              "#fb9f3a"
             ],
             [
              0.8888888888888888,
              "#fdca26"
             ],
             [
              1,
              "#f0f921"
             ]
            ],
            "type": "contour"
           }
          ],
          "contourcarpet": [
           {
            "colorbar": {
             "outlinewidth": 0,
             "ticks": ""
            },
            "type": "contourcarpet"
           }
          ],
          "heatmap": [
           {
            "colorbar": {
             "outlinewidth": 0,
             "ticks": ""
            },
            "colorscale": [
             [
              0,
              "#0d0887"
             ],
             [
              0.1111111111111111,
              "#46039f"
             ],
             [
              0.2222222222222222,
              "#7201a8"
             ],
             [
              0.3333333333333333,
              "#9c179e"
             ],
             [
              0.4444444444444444,
              "#bd3786"
             ],
             [
              0.5555555555555556,
              "#d8576b"
             ],
             [
              0.6666666666666666,
              "#ed7953"
             ],
             [
              0.7777777777777778,
              "#fb9f3a"
             ],
             [
              0.8888888888888888,
              "#fdca26"
             ],
             [
              1,
              "#f0f921"
             ]
            ],
            "type": "heatmap"
           }
          ],
          "heatmapgl": [
           {
            "colorbar": {
             "outlinewidth": 0,
             "ticks": ""
            },
            "colorscale": [
             [
              0,
              "#0d0887"
             ],
             [
              0.1111111111111111,
              "#46039f"
             ],
             [
              0.2222222222222222,
              "#7201a8"
             ],
             [
              0.3333333333333333,
              "#9c179e"
             ],
             [
              0.4444444444444444,
              "#bd3786"
             ],
             [
              0.5555555555555556,
              "#d8576b"
             ],
             [
              0.6666666666666666,
              "#ed7953"
             ],
             [
              0.7777777777777778,
              "#fb9f3a"
             ],
             [
              0.8888888888888888,
              "#fdca26"
             ],
             [
              1,
              "#f0f921"
             ]
            ],
            "type": "heatmapgl"
           }
          ],
          "histogram": [
           {
            "marker": {
             "pattern": {
              "fillmode": "overlay",
              "size": 10,
              "solidity": 0.2
             }
            },
            "type": "histogram"
           }
          ],
          "histogram2d": [
           {
            "colorbar": {
             "outlinewidth": 0,
             "ticks": ""
            },
            "colorscale": [
             [
              0,
              "#0d0887"
             ],
             [
              0.1111111111111111,
              "#46039f"
             ],
             [
              0.2222222222222222,
              "#7201a8"
             ],
             [
              0.3333333333333333,
              "#9c179e"
             ],
             [
              0.4444444444444444,
              "#bd3786"
             ],
             [
              0.5555555555555556,
              "#d8576b"
             ],
             [
              0.6666666666666666,
              "#ed7953"
             ],
             [
              0.7777777777777778,
              "#fb9f3a"
             ],
             [
              0.8888888888888888,
              "#fdca26"
             ],
             [
              1,
              "#f0f921"
             ]
            ],
            "type": "histogram2d"
           }
          ],
          "histogram2dcontour": [
           {
            "colorbar": {
             "outlinewidth": 0,
             "ticks": ""
            },
            "colorscale": [
             [
              0,
              "#0d0887"
             ],
             [
              0.1111111111111111,
              "#46039f"
             ],
             [
              0.2222222222222222,
              "#7201a8"
             ],
             [
              0.3333333333333333,
              "#9c179e"
             ],
             [
              0.4444444444444444,
              "#bd3786"
             ],
             [
              0.5555555555555556,
              "#d8576b"
             ],
             [
              0.6666666666666666,
              "#ed7953"
             ],
             [
              0.7777777777777778,
              "#fb9f3a"
             ],
             [
              0.8888888888888888,
              "#fdca26"
             ],
             [
              1,
              "#f0f921"
             ]
            ],
            "type": "histogram2dcontour"
           }
          ],
          "mesh3d": [
           {
            "colorbar": {
             "outlinewidth": 0,
             "ticks": ""
            },
            "type": "mesh3d"
           }
          ],
          "parcoords": [
           {
            "line": {
             "colorbar": {
              "outlinewidth": 0,
              "ticks": ""
             }
            },
            "type": "parcoords"
           }
          ],
          "pie": [
           {
            "automargin": true,
            "type": "pie"
           }
          ],
          "scatter": [
           {
            "fillpattern": {
             "fillmode": "overlay",
             "size": 10,
             "solidity": 0.2
            },
            "type": "scatter"
           }
          ],
          "scatter3d": [
           {
            "line": {
             "colorbar": {
              "outlinewidth": 0,
              "ticks": ""
             }
            },
            "marker": {
             "colorbar": {
              "outlinewidth": 0,
              "ticks": ""
             }
            },
            "type": "scatter3d"
           }
          ],
          "scattercarpet": [
           {
            "marker": {
             "colorbar": {
              "outlinewidth": 0,
              "ticks": ""
             }
            },
            "type": "scattercarpet"
           }
          ],
          "scattergeo": [
           {
            "marker": {
             "colorbar": {
              "outlinewidth": 0,
              "ticks": ""
             }
            },
            "type": "scattergeo"
           }
          ],
          "scattergl": [
           {
            "marker": {
             "colorbar": {
              "outlinewidth": 0,
              "ticks": ""
             }
            },
            "type": "scattergl"
           }
          ],
          "scattermapbox": [
           {
            "marker": {
             "colorbar": {
              "outlinewidth": 0,
              "ticks": ""
             }
            },
            "type": "scattermapbox"
           }
          ],
          "scatterpolar": [
           {
            "marker": {
             "colorbar": {
              "outlinewidth": 0,
              "ticks": ""
             }
            },
            "type": "scatterpolar"
           }
          ],
          "scatterpolargl": [
           {
            "marker": {
             "colorbar": {
              "outlinewidth": 0,
              "ticks": ""
             }
            },
            "type": "scatterpolargl"
           }
          ],
          "scatterternary": [
           {
            "marker": {
             "colorbar": {
              "outlinewidth": 0,
              "ticks": ""
             }
            },
            "type": "scatterternary"
           }
          ],
          "surface": [
           {
            "colorbar": {
             "outlinewidth": 0,
             "ticks": ""
            },
            "colorscale": [
             [
              0,
              "#0d0887"
             ],
             [
              0.1111111111111111,
              "#46039f"
             ],
             [
              0.2222222222222222,
              "#7201a8"
             ],
             [
              0.3333333333333333,
              "#9c179e"
             ],
             [
              0.4444444444444444,
              "#bd3786"
             ],
             [
              0.5555555555555556,
              "#d8576b"
             ],
             [
              0.6666666666666666,
              "#ed7953"
             ],
             [
              0.7777777777777778,
              "#fb9f3a"
             ],
             [
              0.8888888888888888,
              "#fdca26"
             ],
             [
              1,
              "#f0f921"
             ]
            ],
            "type": "surface"
           }
          ],
          "table": [
           {
            "cells": {
             "fill": {
              "color": "#EBF0F8"
             },
             "line": {
              "color": "white"
             }
            },
            "header": {
             "fill": {
              "color": "#C8D4E3"
             },
             "line": {
              "color": "white"
             }
            },
            "type": "table"
           }
          ]
         },
         "layout": {
          "annotationdefaults": {
           "arrowcolor": "#2a3f5f",
           "arrowhead": 0,
           "arrowwidth": 1
          },
          "autotypenumbers": "strict",
          "coloraxis": {
           "colorbar": {
            "outlinewidth": 0,
            "ticks": ""
           }
          },
          "colorscale": {
           "diverging": [
            [
             0,
             "#8e0152"
            ],
            [
             0.1,
             "#c51b7d"
            ],
            [
             0.2,
             "#de77ae"
            ],
            [
             0.3,
             "#f1b6da"
            ],
            [
             0.4,
             "#fde0ef"
            ],
            [
             0.5,
             "#f7f7f7"
            ],
            [
             0.6,
             "#e6f5d0"
            ],
            [
             0.7,
             "#b8e186"
            ],
            [
             0.8,
             "#7fbc41"
            ],
            [
             0.9,
             "#4d9221"
            ],
            [
             1,
             "#276419"
            ]
           ],
           "sequential": [
            [
             0,
             "#0d0887"
            ],
            [
             0.1111111111111111,
             "#46039f"
            ],
            [
             0.2222222222222222,
             "#7201a8"
            ],
            [
             0.3333333333333333,
             "#9c179e"
            ],
            [
             0.4444444444444444,
             "#bd3786"
            ],
            [
             0.5555555555555556,
             "#d8576b"
            ],
            [
             0.6666666666666666,
             "#ed7953"
            ],
            [
             0.7777777777777778,
             "#fb9f3a"
            ],
            [
             0.8888888888888888,
             "#fdca26"
            ],
            [
             1,
             "#f0f921"
            ]
           ],
           "sequentialminus": [
            [
             0,
             "#0d0887"
            ],
            [
             0.1111111111111111,
             "#46039f"
            ],
            [
             0.2222222222222222,
             "#7201a8"
            ],
            [
             0.3333333333333333,
             "#9c179e"
            ],
            [
             0.4444444444444444,
             "#bd3786"
            ],
            [
             0.5555555555555556,
             "#d8576b"
            ],
            [
             0.6666666666666666,
             "#ed7953"
            ],
            [
             0.7777777777777778,
             "#fb9f3a"
            ],
            [
             0.8888888888888888,
             "#fdca26"
            ],
            [
             1,
             "#f0f921"
            ]
           ]
          },
          "colorway": [
           "#636efa",
           "#EF553B",
           "#00cc96",
           "#ab63fa",
           "#FFA15A",
           "#19d3f3",
           "#FF6692",
           "#B6E880",
           "#FF97FF",
           "#FECB52"
          ],
          "font": {
           "color": "#2a3f5f"
          },
          "geo": {
           "bgcolor": "white",
           "lakecolor": "white",
           "landcolor": "#E5ECF6",
           "showlakes": true,
           "showland": true,
           "subunitcolor": "white"
          },
          "hoverlabel": {
           "align": "left"
          },
          "hovermode": "closest",
          "mapbox": {
           "style": "light"
          },
          "paper_bgcolor": "white",
          "plot_bgcolor": "#E5ECF6",
          "polar": {
           "angularaxis": {
            "gridcolor": "white",
            "linecolor": "white",
            "ticks": ""
           },
           "bgcolor": "#E5ECF6",
           "radialaxis": {
            "gridcolor": "white",
            "linecolor": "white",
            "ticks": ""
           }
          },
          "scene": {
           "xaxis": {
            "backgroundcolor": "#E5ECF6",
            "gridcolor": "white",
            "gridwidth": 2,
            "linecolor": "white",
            "showbackground": true,
            "ticks": "",
            "zerolinecolor": "white"
           },
           "yaxis": {
            "backgroundcolor": "#E5ECF6",
            "gridcolor": "white",
            "gridwidth": 2,
            "linecolor": "white",
            "showbackground": true,
            "ticks": "",
            "zerolinecolor": "white"
           },
           "zaxis": {
            "backgroundcolor": "#E5ECF6",
            "gridcolor": "white",
            "gridwidth": 2,
            "linecolor": "white",
            "showbackground": true,
            "ticks": "",
            "zerolinecolor": "white"
           }
          },
          "shapedefaults": {
           "line": {
            "color": "#2a3f5f"
           }
          },
          "ternary": {
           "aaxis": {
            "gridcolor": "white",
            "linecolor": "white",
            "ticks": ""
           },
           "baxis": {
            "gridcolor": "white",
            "linecolor": "white",
            "ticks": ""
           },
           "bgcolor": "#E5ECF6",
           "caxis": {
            "gridcolor": "white",
            "linecolor": "white",
            "ticks": ""
           }
          },
          "title": {
           "x": 0.05
          },
          "xaxis": {
           "automargin": true,
           "gridcolor": "white",
           "linecolor": "white",
           "ticks": "",
           "title": {
            "standoff": 15
           },
           "zerolinecolor": "white",
           "zerolinewidth": 2
          },
          "yaxis": {
           "automargin": true,
           "gridcolor": "white",
           "linecolor": "white",
           "ticks": "",
           "title": {
            "standoff": 15
           },
           "zerolinecolor": "white",
           "zerolinewidth": 2
          }
         }
        },
        "title": {
         "text": "mcmurchie_davidson"
        },
        "width": 1500,
        "xaxis": {
         "range": [
          0,
          20
         ],
         "title": {
          "text": "$x$"
         },
         "type": "linear"
        },
        "yaxis": {
         "exponentformat": "power",
         "range": [
          -24,
          -4
         ],
         "title": {
          "text": "$\\max|\\Delta|$"
         },
         "type": "log"
        }
       }
      },
      "image/png": "[encoded data removed]",
      "text/html": [
       "<div>                            <div id=\"7d13097b-0f4c-495e-b1a8-4728107bc9ac\" class=\"plotly-graph-div\" style=\"height:700px; width:1500px;\"></div>            <script type=\"text/javascript\">                require([\"plotly\"], function(Plotly) {                    window.PLOTLYENV=window.PLOTLYENV || {};                                    if (document.getElementById(\"7d13097b-0f4c-495e-b1a8-4728107bc9ac\")) {                    Plotly.newPlot(                        \"7d13097b-0f4c-495e-b1a8-4728107bc9ac\",                        [{\"hovertemplate\":\"x = %{x}<br>max(|&#x394;|) = %{y}<extra></extra>\",\"mode\":\"markers\",\"name\":\"1\",\"x\":[0.67735,12.048,13.501365],\"y\":[8.326672684688674e-17,1.734723475976807e-17,3.469446951953614e-18],\"type\":\"scatter\"},{\"hovertemplate\":\"x = %{x}<br>max(|&#x394;|) = %{y}<extra></extra>\",\"mode\":\"markers\",\"name\":\"2\",\"x\":[0.00115,12.048,13.501365],\"y\":[5.551115123125783e-17,2.168404344971009e-18,4.336808689942018e-19],\"type\":\"scatter\"},{\"hovertemplate\":\"x = %{x}<br>max(|&#x394;|) = %{y}<extra></extra>\",\"mode\":\"markers\",\"name\":\"3\",\"x\":[0.00115,12.048,13.6365],\"y\":[2.7755575615628914e-17,4.336808689942018e-19,1.0842021724855044e-19],\"type\":\"scatter\"},{\"hovertemplate\":\"x = %{x}<br>max(|&#x394;|) = %{y}<extra></extra>\",\"mode\":\"markers\",\"name\":\"4\",\"x\":[0.05405,12.048,13.65561],\"y\":[2.7755575615628914e-17,1.3552527156068805e-19,3.3881317890172014e-20],\"type\":\"scatter\"},{\"hovertemplate\":\"x = %{x}<br>max(|&#x394;|) = %{y}<extra></extra>\",\"mode\":\"markers\",\"name\":\"5\",\"x\":[0.019549999999999998,12.048,13.65561],\"y\":[2.7755575615628914e-17,5.082197683525802e-20,1.1858461261560205e-20],\"type\":\"scatter\"},{\"hovertemplate\":\"x = %{x}<br>max(|&#x394;|) = %{y}<extra></extra>\",\"mode\":\"markers\",\"name\":\"6\",\"x\":[0.00115,12.048,13.65561],\"y\":[1.3877787807814457e-17,2.541098841762901e-20,5.929230630780102e-21],\"type\":\"scatter\"},{\"hovertemplate\":\"x = %{x}<br>max(|&#x394;|) = %{y}<extra></extra>\",\"mode\":\"markers\",\"name\":\"7\",\"x\":[0.0023,12.048,13.65561],\"y\":[1.3877787807814457e-17,1.2705494208814505e-20,2.964615315390051e-21],\"type\":\"scatter\"},{\"hovertemplate\":\"x = %{x}<br>max(|&#x394;|) = %{y}<extra></extra>\",\"mode\":\"markers\",\"name\":\"8\",\"x\":[0.0253,11.546,13.65561],\"y\":[1.3877787807814457e-17,7.623296525288703e-21,1.9058241313221758e-21],\"type\":\"scatter\"},{\"hovertemplate\":\"x = %{x}<br>max(|&#x394;|) = %{y}<extra></extra>\",\"mode\":\"markers\",\"name\":\"9\",\"x\":[0.01495,11.848,13.75935],\"y\":[1.3877787807814457e-17,5.505714157152952e-21,1.2705494208814505e-21],\"type\":\"scatter\"},{\"hovertemplate\":\"x = %{x}<br>max(|&#x394;|) = %{y}<extra></extra>\",\"mode\":\"markers\",\"name\":\"10\",\"x\":[0.0069,11.546,13.509555],\"y\":[1.3877787807814457e-17,4.235164736271502e-21,9.529120656610879e-22],\"type\":\"scatter\"},{\"hovertemplate\":\"x = %{x}<br>max(|&#x394;|) = %{y}<extra></extra>\",\"mode\":\"markers\",\"name\":\"11\",\"x\":[0.08395,11.648,13.75935],\"y\":[1.3877787807814457e-17,4.0234064994579266e-21,7.940933880509066e-22],\"type\":\"scatter\"},{\"hovertemplate\":\"x = %{x}<br>max(|&#x394;|) = %{y}<extra></extra>\",\"mode\":\"markers\",\"name\":\"12\",\"x\":[0.00345,11.648,13.75935],\"y\":[6.938893903907228e-18,3.8116482626443515e-21,6.88214269644119e-22],\"type\":\"scatter\"},{\"hovertemplate\":\"x = %{x}<br>max(|&#x394;|) = %{y}<extra></extra>\",\"mode\":\"markers\",\"name\":\"13\",\"x\":[0.00345,11.548,13.75935],\"y\":[6.938893903907228e-18,4.235164736271502e-21,6.88214269644119e-22],\"type\":\"scatter\"},{\"hovertemplate\":\"x = %{x}<br>max(|&#x394;|) = %{y}<extra></extra>\",\"mode\":\"markers\",\"name\":\"14\",\"x\":[0.09659999999999999,11.548,13.75935],\"y\":[1.3877787807814457e-17,4.658681209898652e-21,6.617444900424221e-22],\"type\":\"scatter\"},{\"hovertemplate\":\"x = %{x}<br>max(|&#x394;|) = %{y}<extra></extra>\",\"mode\":\"markers\",\"name\":\"15\",\"x\":[0.00345,11.548,13.75935],\"y\":[6.938893903907228e-18,5.929230630780102e-21,7.146840492458159e-22],\"type\":\"scatter\"},{\"hovertemplate\":\"x = %{x}<br>max(|&#x394;|) = %{y}<extra></extra>\",\"mode\":\"markers\",\"name\":\"16\",\"x\":[0.06325,11.548,13.509555],\"y\":[6.938893903907228e-18,7.940933880509066e-21,8.205631676526035e-22],\"type\":\"scatter\"},{\"hovertemplate\":\"x = %{x}<br>max(|&#x394;|) = %{y}<extra></extra>\",\"mode\":\"markers\",\"name\":\"17\",\"x\":[0.0069,11.548,13.509555],\"y\":[6.938893903907228e-18,1.1434944787933055e-20,1.0323214044661785e-21],\"type\":\"scatter\"},{\"hovertemplate\":\"x = %{x}<br>max(|&#x394;|) = %{y}<extra></extra>\",\"mode\":\"markers\",\"name\":\"18\",\"x\":[0.00805,11.548,13.509555],\"y\":[6.938893903907228e-18,1.7152417181899582e-20,1.3499587596865412e-21],\"type\":\"scatter\"},{\"hovertemplate\":\"x = %{x}<br>max(|&#x394;|) = %{y}<extra></extra>\",\"mode\":\"markers\",\"name\":\"19\",\"x\":[1.04995,11.548,13.509555],\"y\":[5.724587470723463e-17,2.752857078576476e-20,1.8661194619196304e-21],\"type\":\"scatter\"},{\"hovertemplate\":\"x = %{x}<br>max(|&#x394;|) = %{y}<extra></extra>\",\"mode\":\"markers\",\"name\":\"20\",\"x\":[0.04945,11.548,13.509555],\"y\":[2.5951463200613034e-15,4.6269174743766156e-20,2.686682629572234e-21],\"type\":\"scatter\"}],                        {\"template\":{\"data\":{\"histogram2dcontour\":[{\"type\":\"histogram2dcontour\",\"colorbar\":{\"outlinewidth\":0,\"ticks\":\"\"},\"colorscale\":[[0.0,\"#0d0887\"],[0.1111111111111111,\"#46039f\"],[0.2222222222222222,\"#7201a8\"],[0.3333333333333333,\"#9c179e\"],[0.4444444444444444,\"#bd3786\"],[0.5555555555555556,\"#d8576b\"],[0.6666666666666666,\"#ed7953\"],[0.7777777777777778,\"#fb9f3a\"],[0.8888888888888888,\"#fdca26\"],[1.0,\"#f0f921\"]]}],\"choropleth\":[{\"type\":\"choropleth\",\"colorbar\":{\"outlinewidth\":0,\"ticks\":\"\"}}],\"histogram2d\":[{\"type\":\"histogram2d\",\"colorbar\":{\"outlinewidth\":0,\"ticks\":\"\"},\"colorscale\":[[0.0,\"#0d0887\"],[0.1111111111111111,\"#46039f\"],[0.2222222222222222,\"#7201a8\"],[0.3333333333333333,\"#9c179e\"],[0.4444444444444444,\"#bd3786\"],[0.5555555555555556,\"#d8576b\"],[0.6666666666666666,\"#ed7953\"],[0.7777777777777778,\"#fb9f3a\"],[0.8888888888888888,\"#fdca26\"],[1.0,\"#f0f921\"]]}],\"heatmap\":[{\"type\":\"heatmap\",\"colorbar\":{\"outlinewidth\":0,\"ticks\":\"\"},\"colorscale\":[[0.0,\"#0d0887\"],[0.1111111111111111,\"#46039f\"],[0.2222222222222222,\"#7201a8\"],[0.3333333333333333,\"#9c179e\"],[0.4444444444444444,\"#bd3786\"],[0.5555555555555556,\"#d8576b\"],[0.6666666666666666,\"#ed7953\"],[0.7777777777777778,\"#fb9f3a\"],[0.8888888888888888,\"#fdca26\"],[1.0,\"#f0f921\"]]}],\"heatmapgl\":[{\"type\":\"heatmapgl\",\"colorbar\":{\"outlinewidth\":0,\"ticks\":\"\"},\"colorscale\":[[0.0,\"#0d0887\"],[0.1111111111111111,\"#46039f\"],[0.2222222222222222,\"#7201a8\"],[0.3333333333333333,\"#9c179e\"],[0.4444444444444444,\"#bd3786\"],[0.5555555555555556,\"#d8576b\"],[0.6666666666666666,\"#ed7953\"],[0.7777777777777778,\"#fb9f3a\"],[0.8888888888888888,\"#fdca26\"],[1.0,\"#f0f921\"]]}],\"contourcarpet\":[{\"type\":\"contourcarpet\",\"colorbar\":{\"outlinewidth\":0,\"ticks\":\"\"}}],\"contour\":[{\"type\":\"contour\",\"colorbar\":{\"outlinewidth\":0,\"ticks\":\"\"},\"colorscale\":[[0.0,\"#0d0887\"],[0.1111111111111111,\"#46039f\"],[0.2222222222222222,\"#7201a8\"],[0.3333333333333333,\"#9c179e\"],[0.4444444444444444,\"#bd3786\"],[0.5555555555555556,\"#d8576b\"],[0.6666666666666666,\"#ed7953\"],[0.7777777777777778,\"#fb9f3a\"],[0.8888888888888888,\"#fdca26\"],[1.0,\"#f0f921\"]]}],\"surface\":[{\"type\":\"surface\",\"colorbar\":{\"outlinewidth\":0,\"ticks\":\"\"},\"colorscale\":[[0.0,\"#0d0887\"],[0.1111111111111111,\"#46039f\"],[0.2222222222222222,\"#7201a8\"],[0.3333333333333333,\"#9c179e\"],[0.4444444444444444,\"#bd3786\"],[0.5555555555555556,\"#d8576b\"],[0.6666666666666666,\"#ed7953\"],[0.7777777777777778,\"#fb9f3a\"],[0.8888888888888888,\"#fdca26\"],[1.0,\"#f0f921\"]]}],\"mesh3d\":[{\"type\":\"mesh3d\",\"colorbar\":{\"outlinewidth\":0,\"ticks\":\"\"}}],\"scatter\":[{\"fillpattern\":{\"fillmode\":\"overlay\",\"size\":10,\"solidity\":0.2},\"type\":\"scatter\"}],\"parcoords\":[{\"type\":\"parcoords\",\"line\":{\"colorbar\":{\"outlinewidth\":0,\"ticks\":\"\"}}}],\"scatterpolargl\":[{\"type\":\"scatterpolargl\",\"marker\":{\"colorbar\":{\"outlinewidth\":0,\"ticks\":\"\"}}}],\"bar\":[{\"error_x\":{\"color\":\"#2a3f5f\"},\"error_y\":{\"color\":\"#2a3f5f\"},\"marker\":{\"line\":{\"color\":\"#E5ECF6\",\"width\":0.5},\"pattern\":{\"fillmode\":\"overlay\",\"size\":10,\"solidity\":0.2}},\"type\":\"bar\"}],\"scattergeo\":[{\"type\":\"scattergeo\",\"marker\":{\"colorbar\":{\"outlinewidth\":0,\"ticks\":\"\"}}}],\"scatterpolar\":[{\"type\":\"scatterpolar\",\"marker\":{\"colorbar\":{\"outlinewidth\":0,\"ticks\":\"\"}}}],\"histogram\":[{\"marker\":{\"pattern\":{\"fillmode\":\"overlay\",\"size\":10,\"solidity\":0.2}},\"type\":\"histogram\"}],\"scattergl\":[{\"type\":\"scattergl\",\"marker\":{\"colorbar\":{\"outlinewidth\":0,\"ticks\":\"\"}}}],\"scatter3d\":[{\"type\":\"scatter3d\",\"line\":{\"colorbar\":{\"outlinewidth\":0,\"ticks\":\"\"}},\"marker\":{\"colorbar\":{\"outlinewidth\":0,\"ticks\":\"\"}}}],\"scattermapbox\":[{\"type\":\"scattermapbox\",\"marker\":{\"colorbar\":{\"outlinewidth\":0,\"ticks\":\"\"}}}],\"scatterternary\":[{\"type\":\"scatterternary\",\"marker\":{\"colorbar\":{\"outlinewidth\":0,\"ticks\":\"\"}}}],\"scattercarpet\":[{\"type\":\"scattercarpet\",\"marker\":{\"colorbar\":{\"outlinewidth\":0,\"ticks\":\"\"}}}],\"carpet\":[{\"aaxis\":{\"endlinecolor\":\"#2a3f5f\",\"gridcolor\":\"white\",\"linecolor\":\"white\",\"minorgridcolor\":\"white\",\"startlinecolor\":\"#2a3f5f\"},\"baxis\":{\"endlinecolor\":\"#2a3f5f\",\"gridcolor\":\"white\",\"linecolor\":\"white\",\"minorgridcolor\":\"white\",\"startlinecolor\":\"#2a3f5f\"},\"type\":\"carpet\"}],\"table\":[{\"cells\":{\"fill\":{\"color\":\"#EBF0F8\"},\"line\":{\"color\":\"white\"}},\"header\":{\"fill\":{\"color\":\"#C8D4E3\"},\"line\":{\"color\":\"white\"}},\"type\":\"table\"}],\"barpolar\":[{\"marker\":{\"line\":{\"color\":\"#E5ECF6\",\"width\":0.5},\"pattern\":{\"fillmode\":\"overlay\",\"size\":10,\"solidity\":0.2}},\"type\":\"barpolar\"}],\"pie\":[{\"automargin\":true,\"type\":\"pie\"}]},\"layout\":{\"autotypenumbers\":\"strict\",\"colorway\":[\"#636efa\",\"#EF553B\",\"#00cc96\",\"#ab63fa\",\"#FFA15A\",\"#19d3f3\",\"#FF6692\",\"#B6E880\",\"#FF97FF\",\"#FECB52\"],\"font\":{\"color\":\"#2a3f5f\"},\"hovermode\":\"closest\",\"hoverlabel\":{\"align\":\"left\"},\"paper_bgcolor\":\"white\",\"plot_bgcolor\":\"#E5ECF6\",\"polar\":{\"bgcolor\":\"#E5ECF6\",\"angularaxis\":{\"gridcolor\":\"white\",\"linecolor\":\"white\",\"ticks\":\"\"},\"radialaxis\":{\"gridcolor\":\"white\",\"linecolor\":\"white\",\"ticks\":\"\"}},\"ternary\":{\"bgcolor\":\"#E5ECF6\",\"aaxis\":{\"gridcolor\":\"white\",\"linecolor\":\"white\",\"ticks\":\"\"},\"baxis\":{\"gridcolor\":\"white\",\"linecolor\":\"white\",\"ticks\":\"\"},\"caxis\":{\"gridcolor\":\"white\",\"linecolor\":\"white\",\"ticks\":\"\"}},\"coloraxis\":{\"colorbar\":{\"outlinewidth\":0,\"ticks\":\"\"}},\"colorscale\":{\"sequential\":[[0.0,\"#0d0887\"],[0.1111111111111111,\"#46039f\"],[0.2222222222222222,\"#7201a8\"],[0.3333333333333333,\"#9c179e\"],[0.4444444444444444,\"#bd3786\"],[0.5555555555555556,\"#d8576b\"],[0.6666666666666666,\"#ed7953\"],[0.7777777777777778,\"#fb9f3a\"],[0.8888888888888888,\"#fdca26\"],[1.0,\"#f0f921\"]],\"sequentialminus\":[[0.0,\"#0d0887\"],[0.1111111111111111,\"#46039f\"],[0.2222222222222222,\"#7201a8\"],[0.3333333333333333,\"#9c179e\"],[0.4444444444444444,\"#bd3786\"],[0.5555555555555556,\"#d8576b\"],[0.6666666666666666,\"#ed7953\"],[0.7777777777777778,\"#fb9f3a\"],[0.8888888888888888,\"#fdca26\"],[1.0,\"#f0f921\"]],\"diverging\":[[0,\"#8e0152\"],[0.1,\"#c51b7d\"],[0.2,\"#de77ae\"],[0.3,\"#f1b6da\"],[0.4,\"#fde0ef\"],[0.5,\"#f7f7f7\"],[0.6,\"#e6f5d0\"],[0.7,\"#b8e186\"],[0.8,\"#7fbc41\"],[0.9,\"#4d9221\"],[1,\"#276419\"]]},\"xaxis\":{\"gridcolor\":\"white\",\"linecolor\":\"white\",\"ticks\":\"\",\"title\":{\"standoff\":15},\"zerolinecolor\":\"white\",\"automargin\":true,\"zerolinewidth\":2},\"yaxis\":{\"gridcolor\":\"white\",\"linecolor\":\"white\",\"ticks\":\"\",\"title\":{\"standoff\":15},\"zerolinecolor\":\"white\",\"automargin\":true,\"zerolinewidth\":2},\"scene\":{\"xaxis\":{\"backgroundcolor\":\"#E5ECF6\",\"gridcolor\":\"white\",\"linecolor\":\"white\",\"showbackground\":true,\"ticks\":\"\",\"zerolinecolor\":\"white\",\"gridwidth\":2},\"yaxis\":{\"backgroundcolor\":\"#E5ECF6\",\"gridcolor\":\"white\",\"linecolor\":\"white\",\"showbackground\":true,\"ticks\":\"\",\"zerolinecolor\":\"white\",\"gridwidth\":2},\"zaxis\":{\"backgroundcolor\":\"#E5ECF6\",\"gridcolor\":\"white\",\"linecolor\":\"white\",\"showbackground\":true,\"ticks\":\"\",\"zerolinecolor\":\"white\",\"gridwidth\":2}},\"shapedefaults\":{\"line\":{\"color\":\"#2a3f5f\"}},\"annotationdefaults\":{\"arrowcolor\":\"#2a3f5f\",\"arrowhead\":0,\"arrowwidth\":1},\"geo\":{\"bgcolor\":\"white\",\"landcolor\":\"#E5ECF6\",\"subunitcolor\":\"white\",\"showland\":true,\"showlakes\":true,\"lakecolor\":\"white\"},\"title\":{\"x\":0.05},\"mapbox\":{\"style\":\"light\"}}},\"legend\":{\"title\":{\"text\":\"Boys' function order\"}},\"title\":{\"text\":\"mcmurchie_davidson\"},\"autosize\":false,\"width\":1500,\"height\":700,\"xaxis\":{\"title\":{\"text\":\"$x$\"},\"range\":[0.0,20.0]},\"yaxis\":{\"title\":{\"text\":\"$\\\\max|\\\\Delta|$\"},\"type\":\"log\",\"range\":[-24,-4],\"exponentformat\":\"power\"},\"shapes\":[{\"line\":{\"width\":0.7},\"type\":\"line\",\"x0\":11.5,\"x1\":11.5,\"xref\":\"x\",\"y0\":0,\"y1\":1,\"yref\":\"y domain\"},{\"line\":{\"width\":0.7},\"type\":\"line\",\"x0\":13.5,\"x1\":13.5,\"xref\":\"x\",\"y0\":0,\"y1\":1,\"yref\":\"y domain\"},{\"line\":{\"color\":\"blue\",\"dash\":\"dot\",\"width\":0.5},\"type\":\"line\",\"x0\":0,\"x1\":1,\"xref\":\"x domain\",\"y0\":1e-14,\"y1\":1e-14,\"yref\":\"y\"},{\"line\":{\"color\":\"red\",\"dash\":\"dot\",\"width\":0.5},\"type\":\"line\",\"x0\":0,\"x1\":1,\"xref\":\"x domain\",\"y0\":1e-16,\"y1\":1e-16,\"yref\":\"y\"},{\"line\":{\"color\":\"green\",\"dash\":\"dot\",\"width\":0.5},\"type\":\"line\",\"x0\":0,\"x1\":1,\"xref\":\"x domain\",\"y0\":1e-18,\"y1\":1e-18,\"yref\":\"y\"}]},                        {\"responsive\": true}                    ).then(function(){\n",
       "                            \n",
       "var gd = document.getElementById('7d13097b-0f4c-495e-b1a8-4728107bc9ac');\n",
       "var x = new MutationObserver(function (mutations, observer) {{\n",
       "        var display = window.getComputedStyle(gd).display;\n",
       "        if (!display || display === 'none') {{\n",
       "            console.log([gd, 'removed!']);\n",
       "            Plotly.purge(gd);\n",
       "            observer.disconnect();\n",
       "        }}\n",
       "}});\n",
       "\n",
       "// Listen for the removal of the full notebook cells\n",
       "var notebookContainer = gd.closest('#notebook-container');\n",
       "if (notebookContainer) {{\n",
       "    x.observe(notebookContainer, {childList: true});\n",
       "}}\n",
       "\n",
       "// Listen for the clearing of the current output cell\n",
       "var outputEl = gd.closest('.output');\n",
       "if (outputEl) {{\n",
       "    x.observe(outputEl, {childList: true});\n",
       "}}\n",
       "\n",
       "                        })                };                });            </script>        </div>"
      ]
     },
     "metadata": {},
     "output_type": "display_data"
    },
    {
     "data": {
      "application/vnd.plotly.v1+json": {
       "config": {
        "plotlyServerURL": "https://plot.ly"
       },
       "data": [
        {
         "hovertemplate": "x = %{x}<br>max(|&#x394;|) = %{y}<extra></extra>",
         "mode": "markers",
         "name": "1",
         "type": "scatter",
         "x": [
          11.49885,
          12,
          13.501365
         ],
         "y": [
          4.94384879621973e-05,
          6.063145587947155e-05,
          3.469446951953614e-18
         ]
        },
        {
         "hovertemplate": "x = %{x}<br>max(|&#x394;|) = %{y}<extra></extra>",
         "mode": "markers",
         "name": "2",
         "type": "scatter",
         "x": [
          11.49885,
          12,
          13.501365
         ],
         "y": [
          4.826699269488109e-05,
          5.914319369728781e-05,
          4.336808689942018e-19
         ]
        },
        {
         "hovertemplate": "x = %{x}<br>max(|&#x394;|) = %{y}<extra></extra>",
         "mode": "markers",
         "name": "3",
         "type": "scatter",
         "x": [
          11.49885,
          12,
          13.6365
         ],
         "y": [
          4.676651897746187e-05,
          5.725193943208136e-05,
          1.0842021724855044e-19
         ]
        },
        {
         "hovertemplate": "x = %{x}<br>max(|&#x394;|) = %{y}<extra></extra>",
         "mode": "markers",
         "name": "4",
         "type": "scatter",
         "x": [
          11.49885,
          12,
          13.65561
         ],
         "y": [
          4.5214977400869134e-05,
          5.53030933966513e-05,
          3.3881317890172014e-20
         ]
        },
        {
         "hovertemplate": "x = %{x}<br>max(|&#x394;|) = %{y}<extra></extra>",
         "mode": "markers",
         "name": "5",
         "type": "scatter",
         "x": [
          11.49885,
          12,
          13.65561
         ],
         "y": [
          4.362049458747538e-05,
          5.3306903930543285e-05,
          1.1858461261560205e-20
         ]
        },
        {
         "hovertemplate": "x = %{x}<br>max(|&#x394;|) = %{y}<extra></extra>",
         "mode": "markers",
         "name": "6",
         "type": "scatter",
         "x": [
          11.49885,
          12,
          13.65561
         ],
         "y": [
          4.200239179018177e-05,
          5.128727284947327e-05,
          5.929230630780102e-21
         ]
        },
        {
         "hovertemplate": "x = %{x}<br>max(|&#x394;|) = %{y}<extra></extra>",
         "mode": "markers",
         "name": "7",
         "type": "scatter",
         "x": [
          11.49885,
          12,
          13.65561
         ],
         "y": [
          4.03811130232895e-05,
          4.926928359566642e-05,
          2.964615315390051e-21
         ]
        },
        {
         "hovertemplate": "x = %{x}<br>max(|&#x394;|) = %{y}<extra></extra>",
         "mode": "markers",
         "name": "8",
         "type": "scatter",
         "x": [
          11.49885,
          12,
          13.65561
         ],
         "y": [
          3.877832914142946e-05,
          4.727929606913576e-05,
          1.9058241313221758e-21
         ]
        },
        {
         "hovertemplate": "x = %{x}<br>max(|&#x394;|) = %{y}<extra></extra>",
         "mode": "markers",
         "name": "9",
         "type": "scatter",
         "x": [
          11.49885,
          12,
          13.75935
         ],
         "y": [
          3.7213787223638894e-05,
          4.53411060765618e-05,
          1.2705494208814505e-21
         ]
        },
        {
         "hovertemplate": "x = %{x}<br>max(|&#x394;|) = %{y}<extra></extra>",
         "mode": "markers",
         "name": "10",
         "type": "scatter",
         "x": [
          11.49885,
          12,
          13.509555
         ],
         "y": [
          3.5702906697760266e-05,
          4.347307485693287e-05,
          9.529120656610879e-22
         ]
        },
        {
         "hovertemplate": "x = %{x}<br>max(|&#x394;|) = %{y}<extra></extra>",
         "mode": "markers",
         "name": "11",
         "type": "scatter",
         "x": [
          11.49885,
          12,
          13.75935
         ],
         "y": [
          3.425617604353008e-05,
          4.168747068235073e-05,
          7.940933880509066e-22
         ]
        },
        {
         "hovertemplate": "x = %{x}<br>max(|&#x394;|) = %{y}<extra></extra>",
         "mode": "markers",
         "name": "12",
         "type": "scatter",
         "x": [
          11.49885,
          12,
          13.75935
         ],
         "y": [
          3.287967218207001e-05,
          3.999116521354483e-05,
          6.88214269644119e-22
         ]
        },
        {
         "hovertemplate": "x = %{x}<br>max(|&#x394;|) = %{y}<extra></extra>",
         "mode": "markers",
         "name": "13",
         "type": "scatter",
         "x": [
          11.49885,
          12,
          13.75935
         ],
         "y": [
          3.157599276815561e-05,
          3.8386811244644874e-05,
          6.88214269644119e-22
         ]
        },
        {
         "hovertemplate": "x = %{x}<br>max(|&#x394;|) = %{y}<extra></extra>",
         "mode": "markers",
         "name": "14",
         "type": "scatter",
         "x": [
          11.49885,
          12,
          13.75935
         ],
         "y": [
          3.0345204299457853e-05,
          3.687402081063307e-05,
          6.617444900424221e-22
         ]
        },
        {
         "hovertemplate": "x = %{x}<br>max(|&#x394;|) = %{y}<extra></extra>",
         "mode": "markers",
         "name": "15",
         "type": "scatter",
         "x": [
          11.49885,
          12,
          13.75935
         ],
         "y": [
          2.9185645140034066e-05,
          3.5450353292454056e-05,
          7.146840492458159e-22
         ]
        },
        {
         "hovertemplate": "x = %{x}<br>max(|&#x394;|) = %{y}<extra></extra>",
         "mode": "markers",
         "name": "16",
         "type": "scatter",
         "x": [
          11.49885,
          12,
          13.509555
         ],
         "y": [
          2.809454662866419e-05,
          3.411207374379722e-05,
          8.205631676526035e-22
         ]
        },
        {
         "hovertemplate": "x = %{x}<br>max(|&#x394;|) = %{y}<extra></extra>",
         "mode": "markers",
         "name": "17",
         "type": "scatter",
         "x": [
          11.49885,
          12,
          13.509555
         ],
         "y": [
          2.706848791533062e-05,
          3.285470416250148e-05,
          1.0323214044661785e-21
         ]
        },
        {
         "hovertemplate": "x = %{x}<br>max(|&#x394;|) = %{y}<extra></extra>",
         "mode": "markers",
         "name": "18",
         "type": "scatter",
         "x": [
          11.49885,
          12,
          13.509555
         ],
         "y": [
          2.6103716452465975e-05,
          3.167340895813127e-05,
          1.3499587596865412e-21
         ]
        },
        {
         "hovertemplate": "x = %{x}<br>max(|&#x394;|) = %{y}<extra></extra>",
         "mode": "markers",
         "name": "19",
         "type": "scatter",
         "x": [
          11.49885,
          12,
          13.509555
         ],
         "y": [
          2.51963666712011e-05,
          3.056325564709456e-05,
          1.8661194619196304e-21
         ]
        },
        {
         "hovertemplate": "x = %{x}<br>max(|&#x394;|) = %{y}<extra></extra>",
         "mode": "markers",
         "name": "20",
         "type": "scatter",
         "x": [
          11.49885,
          12,
          13.509555
         ],
         "y": [
          2.4342604410878458e-05,
          2.95193851341586e-05,
          2.686682629572234e-21
         ]
        }
       ],
       "layout": {
        "autosize": false,
        "dragmode": "zoom",
        "height": 700,
        "legend": {
         "title": {
          "text": "Boys' function order"
         }
        },
        "shapes": [
         {
          "line": {
           "width": 0.7
          },
          "type": "line",
          "x0": 11.5,
          "x1": 11.5,
          "xref": "x",
          "y0": 0,
          "y1": 1,
          "yref": "y domain"
         },
         {
          "line": {
           "width": 0.7
          },
          "type": "line",
          "x0": 13.5,
          "x1": 13.5,
          "xref": "x",
          "y0": 0,
          "y1": 1,
          "yref": "y domain"
         },
         {
          "line": {
           "color": "blue",
           "dash": "dot",
           "width": 0.5
          },
          "type": "line",
          "x0": 0,
          "x1": 1,
          "xref": "x domain",
          "y0": 1e-14,
          "y1": 1e-14,
          "yref": "y"
         },
         {
          "line": {
           "color": "red",
           "dash": "dot",
           "width": 0.5
          },
          "type": "line",
          "x0": 0,
          "x1": 1,
          "xref": "x domain",
          "y0": 1e-16,
          "y1": 1e-16,
          "yref": "y"
         },
         {
          "line": {
           "color": "green",
           "dash": "dot",
           "width": 0.5
          },
          "type": "line",
          "x0": 0,
          "x1": 1,
          "xref": "x domain",
          "y0": 1e-18,
          "y1": 1e-18,
          "yref": "y"
         }
        ],
        "template": {
         "data": {
          "bar": [
           {
            "error_x": {
             "color": "#2a3f5f"
            },
            "error_y": {
             "color": "#2a3f5f"
            },
            "marker": {
             "line": {
              "color": "#E5ECF6",
              "width": 0.5
             },
             "pattern": {
              "fillmode": "overlay",
              "size": 10,
              "solidity": 0.2
             }
            },
            "type": "bar"
           }
          ],
          "barpolar": [
           {
            "marker": {
             "line": {
              "color": "#E5ECF6",
              "width": 0.5
             },
             "pattern": {
              "fillmode": "overlay",
              "size": 10,
              "solidity": 0.2
             }
            },
            "type": "barpolar"
           }
          ],
          "carpet": [
           {
            "aaxis": {
             "endlinecolor": "#2a3f5f",
             "gridcolor": "white",
             "linecolor": "white",
             "minorgridcolor": "white",
             "startlinecolor": "#2a3f5f"
            },
            "baxis": {
             "endlinecolor": "#2a3f5f",
             "gridcolor": "white",
             "linecolor": "white",
             "minorgridcolor": "white",
             "startlinecolor": "#2a3f5f"
            },
            "type": "carpet"
           }
          ],
          "choropleth": [
           {
            "colorbar": {
             "outlinewidth": 0,
             "ticks": ""
            },
            "type": "choropleth"
           }
          ],
          "contour": [
           {
            "colorbar": {
             "outlinewidth": 0,
             "ticks": ""
            },
            "colorscale": [
             [
              0,
              "#0d0887"
             ],
             [
              0.1111111111111111,
              "#46039f"
             ],
             [
              0.2222222222222222,
              "#7201a8"
             ],
             [
              0.3333333333333333,
              "#9c179e"
             ],
             [
              0.4444444444444444,
              "#bd3786"
             ],
             [
              0.5555555555555556,
              "#d8576b"
             ],
             [
              0.6666666666666666,
              "#ed7953"
             ],
             [
              0.7777777777777778,
              "#fb9f3a"
             ],
             [
              0.8888888888888888,
              "#fdca26"
             ],
             [
              1,
              "#f0f921"
             ]
            ],
            "type": "contour"
           }
          ],
          "contourcarpet": [
           {
            "colorbar": {
             "outlinewidth": 0,
             "ticks": ""
            },
            "type": "contourcarpet"
           }
          ],
          "heatmap": [
           {
            "colorbar": {
             "outlinewidth": 0,
             "ticks": ""
            },
            "colorscale": [
             [
              0,
              "#0d0887"
             ],
             [
              0.1111111111111111,
              "#46039f"
             ],
             [
              0.2222222222222222,
              "#7201a8"
             ],
             [
              0.3333333333333333,
              "#9c179e"
             ],
             [
              0.4444444444444444,
              "#bd3786"
             ],
             [
              0.5555555555555556,
              "#d8576b"
             ],
             [
              0.6666666666666666,
              "#ed7953"
             ],
             [
              0.7777777777777778,
              "#fb9f3a"
             ],
             [
              0.8888888888888888,
              "#fdca26"
             ],
             [
              1,
              "#f0f921"
             ]
            ],
            "type": "heatmap"
           }
          ],
          "heatmapgl": [
           {
            "colorbar": {
             "outlinewidth": 0,
             "ticks": ""
            },
            "colorscale": [
             [
              0,
              "#0d0887"
             ],
             [
              0.1111111111111111,
              "#46039f"
             ],
             [
              0.2222222222222222,
              "#7201a8"
             ],
             [
              0.3333333333333333,
              "#9c179e"
             ],
             [
              0.4444444444444444,
              "#bd3786"
             ],
             [
              0.5555555555555556,
              "#d8576b"
             ],
             [
              0.6666666666666666,
              "#ed7953"
             ],
             [
              0.7777777777777778,
              "#fb9f3a"
             ],
             [
              0.8888888888888888,
              "#fdca26"
             ],
             [
              1,
              "#f0f921"
             ]
            ],
            "type": "heatmapgl"
           }
          ],
          "histogram": [
           {
            "marker": {
             "pattern": {
              "fillmode": "overlay",
              "size": 10,
              "solidity": 0.2
             }
            },
            "type": "histogram"
           }
          ],
          "histogram2d": [
           {
            "colorbar": {
             "outlinewidth": 0,
             "ticks": ""
            },
            "colorscale": [
             [
              0,
              "#0d0887"
             ],
             [
              0.1111111111111111,
              "#46039f"
             ],
             [
              0.2222222222222222,
              "#7201a8"
             ],
             [
              0.3333333333333333,
              "#9c179e"
             ],
             [
              0.4444444444444444,
              "#bd3786"
             ],
             [
              0.5555555555555556,
              "#d8576b"
             ],
             [
              0.6666666666666666,
              "#ed7953"
             ],
             [
              0.7777777777777778,
              "#fb9f3a"
             ],
             [
              0.8888888888888888,
              "#fdca26"
             ],
             [
              1,
              "#f0f921"
             ]
            ],
            "type": "histogram2d"
           }
          ],
          "histogram2dcontour": [
           {
            "colorbar": {
             "outlinewidth": 0,
             "ticks": ""
            },
            "colorscale": [
             [
              0,
              "#0d0887"
             ],
             [
              0.1111111111111111,
              "#46039f"
             ],
             [
              0.2222222222222222,
              "#7201a8"
             ],
             [
              0.3333333333333333,
              "#9c179e"
             ],
             [
              0.4444444444444444,
              "#bd3786"
             ],
             [
              0.5555555555555556,
              "#d8576b"
             ],
             [
              0.6666666666666666,
              "#ed7953"
             ],
             [
              0.7777777777777778,
              "#fb9f3a"
             ],
             [
              0.8888888888888888,
              "#fdca26"
             ],
             [
              1,
              "#f0f921"
             ]
            ],
            "type": "histogram2dcontour"
           }
          ],
          "mesh3d": [
           {
            "colorbar": {
             "outlinewidth": 0,
             "ticks": ""
            },
            "type": "mesh3d"
           }
          ],
          "parcoords": [
           {
            "line": {
             "colorbar": {
              "outlinewidth": 0,
              "ticks": ""
             }
            },
            "type": "parcoords"
           }
          ],
          "pie": [
           {
            "automargin": true,
            "type": "pie"
           }
          ],
          "scatter": [
           {
            "fillpattern": {
             "fillmode": "overlay",
             "size": 10,
             "solidity": 0.2
            },
            "type": "scatter"
           }
          ],
          "scatter3d": [
           {
            "line": {
             "colorbar": {
              "outlinewidth": 0,
              "ticks": ""
             }
            },
            "marker": {
             "colorbar": {
              "outlinewidth": 0,
              "ticks": ""
             }
            },
            "type": "scatter3d"
           }
          ],
          "scattercarpet": [
           {
            "marker": {
             "colorbar": {
              "outlinewidth": 0,
              "ticks": ""
             }
            },
            "type": "scattercarpet"
           }
          ],
          "scattergeo": [
           {
            "marker": {
             "colorbar": {
              "outlinewidth": 0,
              "ticks": ""
             }
            },
            "type": "scattergeo"
           }
          ],
          "scattergl": [
           {
            "marker": {
             "colorbar": {
              "outlinewidth": 0,
              "ticks": ""
             }
            },
            "type": "scattergl"
           }
          ],
          "scattermapbox": [
           {
            "marker": {
             "colorbar": {
              "outlinewidth": 0,
              "ticks": ""
             }
            },
            "type": "scattermapbox"
           }
          ],
          "scatterpolar": [
           {
            "marker": {
             "colorbar": {
              "outlinewidth": 0,
              "ticks": ""
             }
            },
            "type": "scatterpolar"
           }
          ],
          "scatterpolargl": [
           {
            "marker": {
             "colorbar": {
              "outlinewidth": 0,
              "ticks": ""
             }
            },
            "type": "scatterpolargl"
           }
          ],
          "scatterternary": [
           {
            "marker": {
             "colorbar": {
              "outlinewidth": 0,
              "ticks": ""
             }
            },
            "type": "scatterternary"
           }
          ],
          "surface": [
           {
            "colorbar": {
             "outlinewidth": 0,
             "ticks": ""
            },
            "colorscale": [
             [
              0,
              "#0d0887"
             ],
             [
              0.1111111111111111,
              "#46039f"
             ],
             [
              0.2222222222222222,
              "#7201a8"
             ],
             [
              0.3333333333333333,
              "#9c179e"
             ],
             [
              0.4444444444444444,
              "#bd3786"
             ],
             [
              0.5555555555555556,
              "#d8576b"
             ],
             [
              0.6666666666666666,
              "#ed7953"
             ],
             [
              0.7777777777777778,
              "#fb9f3a"
             ],
             [
              0.8888888888888888,
              "#fdca26"
             ],
             [
              1,
              "#f0f921"
             ]
            ],
            "type": "surface"
           }
          ],
          "table": [
           {
            "cells": {
             "fill": {
              "color": "#EBF0F8"
             },
             "line": {
              "color": "white"
             }
            },
            "header": {
             "fill": {
              "color": "#C8D4E3"
             },
             "line": {
              "color": "white"
             }
            },
            "type": "table"
           }
          ]
         },
         "layout": {
          "annotationdefaults": {
           "arrowcolor": "#2a3f5f",
           "arrowhead": 0,
           "arrowwidth": 1
          },
          "autotypenumbers": "strict",
          "coloraxis": {
           "colorbar": {
            "outlinewidth": 0,
            "ticks": ""
           }
          },
          "colorscale": {
           "diverging": [
            [
             0,
             "#8e0152"
            ],
            [
             0.1,
             "#c51b7d"
            ],
            [
             0.2,
             "#de77ae"
            ],
            [
             0.3,
             "#f1b6da"
            ],
            [
             0.4,
             "#fde0ef"
            ],
            [
             0.5,
             "#f7f7f7"
            ],
            [
             0.6,
             "#e6f5d0"
            ],
            [
             0.7,
             "#b8e186"
            ],
            [
             0.8,
             "#7fbc41"
            ],
            [
             0.9,
             "#4d9221"
            ],
            [
             1,
             "#276419"
            ]
           ],
           "sequential": [
            [
             0,
             "#0d0887"
            ],
            [
             0.1111111111111111,
             "#46039f"
            ],
            [
             0.2222222222222222,
             "#7201a8"
            ],
            [
             0.3333333333333333,
             "#9c179e"
            ],
            [
             0.4444444444444444,
             "#bd3786"
            ],
            [
             0.5555555555555556,
             "#d8576b"
            ],
            [
             0.6666666666666666,
             "#ed7953"
            ],
            [
             0.7777777777777778,
             "#fb9f3a"
            ],
            [
             0.8888888888888888,
             "#fdca26"
            ],
            [
             1,
             "#f0f921"
            ]
           ],
           "sequentialminus": [
            [
             0,
             "#0d0887"
            ],
            [
             0.1111111111111111,
             "#46039f"
            ],
            [
             0.2222222222222222,
             "#7201a8"
            ],
            [
             0.3333333333333333,
             "#9c179e"
            ],
            [
             0.4444444444444444,
             "#bd3786"
            ],
            [
             0.5555555555555556,
             "#d8576b"
            ],
            [
             0.6666666666666666,
             "#ed7953"
            ],
            [
             0.7777777777777778,
             "#fb9f3a"
            ],
            [
             0.8888888888888888,
             "#fdca26"
            ],
            [
             1,
             "#f0f921"
            ]
           ]
          },
          "colorway": [
           "#636efa",
           "#EF553B",
           "#00cc96",
           "#ab63fa",
           "#FFA15A",
           "#19d3f3",
           "#FF6692",
           "#B6E880",
           "#FF97FF",
           "#FECB52"
          ],
          "font": {
           "color": "#2a3f5f"
          },
          "geo": {
           "bgcolor": "white",
           "lakecolor": "white",
           "landcolor": "#E5ECF6",
           "showlakes": true,
           "showland": true,
           "subunitcolor": "white"
          },
          "hoverlabel": {
           "align": "left"
          },
          "hovermode": "closest",
          "mapbox": {
           "style": "light"
          },
          "paper_bgcolor": "white",
          "plot_bgcolor": "#E5ECF6",
          "polar": {
           "angularaxis": {
            "gridcolor": "white",
            "linecolor": "white",
            "ticks": ""
           },
           "bgcolor": "#E5ECF6",
           "radialaxis": {
            "gridcolor": "white",
            "linecolor": "white",
            "ticks": ""
           }
          },
          "scene": {
           "xaxis": {
            "backgroundcolor": "#E5ECF6",
            "gridcolor": "white",
            "gridwidth": 2,
            "linecolor": "white",
            "showbackground": true,
            "ticks": "",
            "zerolinecolor": "white"
           },
           "yaxis": {
            "backgroundcolor": "#E5ECF6",
            "gridcolor": "white",
            "gridwidth": 2,
            "linecolor": "white",
            "showbackground": true,
            "ticks": "",
            "zerolinecolor": "white"
           },
           "zaxis": {
            "backgroundcolor": "#E5ECF6",
            "gridcolor": "white",
            "gridwidth": 2,
            "linecolor": "white",
            "showbackground": true,
            "ticks": "",
            "zerolinecolor": "white"
           }
          },
          "shapedefaults": {
           "line": {
            "color": "#2a3f5f"
           }
          },
          "ternary": {
           "aaxis": {
            "gridcolor": "white",
            "linecolor": "white",
            "ticks": ""
           },
           "baxis": {
            "gridcolor": "white",
            "linecolor": "white",
            "ticks": ""
           },
           "bgcolor": "#E5ECF6",
           "caxis": {
            "gridcolor": "white",
            "linecolor": "white",
            "ticks": ""
           }
          },
          "title": {
           "x": 0.05
          },
          "xaxis": {
           "automargin": true,
           "gridcolor": "white",
           "linecolor": "white",
           "ticks": "",
           "title": {
            "standoff": 15
           },
           "zerolinecolor": "white",
           "zerolinewidth": 2
          },
          "yaxis": {
           "automargin": true,
           "gridcolor": "white",
           "linecolor": "white",
           "ticks": "",
           "title": {
            "standoff": 15
           },
           "zerolinecolor": "white",
           "zerolinewidth": 2
          }
         }
        },
        "title": {
         "text": "pade_5_6"
        },
        "width": 1500,
        "xaxis": {
         "autorange": false,
         "range": [
          11.311221936877404,
          12.209814806757901
         ],
         "title": {
          "text": "$x$"
         },
         "type": "linear"
        },
        "yaxis": {
         "autorange": false,
         "exponentformat": "power",
         "range": [
          -4.761875625971508,
          -4
         ],
         "title": {
          "text": "$\\max|\\Delta|$"
         },
         "type": "log"
        }
       }
      },
      "image/png": "[encoded data removed]",
      "text/html": [
       "<div>                            <div id=\"122cb446-aaa7-4264-8695-b7d8387d7663\" class=\"plotly-graph-div\" style=\"height:700px; width:1500px;\"></div>            <script type=\"text/javascript\">                require([\"plotly\"], function(Plotly) {                    window.PLOTLYENV=window.PLOTLYENV || {};                                    if (document.getElementById(\"122cb446-aaa7-4264-8695-b7d8387d7663\")) {                    Plotly.newPlot(                        \"122cb446-aaa7-4264-8695-b7d8387d7663\",                        [{\"hovertemplate\":\"x = %{x}<br>max(|&#x394;|) = %{y}<extra></extra>\",\"mode\":\"markers\",\"name\":\"1\",\"x\":[11.49885,12.0,13.501365],\"y\":[4.94384879621973e-05,6.063145587947155e-05,3.469446951953614e-18],\"type\":\"scatter\"},{\"hovertemplate\":\"x = %{x}<br>max(|&#x394;|) = %{y}<extra></extra>\",\"mode\":\"markers\",\"name\":\"2\",\"x\":[11.49885,12.0,13.501365],\"y\":[4.826699269488109e-05,5.914319369728781e-05,4.336808689942018e-19],\"type\":\"scatter\"},{\"hovertemplate\":\"x = %{x}<br>max(|&#x394;|) = %{y}<extra></extra>\",\"mode\":\"markers\",\"name\":\"3\",\"x\":[11.49885,12.0,13.6365],\"y\":[4.676651897746187e-05,5.725193943208136e-05,1.0842021724855044e-19],\"type\":\"scatter\"},{\"hovertemplate\":\"x = %{x}<br>max(|&#x394;|) = %{y}<extra></extra>\",\"mode\":\"markers\",\"name\":\"4\",\"x\":[11.49885,12.0,13.65561],\"y\":[4.5214977400869134e-05,5.53030933966513e-05,3.3881317890172014e-20],\"type\":\"scatter\"},{\"hovertemplate\":\"x = %{x}<br>max(|&#x394;|) = %{y}<extra></extra>\",\"mode\":\"markers\",\"name\":\"5\",\"x\":[11.49885,12.0,13.65561],\"y\":[4.362049458747538e-05,5.3306903930543285e-05,1.1858461261560205e-20],\"type\":\"scatter\"},{\"hovertemplate\":\"x = %{x}<br>max(|&#x394;|) = %{y}<extra></extra>\",\"mode\":\"markers\",\"name\":\"6\",\"x\":[11.49885,12.0,13.65561],\"y\":[4.200239179018177e-05,5.128727284947327e-05,5.929230630780102e-21],\"type\":\"scatter\"},{\"hovertemplate\":\"x = %{x}<br>max(|&#x394;|) = %{y}<extra></extra>\",\"mode\":\"markers\",\"name\":\"7\",\"x\":[11.49885,12.0,13.65561],\"y\":[4.03811130232895e-05,4.926928359566642e-05,2.964615315390051e-21],\"type\":\"scatter\"},{\"hovertemplate\":\"x = %{x}<br>max(|&#x394;|) = %{y}<extra></extra>\",\"mode\":\"markers\",\"name\":\"8\",\"x\":[11.49885,12.0,13.65561],\"y\":[3.877832914142946e-05,4.727929606913576e-05,1.9058241313221758e-21],\"type\":\"scatter\"},{\"hovertemplate\":\"x = %{x}<br>max(|&#x394;|) = %{y}<extra></extra>\",\"mode\":\"markers\",\"name\":\"9\",\"x\":[11.49885,12.0,13.75935],\"y\":[3.7213787223638894e-05,4.53411060765618e-05,1.2705494208814505e-21],\"type\":\"scatter\"},{\"hovertemplate\":\"x = %{x}<br>max(|&#x394;|) = %{y}<extra></extra>\",\"mode\":\"markers\",\"name\":\"10\",\"x\":[11.49885,12.0,13.509555],\"y\":[3.5702906697760266e-05,4.347307485693287e-05,9.529120656610879e-22],\"type\":\"scatter\"},{\"hovertemplate\":\"x = %{x}<br>max(|&#x394;|) = %{y}<extra></extra>\",\"mode\":\"markers\",\"name\":\"11\",\"x\":[11.49885,12.0,13.75935],\"y\":[3.425617604353008e-05,4.168747068235073e-05,7.940933880509066e-22],\"type\":\"scatter\"},{\"hovertemplate\":\"x = %{x}<br>max(|&#x394;|) = %{y}<extra></extra>\",\"mode\":\"markers\",\"name\":\"12\",\"x\":[11.49885,12.0,13.75935],\"y\":[3.287967218207001e-05,3.999116521354483e-05,6.88214269644119e-22],\"type\":\"scatter\"},{\"hovertemplate\":\"x = %{x}<br>max(|&#x394;|) = %{y}<extra></extra>\",\"mode\":\"markers\",\"name\":\"13\",\"x\":[11.49885,12.0,13.75935],\"y\":[3.157599276815561e-05,3.8386811244644874e-05,6.88214269644119e-22],\"type\":\"scatter\"},{\"hovertemplate\":\"x = %{x}<br>max(|&#x394;|) = %{y}<extra></extra>\",\"mode\":\"markers\",\"name\":\"14\",\"x\":[11.49885,12.0,13.75935],\"y\":[3.0345204299457853e-05,3.687402081063307e-05,6.617444900424221e-22],\"type\":\"scatter\"},{\"hovertemplate\":\"x = %{x}<br>max(|&#x394;|) = %{y}<extra></extra>\",\"mode\":\"markers\",\"name\":\"15\",\"x\":[11.49885,12.0,13.75935],\"y\":[2.9185645140034066e-05,3.5450353292454056e-05,7.146840492458159e-22],\"type\":\"scatter\"},{\"hovertemplate\":\"x = %{x}<br>max(|&#x394;|) = %{y}<extra></extra>\",\"mode\":\"markers\",\"name\":\"16\",\"x\":[11.49885,12.0,13.509555],\"y\":[2.809454662866419e-05,3.411207374379722e-05,8.205631676526035e-22],\"type\":\"scatter\"},{\"hovertemplate\":\"x = %{x}<br>max(|&#x394;|) = %{y}<extra></extra>\",\"mode\":\"markers\",\"name\":\"17\",\"x\":[11.49885,12.0,13.509555],\"y\":[2.706848791533062e-05,3.285470416250148e-05,1.0323214044661785e-21],\"type\":\"scatter\"},{\"hovertemplate\":\"x = %{x}<br>max(|&#x394;|) = %{y}<extra></extra>\",\"mode\":\"markers\",\"name\":\"18\",\"x\":[11.49885,12.0,13.509555],\"y\":[2.6103716452465975e-05,3.167340895813127e-05,1.3499587596865412e-21],\"type\":\"scatter\"},{\"hovertemplate\":\"x = %{x}<br>max(|&#x394;|) = %{y}<extra></extra>\",\"mode\":\"markers\",\"name\":\"19\",\"x\":[11.49885,12.0,13.509555],\"y\":[2.51963666712011e-05,3.056325564709456e-05,1.8661194619196304e-21],\"type\":\"scatter\"},{\"hovertemplate\":\"x = %{x}<br>max(|&#x394;|) = %{y}<extra></extra>\",\"mode\":\"markers\",\"name\":\"20\",\"x\":[11.49885,12.0,13.509555],\"y\":[2.4342604410878458e-05,2.95193851341586e-05,2.686682629572234e-21],\"type\":\"scatter\"}],                        {\"template\":{\"data\":{\"histogram2dcontour\":[{\"type\":\"histogram2dcontour\",\"colorbar\":{\"outlinewidth\":0,\"ticks\":\"\"},\"colorscale\":[[0.0,\"#0d0887\"],[0.1111111111111111,\"#46039f\"],[0.2222222222222222,\"#7201a8\"],[0.3333333333333333,\"#9c179e\"],[0.4444444444444444,\"#bd3786\"],[0.5555555555555556,\"#d8576b\"],[0.6666666666666666,\"#ed7953\"],[0.7777777777777778,\"#fb9f3a\"],[0.8888888888888888,\"#fdca26\"],[1.0,\"#f0f921\"]]}],\"choropleth\":[{\"type\":\"choropleth\",\"colorbar\":{\"outlinewidth\":0,\"ticks\":\"\"}}],\"histogram2d\":[{\"type\":\"histogram2d\",\"colorbar\":{\"outlinewidth\":0,\"ticks\":\"\"},\"colorscale\":[[0.0,\"#0d0887\"],[0.1111111111111111,\"#46039f\"],[0.2222222222222222,\"#7201a8\"],[0.3333333333333333,\"#9c179e\"],[0.4444444444444444,\"#bd3786\"],[0.5555555555555556,\"#d8576b\"],[0.6666666666666666,\"#ed7953\"],[0.7777777777777778,\"#fb9f3a\"],[0.8888888888888888,\"#fdca26\"],[1.0,\"#f0f921\"]]}],\"heatmap\":[{\"type\":\"heatmap\",\"colorbar\":{\"outlinewidth\":0,\"ticks\":\"\"},\"colorscale\":[[0.0,\"#0d0887\"],[0.1111111111111111,\"#46039f\"],[0.2222222222222222,\"#7201a8\"],[0.3333333333333333,\"#9c179e\"],[0.4444444444444444,\"#bd3786\"],[0.5555555555555556,\"#d8576b\"],[0.6666666666666666,\"#ed7953\"],[0.7777777777777778,\"#fb9f3a\"],[0.8888888888888888,\"#fdca26\"],[1.0,\"#f0f921\"]]}],\"heatmapgl\":[{\"type\":\"heatmapgl\",\"colorbar\":{\"outlinewidth\":0,\"ticks\":\"\"},\"colorscale\":[[0.0,\"#0d0887\"],[0.1111111111111111,\"#46039f\"],[0.2222222222222222,\"#7201a8\"],[0.3333333333333333,\"#9c179e\"],[0.4444444444444444,\"#bd3786\"],[0.5555555555555556,\"#d8576b\"],[0.6666666666666666,\"#ed7953\"],[0.7777777777777778,\"#fb9f3a\"],[0.8888888888888888,\"#fdca26\"],[1.0,\"#f0f921\"]]}],\"contourcarpet\":[{\"type\":\"contourcarpet\",\"colorbar\":{\"outlinewidth\":0,\"ticks\":\"\"}}],\"contour\":[{\"type\":\"contour\",\"colorbar\":{\"outlinewidth\":0,\"ticks\":\"\"},\"colorscale\":[[0.0,\"#0d0887\"],[0.1111111111111111,\"#46039f\"],[0.2222222222222222,\"#7201a8\"],[0.3333333333333333,\"#9c179e\"],[0.4444444444444444,\"#bd3786\"],[0.5555555555555556,\"#d8576b\"],[0.6666666666666666,\"#ed7953\"],[0.7777777777777778,\"#fb9f3a\"],[0.8888888888888888,\"#fdca26\"],[1.0,\"#f0f921\"]]}],\"surface\":[{\"type\":\"surface\",\"colorbar\":{\"outlinewidth\":0,\"ticks\":\"\"},\"colorscale\":[[0.0,\"#0d0887\"],[0.1111111111111111,\"#46039f\"],[0.2222222222222222,\"#7201a8\"],[0.3333333333333333,\"#9c179e\"],[0.4444444444444444,\"#bd3786\"],[0.5555555555555556,\"#d8576b\"],[0.6666666666666666,\"#ed7953\"],[0.7777777777777778,\"#fb9f3a\"],[0.8888888888888888,\"#fdca26\"],[1.0,\"#f0f921\"]]}],\"mesh3d\":[{\"type\":\"mesh3d\",\"colorbar\":{\"outlinewidth\":0,\"ticks\":\"\"}}],\"scatter\":[{\"fillpattern\":{\"fillmode\":\"overlay\",\"size\":10,\"solidity\":0.2},\"type\":\"scatter\"}],\"parcoords\":[{\"type\":\"parcoords\",\"line\":{\"colorbar\":{\"outlinewidth\":0,\"ticks\":\"\"}}}],\"scatterpolargl\":[{\"type\":\"scatterpolargl\",\"marker\":{\"colorbar\":{\"outlinewidth\":0,\"ticks\":\"\"}}}],\"bar\":[{\"error_x\":{\"color\":\"#2a3f5f\"},\"error_y\":{\"color\":\"#2a3f5f\"},\"marker\":{\"line\":{\"color\":\"#E5ECF6\",\"width\":0.5},\"pattern\":{\"fillmode\":\"overlay\",\"size\":10,\"solidity\":0.2}},\"type\":\"bar\"}],\"scattergeo\":[{\"type\":\"scattergeo\",\"marker\":{\"colorbar\":{\"outlinewidth\":0,\"ticks\":\"\"}}}],\"scatterpolar\":[{\"type\":\"scatterpolar\",\"marker\":{\"colorbar\":{\"outlinewidth\":0,\"ticks\":\"\"}}}],\"histogram\":[{\"marker\":{\"pattern\":{\"fillmode\":\"overlay\",\"size\":10,\"solidity\":0.2}},\"type\":\"histogram\"}],\"scattergl\":[{\"type\":\"scattergl\",\"marker\":{\"colorbar\":{\"outlinewidth\":0,\"ticks\":\"\"}}}],\"scatter3d\":[{\"type\":\"scatter3d\",\"line\":{\"colorbar\":{\"outlinewidth\":0,\"ticks\":\"\"}},\"marker\":{\"colorbar\":{\"outlinewidth\":0,\"ticks\":\"\"}}}],\"scattermapbox\":[{\"type\":\"scattermapbox\",\"marker\":{\"colorbar\":{\"outlinewidth\":0,\"ticks\":\"\"}}}],\"scatterternary\":[{\"type\":\"scatterternary\",\"marker\":{\"colorbar\":{\"outlinewidth\":0,\"ticks\":\"\"}}}],\"scattercarpet\":[{\"type\":\"scattercarpet\",\"marker\":{\"colorbar\":{\"outlinewidth\":0,\"ticks\":\"\"}}}],\"carpet\":[{\"aaxis\":{\"endlinecolor\":\"#2a3f5f\",\"gridcolor\":\"white\",\"linecolor\":\"white\",\"minorgridcolor\":\"white\",\"startlinecolor\":\"#2a3f5f\"},\"baxis\":{\"endlinecolor\":\"#2a3f5f\",\"gridcolor\":\"white\",\"linecolor\":\"white\",\"minorgridcolor\":\"white\",\"startlinecolor\":\"#2a3f5f\"},\"type\":\"carpet\"}],\"table\":[{\"cells\":{\"fill\":{\"color\":\"#EBF0F8\"},\"line\":{\"color\":\"white\"}},\"header\":{\"fill\":{\"color\":\"#C8D4E3\"},\"line\":{\"color\":\"white\"}},\"type\":\"table\"}],\"barpolar\":[{\"marker\":{\"line\":{\"color\":\"#E5ECF6\",\"width\":0.5},\"pattern\":{\"fillmode\":\"overlay\",\"size\":10,\"solidity\":0.2}},\"type\":\"barpolar\"}],\"pie\":[{\"automargin\":true,\"type\":\"pie\"}]},\"layout\":{\"autotypenumbers\":\"strict\",\"colorway\":[\"#636efa\",\"#EF553B\",\"#00cc96\",\"#ab63fa\",\"#FFA15A\",\"#19d3f3\",\"#FF6692\",\"#B6E880\",\"#FF97FF\",\"#FECB52\"],\"font\":{\"color\":\"#2a3f5f\"},\"hovermode\":\"closest\",\"hoverlabel\":{\"align\":\"left\"},\"paper_bgcolor\":\"white\",\"plot_bgcolor\":\"#E5ECF6\",\"polar\":{\"bgcolor\":\"#E5ECF6\",\"angularaxis\":{\"gridcolor\":\"white\",\"linecolor\":\"white\",\"ticks\":\"\"},\"radialaxis\":{\"gridcolor\":\"white\",\"linecolor\":\"white\",\"ticks\":\"\"}},\"ternary\":{\"bgcolor\":\"#E5ECF6\",\"aaxis\":{\"gridcolor\":\"white\",\"linecolor\":\"white\",\"ticks\":\"\"},\"baxis\":{\"gridcolor\":\"white\",\"linecolor\":\"white\",\"ticks\":\"\"},\"caxis\":{\"gridcolor\":\"white\",\"linecolor\":\"white\",\"ticks\":\"\"}},\"coloraxis\":{\"colorbar\":{\"outlinewidth\":0,\"ticks\":\"\"}},\"colorscale\":{\"sequential\":[[0.0,\"#0d0887\"],[0.1111111111111111,\"#46039f\"],[0.2222222222222222,\"#7201a8\"],[0.3333333333333333,\"#9c179e\"],[0.4444444444444444,\"#bd3786\"],[0.5555555555555556,\"#d8576b\"],[0.6666666666666666,\"#ed7953\"],[0.7777777777777778,\"#fb9f3a\"],[0.8888888888888888,\"#fdca26\"],[1.0,\"#f0f921\"]],\"sequentialminus\":[[0.0,\"#0d0887\"],[0.1111111111111111,\"#46039f\"],[0.2222222222222222,\"#7201a8\"],[0.3333333333333333,\"#9c179e\"],[0.4444444444444444,\"#bd3786\"],[0.5555555555555556,\"#d8576b\"],[0.6666666666666666,\"#ed7953\"],[0.7777777777777778,\"#fb9f3a\"],[0.8888888888888888,\"#fdca26\"],[1.0,\"#f0f921\"]],\"diverging\":[[0,\"#8e0152\"],[0.1,\"#c51b7d\"],[0.2,\"#de77ae\"],[0.3,\"#f1b6da\"],[0.4,\"#fde0ef\"],[0.5,\"#f7f7f7\"],[0.6,\"#e6f5d0\"],[0.7,\"#b8e186\"],[0.8,\"#7fbc41\"],[0.9,\"#4d9221\"],[1,\"#276419\"]]},\"xaxis\":{\"gridcolor\":\"white\",\"linecolor\":\"white\",\"ticks\":\"\",\"title\":{\"standoff\":15},\"zerolinecolor\":\"white\",\"automargin\":true,\"zerolinewidth\":2},\"yaxis\":{\"gridcolor\":\"white\",\"linecolor\":\"white\",\"ticks\":\"\",\"title\":{\"standoff\":15},\"zerolinecolor\":\"white\",\"automargin\":true,\"zerolinewidth\":2},\"scene\":{\"xaxis\":{\"backgroundcolor\":\"#E5ECF6\",\"gridcolor\":\"white\",\"linecolor\":\"white\",\"showbackground\":true,\"ticks\":\"\",\"zerolinecolor\":\"white\",\"gridwidth\":2},\"yaxis\":{\"backgroundcolor\":\"#E5ECF6\",\"gridcolor\":\"white\",\"linecolor\":\"white\",\"showbackground\":true,\"ticks\":\"\",\"zerolinecolor\":\"white\",\"gridwidth\":2},\"zaxis\":{\"backgroundcolor\":\"#E5ECF6\",\"gridcolor\":\"white\",\"linecolor\":\"white\",\"showbackground\":true,\"ticks\":\"\",\"zerolinecolor\":\"white\",\"gridwidth\":2}},\"shapedefaults\":{\"line\":{\"color\":\"#2a3f5f\"}},\"annotationdefaults\":{\"arrowcolor\":\"#2a3f5f\",\"arrowhead\":0,\"arrowwidth\":1},\"geo\":{\"bgcolor\":\"white\",\"landcolor\":\"#E5ECF6\",\"subunitcolor\":\"white\",\"showland\":true,\"showlakes\":true,\"lakecolor\":\"white\"},\"title\":{\"x\":0.05},\"mapbox\":{\"style\":\"light\"}}},\"legend\":{\"title\":{\"text\":\"Boys' function order\"}},\"title\":{\"text\":\"pade_5_6\"},\"autosize\":false,\"width\":1500,\"height\":700,\"xaxis\":{\"title\":{\"text\":\"$x$\"},\"range\":[0.0,20.0]},\"yaxis\":{\"title\":{\"text\":\"$\\\\max|\\\\Delta|$\"},\"type\":\"log\",\"range\":[-24,-4],\"exponentformat\":\"power\"},\"shapes\":[{\"line\":{\"width\":0.7},\"type\":\"line\",\"x0\":11.5,\"x1\":11.5,\"xref\":\"x\",\"y0\":0,\"y1\":1,\"yref\":\"y domain\"},{\"line\":{\"width\":0.7},\"type\":\"line\",\"x0\":13.5,\"x1\":13.5,\"xref\":\"x\",\"y0\":0,\"y1\":1,\"yref\":\"y domain\"},{\"line\":{\"color\":\"blue\",\"dash\":\"dot\",\"width\":0.5},\"type\":\"line\",\"x0\":0,\"x1\":1,\"xref\":\"x domain\",\"y0\":1e-14,\"y1\":1e-14,\"yref\":\"y\"},{\"line\":{\"color\":\"red\",\"dash\":\"dot\",\"width\":0.5},\"type\":\"line\",\"x0\":0,\"x1\":1,\"xref\":\"x domain\",\"y0\":1e-16,\"y1\":1e-16,\"yref\":\"y\"},{\"line\":{\"color\":\"green\",\"dash\":\"dot\",\"width\":0.5},\"type\":\"line\",\"x0\":0,\"x1\":1,\"xref\":\"x domain\",\"y0\":1e-18,\"y1\":1e-18,\"yref\":\"y\"}]},                        {\"responsive\": true}                    ).then(function(){\n",
       "                            \n",
       "var gd = document.getElementById('122cb446-aaa7-4264-8695-b7d8387d7663');\n",
       "var x = new MutationObserver(function (mutations, observer) {{\n",
       "        var display = window.getComputedStyle(gd).display;\n",
       "        if (!display || display === 'none') {{\n",
       "            console.log([gd, 'removed!']);\n",
       "            Plotly.purge(gd);\n",
       "            observer.disconnect();\n",
       "        }}\n",
       "}});\n",
       "\n",
       "// Listen for the removal of the full notebook cells\n",
       "var notebookContainer = gd.closest('#notebook-container');\n",
       "if (notebookContainer) {{\n",
       "    x.observe(notebookContainer, {childList: true});\n",
       "}}\n",
       "\n",
       "// Listen for the clearing of the current output cell\n",
       "var outputEl = gd.closest('.output');\n",
       "if (outputEl) {{\n",
       "    x.observe(outputEl, {childList: true});\n",
       "}}\n",
       "\n",
       "                        })                };                });            </script>        </div>"
      ]
     },
     "metadata": {},
     "output_type": "display_data"
    },
    {
     "data": {
      "application/vnd.plotly.v1+json": {
       "config": {
        "plotlyServerURL": "https://plot.ly"
       },
       "data": [
        {
         "hovertemplate": "x = %{x}<br>max(|&#x394;|) = %{y}<extra></extra>",
         "mode": "markers",
         "name": "1",
         "type": "scatter",
         "x": [
          11.49885,
          12,
          13.501365
         ],
         "y": [
          4.02331020235569e-09,
          6.5218278850337486e-09,
          3.469446951953614e-18
         ]
        },
        {
         "hovertemplate": "x = %{x}<br>max(|&#x394;|) = %{y}<extra></extra>",
         "mode": "markers",
         "name": "2",
         "type": "scatter",
         "x": [
          11.49885,
          12,
          13.501365
         ],
         "y": [
          3.9816939732297e-09,
          6.4514630972525855e-09,
          4.336808689942018e-19
         ]
        },
        {
         "hovertemplate": "x = %{x}<br>max(|&#x394;|) = %{y}<extra></extra>",
         "mode": "markers",
         "name": "3",
         "type": "scatter",
         "x": [
          11.49885,
          12,
          13.6365
         ],
         "y": [
          3.92956986123693e-09,
          6.364086042659131e-09,
          1.0842021724855044e-19
         ]
        },
        {
         "hovertemplate": "x = %{x}<br>max(|&#x394;|) = %{y}<extra></extra>",
         "mode": "markers",
         "name": "4",
         "type": "scatter",
         "x": [
          11.49885,
          12,
          13.65561
         ],
         "y": [
          3.874408888279637e-09,
          6.271906578673211e-09,
          3.3881317890172014e-20
         ]
        },
        {
         "hovertemplate": "x = %{x}<br>max(|&#x394;|) = %{y}<extra></extra>",
         "mode": "markers",
         "name": "5",
         "type": "scatter",
         "x": [
          11.49885,
          12,
          13.65561
         ],
         "y": [
          3.816402083408037e-09,
          6.175246629951353e-09,
          1.1858461261560205e-20
         ]
        },
        {
         "hovertemplate": "x = %{x}<br>max(|&#x394;|) = %{y}<extra></extra>",
         "mode": "markers",
         "name": "6",
         "type": "scatter",
         "x": [
          11.49885,
          12,
          13.65561
         ],
         "y": [
          3.755856955123488e-09,
          6.074615805670382e-09,
          5.929230630780102e-21
         ]
        },
        {
         "hovertemplate": "x = %{x}<br>max(|&#x394;|) = %{y}<extra></extra>",
         "mode": "markers",
         "name": "7",
         "type": "scatter",
         "x": [
          11.49885,
          12,
          13.65561
         ],
         "y": [
          3.6931095979747183e-09,
          5.970567982863242e-09,
          2.964615315390051e-21
         ]
        },
        {
         "hovertemplate": "x = %{x}<br>max(|&#x394;|) = %{y}<extra></extra>",
         "mode": "markers",
         "name": "8",
         "type": "scatter",
         "x": [
          11.49885,
          12,
          13.65561
         ],
         "y": [
          3.628521499451993e-09,
          5.863695884084217e-09,
          1.9058241313221758e-21
         ]
        },
        {
         "hovertemplate": "x = %{x}<br>max(|&#x394;|) = %{y}<extra></extra>",
         "mode": "markers",
         "name": "9",
         "type": "scatter",
         "x": [
          11.49885,
          12,
          13.75935
         ],
         "y": [
          3.5624715353766806e-09,
          5.754617912394696e-09,
          1.2705494208814505e-21
         ]
        },
        {
         "hovertemplate": "x = %{x}<br>max(|&#x394;|) = %{y}<extra></extra>",
         "mode": "markers",
         "name": "10",
         "type": "scatter",
         "x": [
          11.49885,
          12,
          13.509555
         ],
         "y": [
          3.495346516532871e-09,
          5.6439627587772115e-09,
          9.529120656610879e-22
         ]
        },
        {
         "hovertemplate": "x = %{x}<br>max(|&#x394;|) = %{y}<extra></extra>",
         "mode": "markers",
         "name": "11",
         "type": "scatter",
         "x": [
          11.49885,
          12,
          13.75935
         ],
         "y": [
          3.427530573347667e-09,
          5.532352230577012e-09,
          7.940933880509066e-22
         ]
        },
        {
         "hovertemplate": "x = %{x}<br>max(|&#x394;|) = %{y}<extra></extra>",
         "mode": "markers",
         "name": "12",
         "type": "scatter",
         "x": [
          11.49885,
          12,
          13.75935
         ],
         "y": [
          3.3593942685017386e-09,
          5.42038380011761e-09,
          6.88214269644119e-22
         ]
        },
        {
         "hovertemplate": "x = %{x}<br>max(|&#x394;|) = %{y}<extra></extra>",
         "mode": "markers",
         "name": "13",
         "type": "scatter",
         "x": [
          11.49885,
          12,
          13.75935
         ],
         "y": [
          3.2912846562470054e-09,
          5.308614791739577e-09,
          6.88214269644119e-22
         ]
        },
        {
         "hovertemplate": "x = %{x}<br>max(|&#x394;|) = %{y}<extra></extra>",
         "mode": "markers",
         "name": "14",
         "type": "scatter",
         "x": [
          11.49885,
          12,
          13.75935
         ],
         "y": [
          3.2235173943737735e-09,
          5.197549982788476e-09,
          6.617444900424221e-22
         ]
        },
        {
         "hovertemplate": "x = %{x}<br>max(|&#x394;|) = %{y}<extra></extra>",
         "mode": "markers",
         "name": "15",
         "type": "scatter",
         "x": [
          11.49885,
          12,
          13.75935
         ],
         "y": [
          3.1563715416454365e-09,
          5.087633592066069e-09,
          7.146840492458159e-22
         ]
        },
        {
         "hovertemplate": "x = %{x}<br>max(|&#x394;|) = %{y}<extra></extra>",
         "mode": "markers",
         "name": "16",
         "type": "scatter",
         "x": [
          11.49885,
          12,
          13.509555
         ],
         "y": [
          3.090087100412005e-09,
          4.979245713155522e-09,
          8.205631676526035e-22
         ]
        },
        {
         "hovertemplate": "x = %{x}<br>max(|&#x394;|) = %{y}<extra></extra>",
         "mode": "markers",
         "name": "17",
         "type": "scatter",
         "x": [
          11.49885,
          12,
          13.509555
         ],
         "y": [
          3.0248649438628937e-09,
          4.872702555471261e-09,
          1.0323214044661785e-21
         ]
        },
        {
         "hovertemplate": "x = %{x}<br>max(|&#x394;|) = %{y}<extra></extra>",
         "mode": "markers",
         "name": "18",
         "type": "scatter",
         "x": [
          11.49885,
          12,
          13.509555
         ],
         "y": [
          2.9608685110459402e-09,
          4.7682595139430045e-09,
          1.3499587596865412e-21
         ]
        },
        {
         "hovertemplate": "x = %{x}<br>max(|&#x394;|) = %{y}<extra></extra>",
         "mode": "markers",
         "name": "19",
         "type": "scatter",
         "x": [
          11.49885,
          12,
          13.509555
         ],
         "y": [
          2.8982267107369053e-09,
          4.666116108393742e-09,
          1.8661194619196304e-21
         ]
        },
        {
         "hovertemplate": "x = %{x}<br>max(|&#x394;|) = %{y}<extra></extra>",
         "mode": "markers",
         "name": "20",
         "type": "scatter",
         "x": [
          11.49885,
          12,
          13.509555
         ],
         "y": [
          2.837037467039451e-09,
          4.5664219273365224e-09,
          2.686682629572234e-21
         ]
        }
       ],
       "layout": {
        "autosize": false,
        "height": 700,
        "legend": {
         "title": {
          "text": "Boys' function order"
         }
        },
        "shapes": [
         {
          "line": {
           "width": 0.7
          },
          "type": "line",
          "x0": 11.5,
          "x1": 11.5,
          "xref": "x",
          "y0": 0,
          "y1": 1,
          "yref": "y domain"
         },
         {
          "line": {
           "width": 0.7
          },
          "type": "line",
          "x0": 13.5,
          "x1": 13.5,
          "xref": "x",
          "y0": 0,
          "y1": 1,
          "yref": "y domain"
         },
         {
          "line": {
           "color": "blue",
           "dash": "dot",
           "width": 0.5
          },
          "type": "line",
          "x0": 0,
          "x1": 1,
          "xref": "x domain",
          "y0": 1e-14,
          "y1": 1e-14,
          "yref": "y"
         },
         {
          "line": {
           "color": "red",
           "dash": "dot",
           "width": 0.5
          },
          "type": "line",
          "x0": 0,
          "x1": 1,
          "xref": "x domain",
          "y0": 1e-16,
          "y1": 1e-16,
          "yref": "y"
         },
         {
          "line": {
           "color": "green",
           "dash": "dot",
           "width": 0.5
          },
          "type": "line",
          "x0": 0,
          "x1": 1,
          "xref": "x domain",
          "y0": 1e-18,
          "y1": 1e-18,
          "yref": "y"
         }
        ],
        "template": {
         "data": {
          "bar": [
           {
            "error_x": {
             "color": "#2a3f5f"
            },
            "error_y": {
             "color": "#2a3f5f"
            },
            "marker": {
             "line": {
              "color": "#E5ECF6",
              "width": 0.5
             },
             "pattern": {
              "fillmode": "overlay",
              "size": 10,
              "solidity": 0.2
             }
            },
            "type": "bar"
           }
          ],
          "barpolar": [
           {
            "marker": {
             "line": {
              "color": "#E5ECF6",
              "width": 0.5
             },
             "pattern": {
              "fillmode": "overlay",
              "size": 10,
              "solidity": 0.2
             }
            },
            "type": "barpolar"
           }
          ],
          "carpet": [
           {
            "aaxis": {
             "endlinecolor": "#2a3f5f",
             "gridcolor": "white",
             "linecolor": "white",
             "minorgridcolor": "white",
             "startlinecolor": "#2a3f5f"
            },
            "baxis": {
             "endlinecolor": "#2a3f5f",
             "gridcolor": "white",
             "linecolor": "white",
             "minorgridcolor": "white",
             "startlinecolor": "#2a3f5f"
            },
            "type": "carpet"
           }
          ],
          "choropleth": [
           {
            "colorbar": {
             "outlinewidth": 0,
             "ticks": ""
            },
            "type": "choropleth"
           }
          ],
          "contour": [
           {
            "colorbar": {
             "outlinewidth": 0,
             "ticks": ""
            },
            "colorscale": [
             [
              0,
              "#0d0887"
             ],
             [
              0.1111111111111111,
              "#46039f"
             ],
             [
              0.2222222222222222,
              "#7201a8"
             ],
             [
              0.3333333333333333,
              "#9c179e"
             ],
             [
              0.4444444444444444,
              "#bd3786"
             ],
             [
              0.5555555555555556,
              "#d8576b"
             ],
             [
              0.6666666666666666,
              "#ed7953"
             ],
             [
              0.7777777777777778,
              "#fb9f3a"
             ],
             [
              0.8888888888888888,
              "#fdca26"
             ],
             [
              1,
              "#f0f921"
             ]
            ],
            "type": "contour"
           }
          ],
          "contourcarpet": [
           {
            "colorbar": {
             "outlinewidth": 0,
             "ticks": ""
            },
            "type": "contourcarpet"
           }
          ],
          "heatmap": [
           {
            "colorbar": {
             "outlinewidth": 0,
             "ticks": ""
            },
            "colorscale": [
             [
              0,
              "#0d0887"
             ],
             [
              0.1111111111111111,
              "#46039f"
             ],
             [
              0.2222222222222222,
              "#7201a8"
             ],
             [
              0.3333333333333333,
              "#9c179e"
             ],
             [
              0.4444444444444444,
              "#bd3786"
             ],
             [
              0.5555555555555556,
              "#d8576b"
             ],
             [
              0.6666666666666666,
              "#ed7953"
             ],
             [
              0.7777777777777778,
              "#fb9f3a"
             ],
             [
              0.8888888888888888,
              "#fdca26"
             ],
             [
              1,
              "#f0f921"
             ]
            ],
            "type": "heatmap"
           }
          ],
          "heatmapgl": [
           {
            "colorbar": {
             "outlinewidth": 0,
             "ticks": ""
            },
            "colorscale": [
             [
              0,
              "#0d0887"
             ],
             [
              0.1111111111111111,
              "#46039f"
             ],
             [
              0.2222222222222222,
              "#7201a8"
             ],
             [
              0.3333333333333333,
              "#9c179e"
             ],
             [
              0.4444444444444444,
              "#bd3786"
             ],
             [
              0.5555555555555556,
              "#d8576b"
             ],
             [
              0.6666666666666666,
              "#ed7953"
             ],
             [
              0.7777777777777778,
              "#fb9f3a"
             ],
             [
              0.8888888888888888,
              "#fdca26"
             ],
             [
              1,
              "#f0f921"
             ]
            ],
            "type": "heatmapgl"
           }
          ],
          "histogram": [
           {
            "marker": {
             "pattern": {
              "fillmode": "overlay",
              "size": 10,
              "solidity": 0.2
             }
            },
            "type": "histogram"
           }
          ],
          "histogram2d": [
           {
            "colorbar": {
             "outlinewidth": 0,
             "ticks": ""
            },
            "colorscale": [
             [
              0,
              "#0d0887"
             ],
             [
              0.1111111111111111,
              "#46039f"
             ],
             [
              0.2222222222222222,
              "#7201a8"
             ],
             [
              0.3333333333333333,
              "#9c179e"
             ],
             [
              0.4444444444444444,
              "#bd3786"
             ],
             [
              0.5555555555555556,
              "#d8576b"
             ],
             [
              0.6666666666666666,
              "#ed7953"
             ],
             [
              0.7777777777777778,
              "#fb9f3a"
             ],
             [
              0.8888888888888888,
              "#fdca26"
             ],
             [
              1,
              "#f0f921"
             ]
            ],
            "type": "histogram2d"
           }
          ],
          "histogram2dcontour": [
           {
            "colorbar": {
             "outlinewidth": 0,
             "ticks": ""
            },
            "colorscale": [
             [
              0,
              "#0d0887"
             ],
             [
              0.1111111111111111,
              "#46039f"
             ],
             [
              0.2222222222222222,
              "#7201a8"
             ],
             [
              0.3333333333333333,
              "#9c179e"
             ],
             [
              0.4444444444444444,
              "#bd3786"
             ],
             [
              0.5555555555555556,
              "#d8576b"
             ],
             [
              0.6666666666666666,
              "#ed7953"
             ],
             [
              0.7777777777777778,
              "#fb9f3a"
             ],
             [
              0.8888888888888888,
              "#fdca26"
             ],
             [
              1,
              "#f0f921"
             ]
            ],
            "type": "histogram2dcontour"
           }
          ],
          "mesh3d": [
           {
            "colorbar": {
             "outlinewidth": 0,
             "ticks": ""
            },
            "type": "mesh3d"
           }
          ],
          "parcoords": [
           {
            "line": {
             "colorbar": {
              "outlinewidth": 0,
              "ticks": ""
             }
            },
            "type": "parcoords"
           }
          ],
          "pie": [
           {
            "automargin": true,
            "type": "pie"
           }
          ],
          "scatter": [
           {
            "fillpattern": {
             "fillmode": "overlay",
             "size": 10,
             "solidity": 0.2
            },
            "type": "scatter"
           }
          ],
          "scatter3d": [
           {
            "line": {
             "colorbar": {
              "outlinewidth": 0,
              "ticks": ""
             }
            },
            "marker": {
             "colorbar": {
              "outlinewidth": 0,
              "ticks": ""
             }
            },
            "type": "scatter3d"
           }
          ],
          "scattercarpet": [
           {
            "marker": {
             "colorbar": {
              "outlinewidth": 0,
              "ticks": ""
             }
            },
            "type": "scattercarpet"
           }
          ],
          "scattergeo": [
           {
            "marker": {
             "colorbar": {
              "outlinewidth": 0,
              "ticks": ""
             }
            },
            "type": "scattergeo"
           }
          ],
          "scattergl": [
           {
            "marker": {
             "colorbar": {
              "outlinewidth": 0,
              "ticks": ""
             }
            },
            "type": "scattergl"
           }
          ],
          "scattermapbox": [
           {
            "marker": {
             "colorbar": {
              "outlinewidth": 0,
              "ticks": ""
             }
            },
            "type": "scattermapbox"
           }
          ],
          "scatterpolar": [
           {
            "marker": {
             "colorbar": {
              "outlinewidth": 0,
              "ticks": ""
             }
            },
            "type": "scatterpolar"
           }
          ],
          "scatterpolargl": [
           {
            "marker": {
             "colorbar": {
              "outlinewidth": 0,
              "ticks": ""
             }
            },
            "type": "scatterpolargl"
           }
          ],
          "scatterternary": [
           {
            "marker": {
             "colorbar": {
              "outlinewidth": 0,
              "ticks": ""
             }
            },
            "type": "scatterternary"
           }
          ],
          "surface": [
           {
            "colorbar": {
             "outlinewidth": 0,
             "ticks": ""
            },
            "colorscale": [
             [
              0,
              "#0d0887"
             ],
             [
              0.1111111111111111,
              "#46039f"
             ],
             [
              0.2222222222222222,
              "#7201a8"
             ],
             [
              0.3333333333333333,
              "#9c179e"
             ],
             [
              0.4444444444444444,
              "#bd3786"
             ],
             [
              0.5555555555555556,
              "#d8576b"
             ],
             [
              0.6666666666666666,
              "#ed7953"
             ],
             [
              0.7777777777777778,
              "#fb9f3a"
             ],
             [
              0.8888888888888888,
              "#fdca26"
             ],
             [
              1,
              "#f0f921"
             ]
            ],
            "type": "surface"
           }
          ],
          "table": [
           {
            "cells": {
             "fill": {
              "color": "#EBF0F8"
             },
             "line": {
              "color": "white"
             }
            },
            "header": {
             "fill": {
              "color": "#C8D4E3"
             },
             "line": {
              "color": "white"
             }
            },
            "type": "table"
           }
          ]
         },
         "layout": {
          "annotationdefaults": {
           "arrowcolor": "#2a3f5f",
           "arrowhead": 0,
           "arrowwidth": 1
          },
          "autotypenumbers": "strict",
          "coloraxis": {
           "colorbar": {
            "outlinewidth": 0,
            "ticks": ""
           }
          },
          "colorscale": {
           "diverging": [
            [
             0,
             "#8e0152"
            ],
            [
             0.1,
             "#c51b7d"
            ],
            [
             0.2,
             "#de77ae"
            ],
            [
             0.3,
             "#f1b6da"
            ],
            [
             0.4,
             "#fde0ef"
            ],
            [
             0.5,
             "#f7f7f7"
            ],
            [
             0.6,
             "#e6f5d0"
            ],
            [
             0.7,
             "#b8e186"
            ],
            [
             0.8,
             "#7fbc41"
            ],
            [
             0.9,
             "#4d9221"
            ],
            [
             1,
             "#276419"
            ]
           ],
           "sequential": [
            [
             0,
             "#0d0887"
            ],
            [
             0.1111111111111111,
             "#46039f"
            ],
            [
             0.2222222222222222,
             "#7201a8"
            ],
            [
             0.3333333333333333,
             "#9c179e"
            ],
            [
             0.4444444444444444,
             "#bd3786"
            ],
            [
             0.5555555555555556,
             "#d8576b"
            ],
            [
             0.6666666666666666,
             "#ed7953"
            ],
            [
             0.7777777777777778,
             "#fb9f3a"
            ],
            [
             0.8888888888888888,
             "#fdca26"
            ],
            [
             1,
             "#f0f921"
            ]
           ],
           "sequentialminus": [
            [
             0,
             "#0d0887"
            ],
            [
             0.1111111111111111,
             "#46039f"
            ],
            [
             0.2222222222222222,
             "#7201a8"
            ],
            [
             0.3333333333333333,
             "#9c179e"
            ],
            [
             0.4444444444444444,
             "#bd3786"
            ],
            [
             0.5555555555555556,
             "#d8576b"
            ],
            [
             0.6666666666666666,
             "#ed7953"
            ],
            [
             0.7777777777777778,
             "#fb9f3a"
            ],
            [
             0.8888888888888888,
             "#fdca26"
            ],
            [
             1,
             "#f0f921"
            ]
           ]
          },
          "colorway": [
           "#636efa",
           "#EF553B",
           "#00cc96",
           "#ab63fa",
           "#FFA15A",
           "#19d3f3",
           "#FF6692",
           "#B6E880",
           "#FF97FF",
           "#FECB52"
          ],
          "font": {
           "color": "#2a3f5f"
          },
          "geo": {
           "bgcolor": "white",
           "lakecolor": "white",
           "landcolor": "#E5ECF6",
           "showlakes": true,
           "showland": true,
           "subunitcolor": "white"
          },
          "hoverlabel": {
           "align": "left"
          },
          "hovermode": "closest",
          "mapbox": {
           "style": "light"
          },
          "paper_bgcolor": "white",
          "plot_bgcolor": "#E5ECF6",
          "polar": {
           "angularaxis": {
            "gridcolor": "white",
            "linecolor": "white",
            "ticks": ""
           },
           "bgcolor": "#E5ECF6",
           "radialaxis": {
            "gridcolor": "white",
            "linecolor": "white",
            "ticks": ""
           }
          },
          "scene": {
           "xaxis": {
            "backgroundcolor": "#E5ECF6",
            "gridcolor": "white",
            "gridwidth": 2,
            "linecolor": "white",
            "showbackground": true,
            "ticks": "",
            "zerolinecolor": "white"
           },
           "yaxis": {
            "backgroundcolor": "#E5ECF6",
            "gridcolor": "white",
            "gridwidth": 2,
            "linecolor": "white",
            "showbackground": true,
            "ticks": "",
            "zerolinecolor": "white"
           },
           "zaxis": {
            "backgroundcolor": "#E5ECF6",
            "gridcolor": "white",
            "gridwidth": 2,
            "linecolor": "white",
            "showbackground": true,
            "ticks": "",
            "zerolinecolor": "white"
           }
          },
          "shapedefaults": {
           "line": {
            "color": "#2a3f5f"
           }
          },
          "ternary": {
           "aaxis": {
            "gridcolor": "white",
            "linecolor": "white",
            "ticks": ""
           },
           "baxis": {
            "gridcolor": "white",
            "linecolor": "white",
            "ticks": ""
           },
           "bgcolor": "#E5ECF6",
           "caxis": {
            "gridcolor": "white",
            "linecolor": "white",
            "ticks": ""
           }
          },
          "title": {
           "x": 0.05
          },
          "xaxis": {
           "automargin": true,
           "gridcolor": "white",
           "linecolor": "white",
           "ticks": "",
           "title": {
            "standoff": 15
           },
           "zerolinecolor": "white",
           "zerolinewidth": 2
          },
          "yaxis": {
           "automargin": true,
           "gridcolor": "white",
           "linecolor": "white",
           "ticks": "",
           "title": {
            "standoff": 15
           },
           "zerolinecolor": "white",
           "zerolinewidth": 2
          }
         }
        },
        "title": {
         "text": "pade_9_10"
        },
        "width": 1500,
        "xaxis": {
         "autorange": false,
         "range": [
          11.999763732773173,
          12.000739866379874
         ],
         "title": {
          "text": "$x$"
         },
         "type": "linear"
        },
        "yaxis": {
         "autorange": false,
         "exponentformat": "power",
         "range": [
          -8.37693947272461,
          -8.175198450460016
         ],
         "title": {
          "text": "$\\max|\\Delta|$"
         },
         "type": "log"
        }
       }
      },
      "image/png": "[encoded data removed]",
      "text/html": [
       "<div>                            <div id=\"c5b0995e-7a0d-4a16-9dcd-cb8713d9a4e5\" class=\"plotly-graph-div\" style=\"height:700px; width:1500px;\"></div>            <script type=\"text/javascript\">                require([\"plotly\"], function(Plotly) {                    window.PLOTLYENV=window.PLOTLYENV || {};                                    if (document.getElementById(\"c5b0995e-7a0d-4a16-9dcd-cb8713d9a4e5\")) {                    Plotly.newPlot(                        \"c5b0995e-7a0d-4a16-9dcd-cb8713d9a4e5\",                        [{\"hovertemplate\":\"x = %{x}<br>max(|&#x394;|) = %{y}<extra></extra>\",\"mode\":\"markers\",\"name\":\"1\",\"x\":[11.49885,12.0,13.501365],\"y\":[4.02331020235569e-09,6.5218278850337486e-09,3.469446951953614e-18],\"type\":\"scatter\"},{\"hovertemplate\":\"x = %{x}<br>max(|&#x394;|) = %{y}<extra></extra>\",\"mode\":\"markers\",\"name\":\"2\",\"x\":[11.49885,12.0,13.501365],\"y\":[3.9816939732297e-09,6.4514630972525855e-09,4.336808689942018e-19],\"type\":\"scatter\"},{\"hovertemplate\":\"x = %{x}<br>max(|&#x394;|) = %{y}<extra></extra>\",\"mode\":\"markers\",\"name\":\"3\",\"x\":[11.49885,12.0,13.6365],\"y\":[3.92956986123693e-09,6.364086042659131e-09,1.0842021724855044e-19],\"type\":\"scatter\"},{\"hovertemplate\":\"x = %{x}<br>max(|&#x394;|) = %{y}<extra></extra>\",\"mode\":\"markers\",\"name\":\"4\",\"x\":[11.49885,12.0,13.65561],\"y\":[3.874408888279637e-09,6.271906578673211e-09,3.3881317890172014e-20],\"type\":\"scatter\"},{\"hovertemplate\":\"x = %{x}<br>max(|&#x394;|) = %{y}<extra></extra>\",\"mode\":\"markers\",\"name\":\"5\",\"x\":[11.49885,12.0,13.65561],\"y\":[3.816402083408037e-09,6.175246629951353e-09,1.1858461261560205e-20],\"type\":\"scatter\"},{\"hovertemplate\":\"x = %{x}<br>max(|&#x394;|) = %{y}<extra></extra>\",\"mode\":\"markers\",\"name\":\"6\",\"x\":[11.49885,12.0,13.65561],\"y\":[3.755856955123488e-09,6.074615805670382e-09,5.929230630780102e-21],\"type\":\"scatter\"},{\"hovertemplate\":\"x = %{x}<br>max(|&#x394;|) = %{y}<extra></extra>\",\"mode\":\"markers\",\"name\":\"7\",\"x\":[11.49885,12.0,13.65561],\"y\":[3.6931095979747183e-09,5.970567982863242e-09,2.964615315390051e-21],\"type\":\"scatter\"},{\"hovertemplate\":\"x = %{x}<br>max(|&#x394;|) = %{y}<extra></extra>\",\"mode\":\"markers\",\"name\":\"8\",\"x\":[11.49885,12.0,13.65561],\"y\":[3.628521499451993e-09,5.863695884084217e-09,1.9058241313221758e-21],\"type\":\"scatter\"},{\"hovertemplate\":\"x = %{x}<br>max(|&#x394;|) = %{y}<extra></extra>\",\"mode\":\"markers\",\"name\":\"9\",\"x\":[11.49885,12.0,13.75935],\"y\":[3.5624715353766806e-09,5.754617912394696e-09,1.2705494208814505e-21],\"type\":\"scatter\"},{\"hovertemplate\":\"x = %{x}<br>max(|&#x394;|) = %{y}<extra></extra>\",\"mode\":\"markers\",\"name\":\"10\",\"x\":[11.49885,12.0,13.509555],\"y\":[3.495346516532871e-09,5.6439627587772115e-09,9.529120656610879e-22],\"type\":\"scatter\"},{\"hovertemplate\":\"x = %{x}<br>max(|&#x394;|) = %{y}<extra></extra>\",\"mode\":\"markers\",\"name\":\"11\",\"x\":[11.49885,12.0,13.75935],\"y\":[3.427530573347667e-09,5.532352230577012e-09,7.940933880509066e-22],\"type\":\"scatter\"},{\"hovertemplate\":\"x = %{x}<br>max(|&#x394;|) = %{y}<extra></extra>\",\"mode\":\"markers\",\"name\":\"12\",\"x\":[11.49885,12.0,13.75935],\"y\":[3.3593942685017386e-09,5.42038380011761e-09,6.88214269644119e-22],\"type\":\"scatter\"},{\"hovertemplate\":\"x = %{x}<br>max(|&#x394;|) = %{y}<extra></extra>\",\"mode\":\"markers\",\"name\":\"13\",\"x\":[11.49885,12.0,13.75935],\"y\":[3.2912846562470054e-09,5.308614791739577e-09,6.88214269644119e-22],\"type\":\"scatter\"},{\"hovertemplate\":\"x = %{x}<br>max(|&#x394;|) = %{y}<extra></extra>\",\"mode\":\"markers\",\"name\":\"14\",\"x\":[11.49885,12.0,13.75935],\"y\":[3.2235173943737735e-09,5.197549982788476e-09,6.617444900424221e-22],\"type\":\"scatter\"},{\"hovertemplate\":\"x = %{x}<br>max(|&#x394;|) = %{y}<extra></extra>\",\"mode\":\"markers\",\"name\":\"15\",\"x\":[11.49885,12.0,13.75935],\"y\":[3.1563715416454365e-09,5.087633592066069e-09,7.146840492458159e-22],\"type\":\"scatter\"},{\"hovertemplate\":\"x = %{x}<br>max(|&#x394;|) = %{y}<extra></extra>\",\"mode\":\"markers\",\"name\":\"16\",\"x\":[11.49885,12.0,13.509555],\"y\":[3.090087100412005e-09,4.979245713155522e-09,8.205631676526035e-22],\"type\":\"scatter\"},{\"hovertemplate\":\"x = %{x}<br>max(|&#x394;|) = %{y}<extra></extra>\",\"mode\":\"markers\",\"name\":\"17\",\"x\":[11.49885,12.0,13.509555],\"y\":[3.0248649438628937e-09,4.872702555471261e-09,1.0323214044661785e-21],\"type\":\"scatter\"},{\"hovertemplate\":\"x = %{x}<br>max(|&#x394;|) = %{y}<extra></extra>\",\"mode\":\"markers\",\"name\":\"18\",\"x\":[11.49885,12.0,13.509555],\"y\":[2.9608685110459402e-09,4.7682595139430045e-09,1.3499587596865412e-21],\"type\":\"scatter\"},{\"hovertemplate\":\"x = %{x}<br>max(|&#x394;|) = %{y}<extra></extra>\",\"mode\":\"markers\",\"name\":\"19\",\"x\":[11.49885,12.0,13.509555],\"y\":[2.8982267107369053e-09,4.666116108393742e-09,1.8661194619196304e-21],\"type\":\"scatter\"},{\"hovertemplate\":\"x = %{x}<br>max(|&#x394;|) = %{y}<extra></extra>\",\"mode\":\"markers\",\"name\":\"20\",\"x\":[11.49885,12.0,13.509555],\"y\":[2.837037467039451e-09,4.5664219273365224e-09,2.686682629572234e-21],\"type\":\"scatter\"}],                        {\"template\":{\"data\":{\"histogram2dcontour\":[{\"type\":\"histogram2dcontour\",\"colorbar\":{\"outlinewidth\":0,\"ticks\":\"\"},\"colorscale\":[[0.0,\"#0d0887\"],[0.1111111111111111,\"#46039f\"],[0.2222222222222222,\"#7201a8\"],[0.3333333333333333,\"#9c179e\"],[0.4444444444444444,\"#bd3786\"],[0.5555555555555556,\"#d8576b\"],[0.6666666666666666,\"#ed7953\"],[0.7777777777777778,\"#fb9f3a\"],[0.8888888888888888,\"#fdca26\"],[1.0,\"#f0f921\"]]}],\"choropleth\":[{\"type\":\"choropleth\",\"colorbar\":{\"outlinewidth\":0,\"ticks\":\"\"}}],\"histogram2d\":[{\"type\":\"histogram2d\",\"colorbar\":{\"outlinewidth\":0,\"ticks\":\"\"},\"colorscale\":[[0.0,\"#0d0887\"],[0.1111111111111111,\"#46039f\"],[0.2222222222222222,\"#7201a8\"],[0.3333333333333333,\"#9c179e\"],[0.4444444444444444,\"#bd3786\"],[0.5555555555555556,\"#d8576b\"],[0.6666666666666666,\"#ed7953\"],[0.7777777777777778,\"#fb9f3a\"],[0.8888888888888888,\"#fdca26\"],[1.0,\"#f0f921\"]]}],\"heatmap\":[{\"type\":\"heatmap\",\"colorbar\":{\"outlinewidth\":0,\"ticks\":\"\"},\"colorscale\":[[0.0,\"#0d0887\"],[0.1111111111111111,\"#46039f\"],[0.2222222222222222,\"#7201a8\"],[0.3333333333333333,\"#9c179e\"],[0.4444444444444444,\"#bd3786\"],[0.5555555555555556,\"#d8576b\"],[0.6666666666666666,\"#ed7953\"],[0.7777777777777778,\"#fb9f3a\"],[0.8888888888888888,\"#fdca26\"],[1.0,\"#f0f921\"]]}],\"heatmapgl\":[{\"type\":\"heatmapgl\",\"colorbar\":{\"outlinewidth\":0,\"ticks\":\"\"},\"colorscale\":[[0.0,\"#0d0887\"],[0.1111111111111111,\"#46039f\"],[0.2222222222222222,\"#7201a8\"],[0.3333333333333333,\"#9c179e\"],[0.4444444444444444,\"#bd3786\"],[0.5555555555555556,\"#d8576b\"],[0.6666666666666666,\"#ed7953\"],[0.7777777777777778,\"#fb9f3a\"],[0.8888888888888888,\"#fdca26\"],[1.0,\"#f0f921\"]]}],\"contourcarpet\":[{\"type\":\"contourcarpet\",\"colorbar\":{\"outlinewidth\":0,\"ticks\":\"\"}}],\"contour\":[{\"type\":\"contour\",\"colorbar\":{\"outlinewidth\":0,\"ticks\":\"\"},\"colorscale\":[[0.0,\"#0d0887\"],[0.1111111111111111,\"#46039f\"],[0.2222222222222222,\"#7201a8\"],[0.3333333333333333,\"#9c179e\"],[0.4444444444444444,\"#bd3786\"],[0.5555555555555556,\"#d8576b\"],[0.6666666666666666,\"#ed7953\"],[0.7777777777777778,\"#fb9f3a\"],[0.8888888888888888,\"#fdca26\"],[1.0,\"#f0f921\"]]}],\"surface\":[{\"type\":\"surface\",\"colorbar\":{\"outlinewidth\":0,\"ticks\":\"\"},\"colorscale\":[[0.0,\"#0d0887\"],[0.1111111111111111,\"#46039f\"],[0.2222222222222222,\"#7201a8\"],[0.3333333333333333,\"#9c179e\"],[0.4444444444444444,\"#bd3786\"],[0.5555555555555556,\"#d8576b\"],[0.6666666666666666,\"#ed7953\"],[0.7777777777777778,\"#fb9f3a\"],[0.8888888888888888,\"#fdca26\"],[1.0,\"#f0f921\"]]}],\"mesh3d\":[{\"type\":\"mesh3d\",\"colorbar\":{\"outlinewidth\":0,\"ticks\":\"\"}}],\"scatter\":[{\"fillpattern\":{\"fillmode\":\"overlay\",\"size\":10,\"solidity\":0.2},\"type\":\"scatter\"}],\"parcoords\":[{\"type\":\"parcoords\",\"line\":{\"colorbar\":{\"outlinewidth\":0,\"ticks\":\"\"}}}],\"scatterpolargl\":[{\"type\":\"scatterpolargl\",\"marker\":{\"colorbar\":{\"outlinewidth\":0,\"ticks\":\"\"}}}],\"bar\":[{\"error_x\":{\"color\":\"#2a3f5f\"},\"error_y\":{\"color\":\"#2a3f5f\"},\"marker\":{\"line\":{\"color\":\"#E5ECF6\",\"width\":0.5},\"pattern\":{\"fillmode\":\"overlay\",\"size\":10,\"solidity\":0.2}},\"type\":\"bar\"}],\"scattergeo\":[{\"type\":\"scattergeo\",\"marker\":{\"colorbar\":{\"outlinewidth\":0,\"ticks\":\"\"}}}],\"scatterpolar\":[{\"type\":\"scatterpolar\",\"marker\":{\"colorbar\":{\"outlinewidth\":0,\"ticks\":\"\"}}}],\"histogram\":[{\"marker\":{\"pattern\":{\"fillmode\":\"overlay\",\"size\":10,\"solidity\":0.2}},\"type\":\"histogram\"}],\"scattergl\":[{\"type\":\"scattergl\",\"marker\":{\"colorbar\":{\"outlinewidth\":0,\"ticks\":\"\"}}}],\"scatter3d\":[{\"type\":\"scatter3d\",\"line\":{\"colorbar\":{\"outlinewidth\":0,\"ticks\":\"\"}},\"marker\":{\"colorbar\":{\"outlinewidth\":0,\"ticks\":\"\"}}}],\"scattermapbox\":[{\"type\":\"scattermapbox\",\"marker\":{\"colorbar\":{\"outlinewidth\":0,\"ticks\":\"\"}}}],\"scatterternary\":[{\"type\":\"scatterternary\",\"marker\":{\"colorbar\":{\"outlinewidth\":0,\"ticks\":\"\"}}}],\"scattercarpet\":[{\"type\":\"scattercarpet\",\"marker\":{\"colorbar\":{\"outlinewidth\":0,\"ticks\":\"\"}}}],\"carpet\":[{\"aaxis\":{\"endlinecolor\":\"#2a3f5f\",\"gridcolor\":\"white\",\"linecolor\":\"white\",\"minorgridcolor\":\"white\",\"startlinecolor\":\"#2a3f5f\"},\"baxis\":{\"endlinecolor\":\"#2a3f5f\",\"gridcolor\":\"white\",\"linecolor\":\"white\",\"minorgridcolor\":\"white\",\"startlinecolor\":\"#2a3f5f\"},\"type\":\"carpet\"}],\"table\":[{\"cells\":{\"fill\":{\"color\":\"#EBF0F8\"},\"line\":{\"color\":\"white\"}},\"header\":{\"fill\":{\"color\":\"#C8D4E3\"},\"line\":{\"color\":\"white\"}},\"type\":\"table\"}],\"barpolar\":[{\"marker\":{\"line\":{\"color\":\"#E5ECF6\",\"width\":0.5},\"pattern\":{\"fillmode\":\"overlay\",\"size\":10,\"solidity\":0.2}},\"type\":\"barpolar\"}],\"pie\":[{\"automargin\":true,\"type\":\"pie\"}]},\"layout\":{\"autotypenumbers\":\"strict\",\"colorway\":[\"#636efa\",\"#EF553B\",\"#00cc96\",\"#ab63fa\",\"#FFA15A\",\"#19d3f3\",\"#FF6692\",\"#B6E880\",\"#FF97FF\",\"#FECB52\"],\"font\":{\"color\":\"#2a3f5f\"},\"hovermode\":\"closest\",\"hoverlabel\":{\"align\":\"left\"},\"paper_bgcolor\":\"white\",\"plot_bgcolor\":\"#E5ECF6\",\"polar\":{\"bgcolor\":\"#E5ECF6\",\"angularaxis\":{\"gridcolor\":\"white\",\"linecolor\":\"white\",\"ticks\":\"\"},\"radialaxis\":{\"gridcolor\":\"white\",\"linecolor\":\"white\",\"ticks\":\"\"}},\"ternary\":{\"bgcolor\":\"#E5ECF6\",\"aaxis\":{\"gridcolor\":\"white\",\"linecolor\":\"white\",\"ticks\":\"\"},\"baxis\":{\"gridcolor\":\"white\",\"linecolor\":\"white\",\"ticks\":\"\"},\"caxis\":{\"gridcolor\":\"white\",\"linecolor\":\"white\",\"ticks\":\"\"}},\"coloraxis\":{\"colorbar\":{\"outlinewidth\":0,\"ticks\":\"\"}},\"colorscale\":{\"sequential\":[[0.0,\"#0d0887\"],[0.1111111111111111,\"#46039f\"],[0.2222222222222222,\"#7201a8\"],[0.3333333333333333,\"#9c179e\"],[0.4444444444444444,\"#bd3786\"],[0.5555555555555556,\"#d8576b\"],[0.6666666666666666,\"#ed7953\"],[0.7777777777777778,\"#fb9f3a\"],[0.8888888888888888,\"#fdca26\"],[1.0,\"#f0f921\"]],\"sequentialminus\":[[0.0,\"#0d0887\"],[0.1111111111111111,\"#46039f\"],[0.2222222222222222,\"#7201a8\"],[0.3333333333333333,\"#9c179e\"],[0.4444444444444444,\"#bd3786\"],[0.5555555555555556,\"#d8576b\"],[0.6666666666666666,\"#ed7953\"],[0.7777777777777778,\"#fb9f3a\"],[0.8888888888888888,\"#fdca26\"],[1.0,\"#f0f921\"]],\"diverging\":[[0,\"#8e0152\"],[0.1,\"#c51b7d\"],[0.2,\"#de77ae\"],[0.3,\"#f1b6da\"],[0.4,\"#fde0ef\"],[0.5,\"#f7f7f7\"],[0.6,\"#e6f5d0\"],[0.7,\"#b8e186\"],[0.8,\"#7fbc41\"],[0.9,\"#4d9221\"],[1,\"#276419\"]]},\"xaxis\":{\"gridcolor\":\"white\",\"linecolor\":\"white\",\"ticks\":\"\",\"title\":{\"standoff\":15},\"zerolinecolor\":\"white\",\"automargin\":true,\"zerolinewidth\":2},\"yaxis\":{\"gridcolor\":\"white\",\"linecolor\":\"white\",\"ticks\":\"\",\"title\":{\"standoff\":15},\"zerolinecolor\":\"white\",\"automargin\":true,\"zerolinewidth\":2},\"scene\":{\"xaxis\":{\"backgroundcolor\":\"#E5ECF6\",\"gridcolor\":\"white\",\"linecolor\":\"white\",\"showbackground\":true,\"ticks\":\"\",\"zerolinecolor\":\"white\",\"gridwidth\":2},\"yaxis\":{\"backgroundcolor\":\"#E5ECF6\",\"gridcolor\":\"white\",\"linecolor\":\"white\",\"showbackground\":true,\"ticks\":\"\",\"zerolinecolor\":\"white\",\"gridwidth\":2},\"zaxis\":{\"backgroundcolor\":\"#E5ECF6\",\"gridcolor\":\"white\",\"linecolor\":\"white\",\"showbackground\":true,\"ticks\":\"\",\"zerolinecolor\":\"white\",\"gridwidth\":2}},\"shapedefaults\":{\"line\":{\"color\":\"#2a3f5f\"}},\"annotationdefaults\":{\"arrowcolor\":\"#2a3f5f\",\"arrowhead\":0,\"arrowwidth\":1},\"geo\":{\"bgcolor\":\"white\",\"landcolor\":\"#E5ECF6\",\"subunitcolor\":\"white\",\"showland\":true,\"showlakes\":true,\"lakecolor\":\"white\"},\"title\":{\"x\":0.05},\"mapbox\":{\"style\":\"light\"}}},\"legend\":{\"title\":{\"text\":\"Boys' function order\"}},\"title\":{\"text\":\"pade_9_10\"},\"autosize\":false,\"width\":1500,\"height\":700,\"xaxis\":{\"title\":{\"text\":\"$x$\"},\"range\":[0.0,20.0]},\"yaxis\":{\"title\":{\"text\":\"$\\\\max|\\\\Delta|$\"},\"type\":\"log\",\"range\":[-24,-4],\"exponentformat\":\"power\"},\"shapes\":[{\"line\":{\"width\":0.7},\"type\":\"line\",\"x0\":11.5,\"x1\":11.5,\"xref\":\"x\",\"y0\":0,\"y1\":1,\"yref\":\"y domain\"},{\"line\":{\"width\":0.7},\"type\":\"line\",\"x0\":13.5,\"x1\":13.5,\"xref\":\"x\",\"y0\":0,\"y1\":1,\"yref\":\"y domain\"},{\"line\":{\"color\":\"blue\",\"dash\":\"dot\",\"width\":0.5},\"type\":\"line\",\"x0\":0,\"x1\":1,\"xref\":\"x domain\",\"y0\":1e-14,\"y1\":1e-14,\"yref\":\"y\"},{\"line\":{\"color\":\"red\",\"dash\":\"dot\",\"width\":0.5},\"type\":\"line\",\"x0\":0,\"x1\":1,\"xref\":\"x domain\",\"y0\":1e-16,\"y1\":1e-16,\"yref\":\"y\"},{\"line\":{\"color\":\"green\",\"dash\":\"dot\",\"width\":0.5},\"type\":\"line\",\"x0\":0,\"x1\":1,\"xref\":\"x domain\",\"y0\":1e-18,\"y1\":1e-18,\"yref\":\"y\"}]},                        {\"responsive\": true}                    ).then(function(){\n",
       "                            \n",
       "var gd = document.getElementById('c5b0995e-7a0d-4a16-9dcd-cb8713d9a4e5');\n",
       "var x = new MutationObserver(function (mutations, observer) {{\n",
       "        var display = window.getComputedStyle(gd).display;\n",
       "        if (!display || display === 'none') {{\n",
       "            console.log([gd, 'removed!']);\n",
       "            Plotly.purge(gd);\n",
       "            observer.disconnect();\n",
       "        }}\n",
       "}});\n",
       "\n",
       "// Listen for the removal of the full notebook cells\n",
       "var notebookContainer = gd.closest('#notebook-container');\n",
       "if (notebookContainer) {{\n",
       "    x.observe(notebookContainer, {childList: true});\n",
       "}}\n",
       "\n",
       "// Listen for the clearing of the current output cell\n",
       "var outputEl = gd.closest('.output');\n",
       "if (outputEl) {{\n",
       "    x.observe(outputEl, {childList: true});\n",
       "}}\n",
       "\n",
       "                        })                };                });            </script>        </div>"
      ]
     },
     "metadata": {},
     "output_type": "display_data"
    },
    {
     "data": {
      "application/vnd.plotly.v1+json": {
       "config": {
        "plotlyServerURL": "https://plot.ly"
       },
       "data": [
        {
         "hovertemplate": "x = %{x}<br>max(|&#x394;|) = %{y}<extra></extra>",
         "mode": "markers",
         "name": "1",
         "type": "scatter",
         "x": [
          0.00115,
          11.992,
          13.501365
         ],
         "y": [
          1.1102230246251565e-16,
          6.071532165918825e-17,
          3.469446951953614e-18
         ]
        },
        {
         "hovertemplate": "x = %{x}<br>max(|&#x394;|) = %{y}<extra></extra>",
         "mode": "markers",
         "name": "2",
         "type": "scatter",
         "x": [
          0.00115,
          12,
          13.501365
         ],
         "y": [
          5.551115123125783e-17,
          5.898059818321144e-17,
          4.336808689942018e-19
         ]
        },
        {
         "hovertemplate": "x = %{x}<br>max(|&#x394;|) = %{y}<extra></extra>",
         "mode": "markers",
         "name": "3",
         "type": "scatter",
         "x": [
          0.0736,
          12,
          13.6365
         ],
         "y": [
          5.551115123125783e-17,
          5.795060611935021e-17,
          1.0842021724855044e-19
         ]
        },
        {
         "hovertemplate": "x = %{x}<br>max(|&#x394;|) = %{y}<extra></extra>",
         "mode": "markers",
         "name": "4",
         "type": "scatter",
         "x": [
          0.05405,
          11.998,
          13.65561
         ],
         "y": [
          4.163336342344337e-17,
          5.818099908100338e-17,
          3.3881317890172014e-20
         ]
        },
        {
         "hovertemplate": "x = %{x}<br>max(|&#x394;|) = %{y}<extra></extra>",
         "mode": "markers",
         "name": "5",
         "type": "scatter",
         "x": [
          0.00115,
          12,
          13.65561
         ],
         "y": [
          2.7755575615628914e-17,
          5.75948522815034e-17,
          1.1858461261560205e-20
         ]
        },
        {
         "hovertemplate": "x = %{x}<br>max(|&#x394;|) = %{y}<extra></extra>",
         "mode": "markers",
         "name": "6",
         "type": "scatter",
         "x": [
          0.00115,
          12,
          13.65561
         ],
         "y": [
          2.7755575615628914e-17,
          5.576526111543412e-17,
          5.929230630780102e-21
         ]
        },
        {
         "hovertemplate": "x = %{x}<br>max(|&#x394;|) = %{y}<extra></extra>",
         "mode": "markers",
         "name": "7",
         "type": "scatter",
         "x": [
          11.49885,
          11.998,
          13.65561
         ],
         "y": [
          2.2497195079074217e-17,
          5.682320526655474e-17,
          2.964615315390051e-21
         ]
        },
        {
         "hovertemplate": "x = %{x}<br>max(|&#x394;|) = %{y}<extra></extra>",
         "mode": "markers",
         "name": "8",
         "type": "scatter",
         "x": [
          11.4931,
          12,
          13.65561
         ],
         "y": [
          2.2258331787948504e-17,
          5.712729009461903e-17,
          1.9058241313221758e-21
         ]
        },
        {
         "hovertemplate": "x = %{x}<br>max(|&#x394;|) = %{y}<extra></extra>",
         "mode": "markers",
         "name": "9",
         "type": "scatter",
         "x": [
          11.49655,
          12,
          13.75935
         ],
         "y": [
          2.1873778829895052e-17,
          5.617903671016784e-17,
          1.2705494208814505e-21
         ]
        },
        {
         "hovertemplate": "x = %{x}<br>max(|&#x394;|) = %{y}<extra></extra>",
         "mode": "markers",
         "name": "10",
         "type": "scatter",
         "x": [
          11.49655,
          12,
          13.509555
         ],
         "y": [
          2.1036486761534176e-17,
          5.5125962998493934e-17,
          9.529120656610879e-22
         ]
        },
        {
         "hovertemplate": "x = %{x}<br>max(|&#x394;|) = %{y}<extra></extra>",
         "mode": "markers",
         "name": "11",
         "type": "scatter",
         "x": [
          11.4977,
          12,
          13.75935
         ],
         "y": [
          2.1179211813146526e-17,
          5.499551992461677e-17,
          7.940933880509066e-22
         ]
        },
        {
         "hovertemplate": "x = %{x}<br>max(|&#x394;|) = %{y}<extra></extra>",
         "mode": "markers",
         "name": "12",
         "type": "scatter",
         "x": [
          11.4977,
          12,
          13.75935
         ],
         "y": [
          2.1281702799764296e-17,
          5.443584290471849e-17,
          6.88214269644119e-22
         ]
        },
        {
         "hovertemplate": "x = %{x}<br>max(|&#x394;|) = %{y}<extra></extra>",
         "mode": "markers",
         "name": "13",
         "type": "scatter",
         "x": [
          11.49425,
          12,
          13.75935
         ],
         "y": [
          2.1153800824728897e-17,
          5.378458044739834e-17,
          6.88214269644119e-22
         ]
        },
        {
         "hovertemplate": "x = %{x}<br>max(|&#x394;|) = %{y}<extra></extra>",
         "mode": "markers",
         "name": "14",
         "type": "scatter",
         "x": [
          11.49885,
          12,
          13.75935
         ],
         "y": [
          2.105808610168916e-17,
          5.371078270186881e-17,
          6.617444900424221e-22
         ]
        },
        {
         "hovertemplate": "x = %{x}<br>max(|&#x394;|) = %{y}<extra></extra>",
         "mode": "markers",
         "name": "15",
         "type": "scatter",
         "x": [
          11.49885,
          12,
          13.75935
         ],
         "y": [
          2.0240169911996727e-17,
          5.2651038605735275e-17,
          7.146840492458159e-22
         ]
        },
        {
         "hovertemplate": "x = %{x}<br>max(|&#x394;|) = %{y}<extra></extra>",
         "mode": "markers",
         "name": "16",
         "type": "scatter",
         "x": [
          11.49885,
          11.998,
          13.509555
         ],
         "y": [
          2.0210523758842826e-17,
          5.203069285098991e-17,
          8.205631676526035e-22
         ]
        },
        {
         "hovertemplate": "x = %{x}<br>max(|&#x394;|) = %{y}<extra></extra>",
         "mode": "markers",
         "name": "17",
         "type": "scatter",
         "x": [
          11.49885,
          12,
          13.509555
         ],
         "y": [
          2.0754954185690528e-17,
          5.196478309978168e-17,
          1.0323214044661785e-21
         ]
        },
        {
         "hovertemplate": "x = %{x}<br>max(|&#x394;|) = %{y}<extra></extra>",
         "mode": "markers",
         "name": "18",
         "type": "scatter",
         "x": [
          11.4977,
          11.996,
          13.509555
         ],
         "y": [
          1.9949108215496468e-17,
          5.0966025375850455e-17,
          1.3499587596865412e-21
         ]
        },
        {
         "hovertemplate": "x = %{x}<br>max(|&#x394;|) = %{y}<extra></extra>",
         "mode": "markers",
         "name": "19",
         "type": "scatter",
         "x": [
          11.49885,
          12,
          13.509555
         ],
         "y": [
          2.0023011840144406e-17,
          5.1027011748052764e-17,
          1.8661194619196304e-21
         ]
        },
        {
         "hovertemplate": "x = %{x}<br>max(|&#x394;|) = %{y}<extra></extra>",
         "mode": "markers",
         "name": "20",
         "type": "scatter",
         "x": [
          11.4977,
          11.998,
          13.509555
         ],
         "y": [
          1.9669163826428922e-17,
          5.036134973062929e-17,
          2.686682629572234e-21
         ]
        }
       ],
       "layout": {
        "autosize": false,
        "height": 700,
        "legend": {
         "title": {
          "text": "Boys' function order"
         }
        },
        "shapes": [
         {
          "line": {
           "width": 0.7
          },
          "type": "line",
          "x0": 11.5,
          "x1": 11.5,
          "xref": "x",
          "y0": 0,
          "y1": 1,
          "yref": "y domain"
         },
         {
          "line": {
           "width": 0.7
          },
          "type": "line",
          "x0": 13.5,
          "x1": 13.5,
          "xref": "x",
          "y0": 0,
          "y1": 1,
          "yref": "y domain"
         },
         {
          "line": {
           "color": "blue",
           "dash": "dot",
           "width": 0.5
          },
          "type": "line",
          "x0": 0,
          "x1": 1,
          "xref": "x domain",
          "y0": 1e-14,
          "y1": 1e-14,
          "yref": "y"
         },
         {
          "line": {
           "color": "red",
           "dash": "dot",
           "width": 0.5
          },
          "type": "line",
          "x0": 0,
          "x1": 1,
          "xref": "x domain",
          "y0": 1e-16,
          "y1": 1e-16,
          "yref": "y"
         },
         {
          "line": {
           "color": "green",
           "dash": "dot",
           "width": 0.5
          },
          "type": "line",
          "x0": 0,
          "x1": 1,
          "xref": "x domain",
          "y0": 1e-18,
          "y1": 1e-18,
          "yref": "y"
         }
        ],
        "template": {
         "data": {
          "bar": [
           {
            "error_x": {
             "color": "#2a3f5f"
            },
            "error_y": {
             "color": "#2a3f5f"
            },
            "marker": {
             "line": {
              "color": "#E5ECF6",
              "width": 0.5
             },
             "pattern": {
              "fillmode": "overlay",
              "size": 10,
              "solidity": 0.2
             }
            },
            "type": "bar"
           }
          ],
          "barpolar": [
           {
            "marker": {
             "line": {
              "color": "#E5ECF6",
              "width": 0.5
             },
             "pattern": {
              "fillmode": "overlay",
              "size": 10,
              "solidity": 0.2
             }
            },
            "type": "barpolar"
           }
          ],
          "carpet": [
           {
            "aaxis": {
             "endlinecolor": "#2a3f5f",
             "gridcolor": "white",
             "linecolor": "white",
             "minorgridcolor": "white",
             "startlinecolor": "#2a3f5f"
            },
            "baxis": {
             "endlinecolor": "#2a3f5f",
             "gridcolor": "white",
             "linecolor": "white",
             "minorgridcolor": "white",
             "startlinecolor": "#2a3f5f"
            },
            "type": "carpet"
           }
          ],
          "choropleth": [
           {
            "colorbar": {
             "outlinewidth": 0,
             "ticks": ""
            },
            "type": "choropleth"
           }
          ],
          "contour": [
           {
            "colorbar": {
             "outlinewidth": 0,
             "ticks": ""
            },
            "colorscale": [
             [
              0,
              "#0d0887"
             ],
             [
              0.1111111111111111,
              "#46039f"
             ],
             [
              0.2222222222222222,
              "#7201a8"
             ],
             [
              0.3333333333333333,
              "#9c179e"
             ],
             [
              0.4444444444444444,
              "#bd3786"
             ],
             [
              0.5555555555555556,
              "#d8576b"
             ],
             [
              0.6666666666666666,
              "#ed7953"
             ],
             [
              0.7777777777777778,
              "#fb9f3a"
             ],
             [
              0.8888888888888888,
              "#fdca26"
             ],
             [
              1,
              "#f0f921"
             ]
            ],
            "type": "contour"
           }
          ],
          "contourcarpet": [
           {
            "colorbar": {
             "outlinewidth": 0,
             "ticks": ""
            },
            "type": "contourcarpet"
           }
          ],
          "heatmap": [
           {
            "colorbar": {
             "outlinewidth": 0,
             "ticks": ""
            },
            "colorscale": [
             [
              0,
              "#0d0887"
             ],
             [
              0.1111111111111111,
              "#46039f"
             ],
             [
              0.2222222222222222,
              "#7201a8"
             ],
             [
              0.3333333333333333,
              "#9c179e"
             ],
             [
              0.4444444444444444,
              "#bd3786"
             ],
             [
              0.5555555555555556,
              "#d8576b"
             ],
             [
              0.6666666666666666,
              "#ed7953"
             ],
             [
              0.7777777777777778,
              "#fb9f3a"
             ],
             [
              0.8888888888888888,
              "#fdca26"
             ],
             [
              1,
              "#f0f921"
             ]
            ],
            "type": "heatmap"
           }
          ],
          "heatmapgl": [
           {
            "colorbar": {
             "outlinewidth": 0,
             "ticks": ""
            },
            "colorscale": [
             [
              0,
              "#0d0887"
             ],
             [
              0.1111111111111111,
              "#46039f"
             ],
             [
              0.2222222222222222,
              "#7201a8"
             ],
             [
              0.3333333333333333,
              "#9c179e"
             ],
             [
              0.4444444444444444,
              "#bd3786"
             ],
             [
              0.5555555555555556,
              "#d8576b"
             ],
             [
              0.6666666666666666,
              "#ed7953"
             ],
             [
              0.7777777777777778,
              "#fb9f3a"
             ],
             [
              0.8888888888888888,
              "#fdca26"
             ],
             [
              1,
              "#f0f921"
             ]
            ],
            "type": "heatmapgl"
           }
          ],
          "histogram": [
           {
            "marker": {
             "pattern": {
              "fillmode": "overlay",
              "size": 10,
              "solidity": 0.2
             }
            },
            "type": "histogram"
           }
          ],
          "histogram2d": [
           {
            "colorbar": {
             "outlinewidth": 0,
             "ticks": ""
            },
            "colorscale": [
             [
              0,
              "#0d0887"
             ],
             [
              0.1111111111111111,
              "#46039f"
             ],
             [
              0.2222222222222222,
              "#7201a8"
             ],
             [
              0.3333333333333333,
              "#9c179e"
             ],
             [
              0.4444444444444444,
              "#bd3786"
             ],
             [
              0.5555555555555556,
              "#d8576b"
             ],
             [
              0.6666666666666666,
              "#ed7953"
             ],
             [
              0.7777777777777778,
              "#fb9f3a"
             ],
             [
              0.8888888888888888,
              "#fdca26"
             ],
             [
              1,
              "#f0f921"
             ]
            ],
            "type": "histogram2d"
           }
          ],
          "histogram2dcontour": [
           {
            "colorbar": {
             "outlinewidth": 0,
             "ticks": ""
            },
            "colorscale": [
             [
              0,
              "#0d0887"
             ],
             [
              0.1111111111111111,
              "#46039f"
             ],
             [
              0.2222222222222222,
              "#7201a8"
             ],
             [
              0.3333333333333333,
              "#9c179e"
             ],
             [
              0.4444444444444444,
              "#bd3786"
             ],
             [
              0.5555555555555556,
              "#d8576b"
             ],
             [
              0.6666666666666666,
              "#ed7953"
             ],
             [
              0.7777777777777778,
              "#fb9f3a"
             ],
             [
              0.8888888888888888,
              "#fdca26"
             ],
             [
              1,
              "#f0f921"
             ]
            ],
            "type": "histogram2dcontour"
           }
          ],
          "mesh3d": [
           {
            "colorbar": {
             "outlinewidth": 0,
             "ticks": ""
            },
            "type": "mesh3d"
           }
          ],
          "parcoords": [
           {
            "line": {
             "colorbar": {
              "outlinewidth": 0,
              "ticks": ""
             }
            },
            "type": "parcoords"
           }
          ],
          "pie": [
           {
            "automargin": true,
            "type": "pie"
           }
          ],
          "scatter": [
           {
            "fillpattern": {
             "fillmode": "overlay",
             "size": 10,
             "solidity": 0.2
            },
            "type": "scatter"
           }
          ],
          "scatter3d": [
           {
            "line": {
             "colorbar": {
              "outlinewidth": 0,
              "ticks": ""
             }
            },
            "marker": {
             "colorbar": {
              "outlinewidth": 0,
              "ticks": ""
             }
            },
            "type": "scatter3d"
           }
          ],
          "scattercarpet": [
           {
            "marker": {
             "colorbar": {
              "outlinewidth": 0,
              "ticks": ""
             }
            },
            "type": "scattercarpet"
           }
          ],
          "scattergeo": [
           {
            "marker": {
             "colorbar": {
              "outlinewidth": 0,
              "ticks": ""
             }
            },
            "type": "scattergeo"
           }
          ],
          "scattergl": [
           {
            "marker": {
             "colorbar": {
              "outlinewidth": 0,
              "ticks": ""
             }
            },
            "type": "scattergl"
           }
          ],
          "scattermapbox": [
           {
            "marker": {
             "colorbar": {
              "outlinewidth": 0,
              "ticks": ""
             }
            },
            "type": "scattermapbox"
           }
          ],
          "scatterpolar": [
           {
            "marker": {
             "colorbar": {
              "outlinewidth": 0,
              "ticks": ""
             }
            },
            "type": "scatterpolar"
           }
          ],
          "scatterpolargl": [
           {
            "marker": {
             "colorbar": {
              "outlinewidth": 0,
              "ticks": ""
             }
            },
            "type": "scatterpolargl"
           }
          ],
          "scatterternary": [
           {
            "marker": {
             "colorbar": {
              "outlinewidth": 0,
              "ticks": ""
             }
            },
            "type": "scatterternary"
           }
          ],
          "surface": [
           {
            "colorbar": {
             "outlinewidth": 0,
             "ticks": ""
            },
            "colorscale": [
             [
              0,
              "#0d0887"
             ],
             [
              0.1111111111111111,
              "#46039f"
             ],
             [
              0.2222222222222222,
              "#7201a8"
             ],
             [
              0.3333333333333333,
              "#9c179e"
             ],
             [
              0.4444444444444444,
              "#bd3786"
             ],
             [
              0.5555555555555556,
              "#d8576b"
             ],
             [
              0.6666666666666666,
              "#ed7953"
             ],
             [
              0.7777777777777778,
              "#fb9f3a"
             ],
             [
              0.8888888888888888,
              "#fdca26"
             ],
             [
              1,
              "#f0f921"
             ]
            ],
            "type": "surface"
           }
          ],
          "table": [
           {
            "cells": {
             "fill": {
              "color": "#EBF0F8"
             },
             "line": {
              "color": "white"
             }
            },
            "header": {
             "fill": {
              "color": "#C8D4E3"
             },
             "line": {
              "color": "white"
             }
            },
            "type": "table"
           }
          ]
         },
         "layout": {
          "annotationdefaults": {
           "arrowcolor": "#2a3f5f",
           "arrowhead": 0,
           "arrowwidth": 1
          },
          "autotypenumbers": "strict",
          "coloraxis": {
           "colorbar": {
            "outlinewidth": 0,
            "ticks": ""
           }
          },
          "colorscale": {
           "diverging": [
            [
             0,
             "#8e0152"
            ],
            [
             0.1,
             "#c51b7d"
            ],
            [
             0.2,
             "#de77ae"
            ],
            [
             0.3,
             "#f1b6da"
            ],
            [
             0.4,
             "#fde0ef"
            ],
            [
             0.5,
             "#f7f7f7"
            ],
            [
             0.6,
             "#e6f5d0"
            ],
            [
             0.7,
             "#b8e186"
            ],
            [
             0.8,
             "#7fbc41"
            ],
            [
             0.9,
             "#4d9221"
            ],
            [
             1,
             "#276419"
            ]
           ],
           "sequential": [
            [
             0,
             "#0d0887"
            ],
            [
             0.1111111111111111,
             "#46039f"
            ],
            [
             0.2222222222222222,
             "#7201a8"
            ],
            [
             0.3333333333333333,
             "#9c179e"
            ],
            [
             0.4444444444444444,
             "#bd3786"
            ],
            [
             0.5555555555555556,
             "#d8576b"
            ],
            [
             0.6666666666666666,
             "#ed7953"
            ],
            [
             0.7777777777777778,
             "#fb9f3a"
            ],
            [
             0.8888888888888888,
             "#fdca26"
            ],
            [
             1,
             "#f0f921"
            ]
           ],
           "sequentialminus": [
            [
             0,
             "#0d0887"
            ],
            [
             0.1111111111111111,
             "#46039f"
            ],
            [
             0.2222222222222222,
             "#7201a8"
            ],
            [
             0.3333333333333333,
             "#9c179e"
            ],
            [
             0.4444444444444444,
             "#bd3786"
            ],
            [
             0.5555555555555556,
             "#d8576b"
            ],
            [
             0.6666666666666666,
             "#ed7953"
            ],
            [
             0.7777777777777778,
             "#fb9f3a"
            ],
            [
             0.8888888888888888,
             "#fdca26"
            ],
            [
             1,
             "#f0f921"
            ]
           ]
          },
          "colorway": [
           "#636efa",
           "#EF553B",
           "#00cc96",
           "#ab63fa",
           "#FFA15A",
           "#19d3f3",
           "#FF6692",
           "#B6E880",
           "#FF97FF",
           "#FECB52"
          ],
          "font": {
           "color": "#2a3f5f"
          },
          "geo": {
           "bgcolor": "white",
           "lakecolor": "white",
           "landcolor": "#E5ECF6",
           "showlakes": true,
           "showland": true,
           "subunitcolor": "white"
          },
          "hoverlabel": {
           "align": "left"
          },
          "hovermode": "closest",
          "mapbox": {
           "style": "light"
          },
          "paper_bgcolor": "white",
          "plot_bgcolor": "#E5ECF6",
          "polar": {
           "angularaxis": {
            "gridcolor": "white",
            "linecolor": "white",
            "ticks": ""
           },
           "bgcolor": "#E5ECF6",
           "radialaxis": {
            "gridcolor": "white",
            "linecolor": "white",
            "ticks": ""
           }
          },
          "scene": {
           "xaxis": {
            "backgroundcolor": "#E5ECF6",
            "gridcolor": "white",
            "gridwidth": 2,
            "linecolor": "white",
            "showbackground": true,
            "ticks": "",
            "zerolinecolor": "white"
           },
           "yaxis": {
            "backgroundcolor": "#E5ECF6",
            "gridcolor": "white",
            "gridwidth": 2,
            "linecolor": "white",
            "showbackground": true,
            "ticks": "",
            "zerolinecolor": "white"
           },
           "zaxis": {
            "backgroundcolor": "#E5ECF6",
            "gridcolor": "white",
            "gridwidth": 2,
            "linecolor": "white",
            "showbackground": true,
            "ticks": "",
            "zerolinecolor": "white"
           }
          },
          "shapedefaults": {
           "line": {
            "color": "#2a3f5f"
           }
          },
          "ternary": {
           "aaxis": {
            "gridcolor": "white",
            "linecolor": "white",
            "ticks": ""
           },
           "baxis": {
            "gridcolor": "white",
            "linecolor": "white",
            "ticks": ""
           },
           "bgcolor": "#E5ECF6",
           "caxis": {
            "gridcolor": "white",
            "linecolor": "white",
            "ticks": ""
           }
          },
          "title": {
           "x": 0.05
          },
          "xaxis": {
           "automargin": true,
           "gridcolor": "white",
           "linecolor": "white",
           "ticks": "",
           "title": {
            "standoff": 15
           },
           "zerolinecolor": "white",
           "zerolinewidth": 2
          },
          "yaxis": {
           "automargin": true,
           "gridcolor": "white",
           "linecolor": "white",
           "ticks": "",
           "title": {
            "standoff": 15
           },
           "zerolinecolor": "white",
           "zerolinewidth": 2
          }
         }
        },
        "title": {
         "text": "pade_15_16"
        },
        "width": 1500,
        "xaxis": {
         "autorange": false,
         "range": [
          11.99984339687704,
          12.000650501913615
         ],
         "title": {
          "text": "$x$"
         },
         "type": "linear"
        },
        "yaxis": {
         "autorange": false,
         "exponentformat": "power",
         "range": [
          -16.340941700904374,
          -16.220928876947788
         ],
         "title": {
          "text": "$\\max|\\Delta|$"
         },
         "type": "log"
        }
       }
      },
      "image/png": "[encoded data removed]",
      "text/html": [
       "<div>                            <div id=\"290708f3-1d4d-4c0c-b63d-fc32e7a87459\" class=\"plotly-graph-div\" style=\"height:700px; width:1500px;\"></div>            <script type=\"text/javascript\">                require([\"plotly\"], function(Plotly) {                    window.PLOTLYENV=window.PLOTLYENV || {};                                    if (document.getElementById(\"290708f3-1d4d-4c0c-b63d-fc32e7a87459\")) {                    Plotly.newPlot(                        \"290708f3-1d4d-4c0c-b63d-fc32e7a87459\",                        [{\"hovertemplate\":\"x = %{x}<br>max(|&#x394;|) = %{y}<extra></extra>\",\"mode\":\"markers\",\"name\":\"1\",\"x\":[0.00115,11.992,13.501365],\"y\":[1.1102230246251565e-16,6.071532165918825e-17,3.469446951953614e-18],\"type\":\"scatter\"},{\"hovertemplate\":\"x = %{x}<br>max(|&#x394;|) = %{y}<extra></extra>\",\"mode\":\"markers\",\"name\":\"2\",\"x\":[0.00115,12.0,13.501365],\"y\":[5.551115123125783e-17,5.898059818321144e-17,4.336808689942018e-19],\"type\":\"scatter\"},{\"hovertemplate\":\"x = %{x}<br>max(|&#x394;|) = %{y}<extra></extra>\",\"mode\":\"markers\",\"name\":\"3\",\"x\":[0.0736,12.0,13.6365],\"y\":[5.551115123125783e-17,5.795060611935021e-17,1.0842021724855044e-19],\"type\":\"scatter\"},{\"hovertemplate\":\"x = %{x}<br>max(|&#x394;|) = %{y}<extra></extra>\",\"mode\":\"markers\",\"name\":\"4\",\"x\":[0.05405,11.998,13.65561],\"y\":[4.163336342344337e-17,5.818099908100338e-17,3.3881317890172014e-20],\"type\":\"scatter\"},{\"hovertemplate\":\"x = %{x}<br>max(|&#x394;|) = %{y}<extra></extra>\",\"mode\":\"markers\",\"name\":\"5\",\"x\":[0.00115,12.0,13.65561],\"y\":[2.7755575615628914e-17,5.75948522815034e-17,1.1858461261560205e-20],\"type\":\"scatter\"},{\"hovertemplate\":\"x = %{x}<br>max(|&#x394;|) = %{y}<extra></extra>\",\"mode\":\"markers\",\"name\":\"6\",\"x\":[0.00115,12.0,13.65561],\"y\":[2.7755575615628914e-17,5.576526111543412e-17,5.929230630780102e-21],\"type\":\"scatter\"},{\"hovertemplate\":\"x = %{x}<br>max(|&#x394;|) = %{y}<extra></extra>\",\"mode\":\"markers\",\"name\":\"7\",\"x\":[11.49885,11.998,13.65561],\"y\":[2.2497195079074217e-17,5.682320526655474e-17,2.964615315390051e-21],\"type\":\"scatter\"},{\"hovertemplate\":\"x = %{x}<br>max(|&#x394;|) = %{y}<extra></extra>\",\"mode\":\"markers\",\"name\":\"8\",\"x\":[11.4931,12.0,13.65561],\"y\":[2.2258331787948504e-17,5.712729009461903e-17,1.9058241313221758e-21],\"type\":\"scatter\"},{\"hovertemplate\":\"x = %{x}<br>max(|&#x394;|) = %{y}<extra></extra>\",\"mode\":\"markers\",\"name\":\"9\",\"x\":[11.49655,12.0,13.75935],\"y\":[2.1873778829895052e-17,5.617903671016784e-17,1.2705494208814505e-21],\"type\":\"scatter\"},{\"hovertemplate\":\"x = %{x}<br>max(|&#x394;|) = %{y}<extra></extra>\",\"mode\":\"markers\",\"name\":\"10\",\"x\":[11.49655,12.0,13.509555],\"y\":[2.1036486761534176e-17,5.5125962998493934e-17,9.529120656610879e-22],\"type\":\"scatter\"},{\"hovertemplate\":\"x = %{x}<br>max(|&#x394;|) = %{y}<extra></extra>\",\"mode\":\"markers\",\"name\":\"11\",\"x\":[11.4977,12.0,13.75935],\"y\":[2.1179211813146526e-17,5.499551992461677e-17,7.940933880509066e-22],\"type\":\"scatter\"},{\"hovertemplate\":\"x = %{x}<br>max(|&#x394;|) = %{y}<extra></extra>\",\"mode\":\"markers\",\"name\":\"12\",\"x\":[11.4977,12.0,13.75935],\"y\":[2.1281702799764296e-17,5.443584290471849e-17,6.88214269644119e-22],\"type\":\"scatter\"},{\"hovertemplate\":\"x = %{x}<br>max(|&#x394;|) = %{y}<extra></extra>\",\"mode\":\"markers\",\"name\":\"13\",\"x\":[11.49425,12.0,13.75935],\"y\":[2.1153800824728897e-17,5.378458044739834e-17,6.88214269644119e-22],\"type\":\"scatter\"},{\"hovertemplate\":\"x = %{x}<br>max(|&#x394;|) = %{y}<extra></extra>\",\"mode\":\"markers\",\"name\":\"14\",\"x\":[11.49885,12.0,13.75935],\"y\":[2.105808610168916e-17,5.371078270186881e-17,6.617444900424221e-22],\"type\":\"scatter\"},{\"hovertemplate\":\"x = %{x}<br>max(|&#x394;|) = %{y}<extra></extra>\",\"mode\":\"markers\",\"name\":\"15\",\"x\":[11.49885,12.0,13.75935],\"y\":[2.0240169911996727e-17,5.2651038605735275e-17,7.146840492458159e-22],\"type\":\"scatter\"},{\"hovertemplate\":\"x = %{x}<br>max(|&#x394;|) = %{y}<extra></extra>\",\"mode\":\"markers\",\"name\":\"16\",\"x\":[11.49885,11.998,13.509555],\"y\":[2.0210523758842826e-17,5.203069285098991e-17,8.205631676526035e-22],\"type\":\"scatter\"},{\"hovertemplate\":\"x = %{x}<br>max(|&#x394;|) = %{y}<extra></extra>\",\"mode\":\"markers\",\"name\":\"17\",\"x\":[11.49885,12.0,13.509555],\"y\":[2.0754954185690528e-17,5.196478309978168e-17,1.0323214044661785e-21],\"type\":\"scatter\"},{\"hovertemplate\":\"x = %{x}<br>max(|&#x394;|) = %{y}<extra></extra>\",\"mode\":\"markers\",\"name\":\"18\",\"x\":[11.4977,11.996,13.509555],\"y\":[1.9949108215496468e-17,5.0966025375850455e-17,1.3499587596865412e-21],\"type\":\"scatter\"},{\"hovertemplate\":\"x = %{x}<br>max(|&#x394;|) = %{y}<extra></extra>\",\"mode\":\"markers\",\"name\":\"19\",\"x\":[11.49885,12.0,13.509555],\"y\":[2.0023011840144406e-17,5.1027011748052764e-17,1.8661194619196304e-21],\"type\":\"scatter\"},{\"hovertemplate\":\"x = %{x}<br>max(|&#x394;|) = %{y}<extra></extra>\",\"mode\":\"markers\",\"name\":\"20\",\"x\":[11.4977,11.998,13.509555],\"y\":[1.9669163826428922e-17,5.036134973062929e-17,2.686682629572234e-21],\"type\":\"scatter\"}],                        {\"template\":{\"data\":{\"histogram2dcontour\":[{\"type\":\"histogram2dcontour\",\"colorbar\":{\"outlinewidth\":0,\"ticks\":\"\"},\"colorscale\":[[0.0,\"#0d0887\"],[0.1111111111111111,\"#46039f\"],[0.2222222222222222,\"#7201a8\"],[0.3333333333333333,\"#9c179e\"],[0.4444444444444444,\"#bd3786\"],[0.5555555555555556,\"#d8576b\"],[0.6666666666666666,\"#ed7953\"],[0.7777777777777778,\"#fb9f3a\"],[0.8888888888888888,\"#fdca26\"],[1.0,\"#f0f921\"]]}],\"choropleth\":[{\"type\":\"choropleth\",\"colorbar\":{\"outlinewidth\":0,\"ticks\":\"\"}}],\"histogram2d\":[{\"type\":\"histogram2d\",\"colorbar\":{\"outlinewidth\":0,\"ticks\":\"\"},\"colorscale\":[[0.0,\"#0d0887\"],[0.1111111111111111,\"#46039f\"],[0.2222222222222222,\"#7201a8\"],[0.3333333333333333,\"#9c179e\"],[0.4444444444444444,\"#bd3786\"],[0.5555555555555556,\"#d8576b\"],[0.6666666666666666,\"#ed7953\"],[0.7777777777777778,\"#fb9f3a\"],[0.8888888888888888,\"#fdca26\"],[1.0,\"#f0f921\"]]}],\"heatmap\":[{\"type\":\"heatmap\",\"colorbar\":{\"outlinewidth\":0,\"ticks\":\"\"},\"colorscale\":[[0.0,\"#0d0887\"],[0.1111111111111111,\"#46039f\"],[0.2222222222222222,\"#7201a8\"],[0.3333333333333333,\"#9c179e\"],[0.4444444444444444,\"#bd3786\"],[0.5555555555555556,\"#d8576b\"],[0.6666666666666666,\"#ed7953\"],[0.7777777777777778,\"#fb9f3a\"],[0.8888888888888888,\"#fdca26\"],[1.0,\"#f0f921\"]]}],\"heatmapgl\":[{\"type\":\"heatmapgl\",\"colorbar\":{\"outlinewidth\":0,\"ticks\":\"\"},\"colorscale\":[[0.0,\"#0d0887\"],[0.1111111111111111,\"#46039f\"],[0.2222222222222222,\"#7201a8\"],[0.3333333333333333,\"#9c179e\"],[0.4444444444444444,\"#bd3786\"],[0.5555555555555556,\"#d8576b\"],[0.6666666666666666,\"#ed7953\"],[0.7777777777777778,\"#fb9f3a\"],[0.8888888888888888,\"#fdca26\"],[1.0,\"#f0f921\"]]}],\"contourcarpet\":[{\"type\":\"contourcarpet\",\"colorbar\":{\"outlinewidth\":0,\"ticks\":\"\"}}],\"contour\":[{\"type\":\"contour\",\"colorbar\":{\"outlinewidth\":0,\"ticks\":\"\"},\"colorscale\":[[0.0,\"#0d0887\"],[0.1111111111111111,\"#46039f\"],[0.2222222222222222,\"#7201a8\"],[0.3333333333333333,\"#9c179e\"],[0.4444444444444444,\"#bd3786\"],[0.5555555555555556,\"#d8576b\"],[0.6666666666666666,\"#ed7953\"],[0.7777777777777778,\"#fb9f3a\"],[0.8888888888888888,\"#fdca26\"],[1.0,\"#f0f921\"]]}],\"surface\":[{\"type\":\"surface\",\"colorbar\":{\"outlinewidth\":0,\"ticks\":\"\"},\"colorscale\":[[0.0,\"#0d0887\"],[0.1111111111111111,\"#46039f\"],[0.2222222222222222,\"#7201a8\"],[0.3333333333333333,\"#9c179e\"],[0.4444444444444444,\"#bd3786\"],[0.5555555555555556,\"#d8576b\"],[0.6666666666666666,\"#ed7953\"],[0.7777777777777778,\"#fb9f3a\"],[0.8888888888888888,\"#fdca26\"],[1.0,\"#f0f921\"]]}],\"mesh3d\":[{\"type\":\"mesh3d\",\"colorbar\":{\"outlinewidth\":0,\"ticks\":\"\"}}],\"scatter\":[{\"fillpattern\":{\"fillmode\":\"overlay\",\"size\":10,\"solidity\":0.2},\"type\":\"scatter\"}],\"parcoords\":[{\"type\":\"parcoords\",\"line\":{\"colorbar\":{\"outlinewidth\":0,\"ticks\":\"\"}}}],\"scatterpolargl\":[{\"type\":\"scatterpolargl\",\"marker\":{\"colorbar\":{\"outlinewidth\":0,\"ticks\":\"\"}}}],\"bar\":[{\"error_x\":{\"color\":\"#2a3f5f\"},\"error_y\":{\"color\":\"#2a3f5f\"},\"marker\":{\"line\":{\"color\":\"#E5ECF6\",\"width\":0.5},\"pattern\":{\"fillmode\":\"overlay\",\"size\":10,\"solidity\":0.2}},\"type\":\"bar\"}],\"scattergeo\":[{\"type\":\"scattergeo\",\"marker\":{\"colorbar\":{\"outlinewidth\":0,\"ticks\":\"\"}}}],\"scatterpolar\":[{\"type\":\"scatterpolar\",\"marker\":{\"colorbar\":{\"outlinewidth\":0,\"ticks\":\"\"}}}],\"histogram\":[{\"marker\":{\"pattern\":{\"fillmode\":\"overlay\",\"size\":10,\"solidity\":0.2}},\"type\":\"histogram\"}],\"scattergl\":[{\"type\":\"scattergl\",\"marker\":{\"colorbar\":{\"outlinewidth\":0,\"ticks\":\"\"}}}],\"scatter3d\":[{\"type\":\"scatter3d\",\"line\":{\"colorbar\":{\"outlinewidth\":0,\"ticks\":\"\"}},\"marker\":{\"colorbar\":{\"outlinewidth\":0,\"ticks\":\"\"}}}],\"scattermapbox\":[{\"type\":\"scattermapbox\",\"marker\":{\"colorbar\":{\"outlinewidth\":0,\"ticks\":\"\"}}}],\"scatterternary\":[{\"type\":\"scatterternary\",\"marker\":{\"colorbar\":{\"outlinewidth\":0,\"ticks\":\"\"}}}],\"scattercarpet\":[{\"type\":\"scattercarpet\",\"marker\":{\"colorbar\":{\"outlinewidth\":0,\"ticks\":\"\"}}}],\"carpet\":[{\"aaxis\":{\"endlinecolor\":\"#2a3f5f\",\"gridcolor\":\"white\",\"linecolor\":\"white\",\"minorgridcolor\":\"white\",\"startlinecolor\":\"#2a3f5f\"},\"baxis\":{\"endlinecolor\":\"#2a3f5f\",\"gridcolor\":\"white\",\"linecolor\":\"white\",\"minorgridcolor\":\"white\",\"startlinecolor\":\"#2a3f5f\"},\"type\":\"carpet\"}],\"table\":[{\"cells\":{\"fill\":{\"color\":\"#EBF0F8\"},\"line\":{\"color\":\"white\"}},\"header\":{\"fill\":{\"color\":\"#C8D4E3\"},\"line\":{\"color\":\"white\"}},\"type\":\"table\"}],\"barpolar\":[{\"marker\":{\"line\":{\"color\":\"#E5ECF6\",\"width\":0.5},\"pattern\":{\"fillmode\":\"overlay\",\"size\":10,\"solidity\":0.2}},\"type\":\"barpolar\"}],\"pie\":[{\"automargin\":true,\"type\":\"pie\"}]},\"layout\":{\"autotypenumbers\":\"strict\",\"colorway\":[\"#636efa\",\"#EF553B\",\"#00cc96\",\"#ab63fa\",\"#FFA15A\",\"#19d3f3\",\"#FF6692\",\"#B6E880\",\"#FF97FF\",\"#FECB52\"],\"font\":{\"color\":\"#2a3f5f\"},\"hovermode\":\"closest\",\"hoverlabel\":{\"align\":\"left\"},\"paper_bgcolor\":\"white\",\"plot_bgcolor\":\"#E5ECF6\",\"polar\":{\"bgcolor\":\"#E5ECF6\",\"angularaxis\":{\"gridcolor\":\"white\",\"linecolor\":\"white\",\"ticks\":\"\"},\"radialaxis\":{\"gridcolor\":\"white\",\"linecolor\":\"white\",\"ticks\":\"\"}},\"ternary\":{\"bgcolor\":\"#E5ECF6\",\"aaxis\":{\"gridcolor\":\"white\",\"linecolor\":\"white\",\"ticks\":\"\"},\"baxis\":{\"gridcolor\":\"white\",\"linecolor\":\"white\",\"ticks\":\"\"},\"caxis\":{\"gridcolor\":\"white\",\"linecolor\":\"white\",\"ticks\":\"\"}},\"coloraxis\":{\"colorbar\":{\"outlinewidth\":0,\"ticks\":\"\"}},\"colorscale\":{\"sequential\":[[0.0,\"#0d0887\"],[0.1111111111111111,\"#46039f\"],[0.2222222222222222,\"#7201a8\"],[0.3333333333333333,\"#9c179e\"],[0.4444444444444444,\"#bd3786\"],[0.5555555555555556,\"#d8576b\"],[0.6666666666666666,\"#ed7953\"],[0.7777777777777778,\"#fb9f3a\"],[0.8888888888888888,\"#fdca26\"],[1.0,\"#f0f921\"]],\"sequentialminus\":[[0.0,\"#0d0887\"],[0.1111111111111111,\"#46039f\"],[0.2222222222222222,\"#7201a8\"],[0.3333333333333333,\"#9c179e\"],[0.4444444444444444,\"#bd3786\"],[0.5555555555555556,\"#d8576b\"],[0.6666666666666666,\"#ed7953\"],[0.7777777777777778,\"#fb9f3a\"],[0.8888888888888888,\"#fdca26\"],[1.0,\"#f0f921\"]],\"diverging\":[[0,\"#8e0152\"],[0.1,\"#c51b7d\"],[0.2,\"#de77ae\"],[0.3,\"#f1b6da\"],[0.4,\"#fde0ef\"],[0.5,\"#f7f7f7\"],[0.6,\"#e6f5d0\"],[0.7,\"#b8e186\"],[0.8,\"#7fbc41\"],[0.9,\"#4d9221\"],[1,\"#276419\"]]},\"xaxis\":{\"gridcolor\":\"white\",\"linecolor\":\"white\",\"ticks\":\"\",\"title\":{\"standoff\":15},\"zerolinecolor\":\"white\",\"automargin\":true,\"zerolinewidth\":2},\"yaxis\":{\"gridcolor\":\"white\",\"linecolor\":\"white\",\"ticks\":\"\",\"title\":{\"standoff\":15},\"zerolinecolor\":\"white\",\"automargin\":true,\"zerolinewidth\":2},\"scene\":{\"xaxis\":{\"backgroundcolor\":\"#E5ECF6\",\"gridcolor\":\"white\",\"linecolor\":\"white\",\"showbackground\":true,\"ticks\":\"\",\"zerolinecolor\":\"white\",\"gridwidth\":2},\"yaxis\":{\"backgroundcolor\":\"#E5ECF6\",\"gridcolor\":\"white\",\"linecolor\":\"white\",\"showbackground\":true,\"ticks\":\"\",\"zerolinecolor\":\"white\",\"gridwidth\":2},\"zaxis\":{\"backgroundcolor\":\"#E5ECF6\",\"gridcolor\":\"white\",\"linecolor\":\"white\",\"showbackground\":true,\"ticks\":\"\",\"zerolinecolor\":\"white\",\"gridwidth\":2}},\"shapedefaults\":{\"line\":{\"color\":\"#2a3f5f\"}},\"annotationdefaults\":{\"arrowcolor\":\"#2a3f5f\",\"arrowhead\":0,\"arrowwidth\":1},\"geo\":{\"bgcolor\":\"white\",\"landcolor\":\"#E5ECF6\",\"subunitcolor\":\"white\",\"showland\":true,\"showlakes\":true,\"lakecolor\":\"white\"},\"title\":{\"x\":0.05},\"mapbox\":{\"style\":\"light\"}}},\"legend\":{\"title\":{\"text\":\"Boys' function order\"}},\"title\":{\"text\":\"pade_15_16\"},\"autosize\":false,\"width\":1500,\"height\":700,\"xaxis\":{\"title\":{\"text\":\"$x$\"},\"range\":[0.0,20.0]},\"yaxis\":{\"title\":{\"text\":\"$\\\\max|\\\\Delta|$\"},\"type\":\"log\",\"range\":[-24,-4],\"exponentformat\":\"power\"},\"shapes\":[{\"line\":{\"width\":0.7},\"type\":\"line\",\"x0\":11.5,\"x1\":11.5,\"xref\":\"x\",\"y0\":0,\"y1\":1,\"yref\":\"y domain\"},{\"line\":{\"width\":0.7},\"type\":\"line\",\"x0\":13.5,\"x1\":13.5,\"xref\":\"x\",\"y0\":0,\"y1\":1,\"yref\":\"y domain\"},{\"line\":{\"color\":\"blue\",\"dash\":\"dot\",\"width\":0.5},\"type\":\"line\",\"x0\":0,\"x1\":1,\"xref\":\"x domain\",\"y0\":1e-14,\"y1\":1e-14,\"yref\":\"y\"},{\"line\":{\"color\":\"red\",\"dash\":\"dot\",\"width\":0.5},\"type\":\"line\",\"x0\":0,\"x1\":1,\"xref\":\"x domain\",\"y0\":1e-16,\"y1\":1e-16,\"yref\":\"y\"},{\"line\":{\"color\":\"green\",\"dash\":\"dot\",\"width\":0.5},\"type\":\"line\",\"x0\":0,\"x1\":1,\"xref\":\"x domain\",\"y0\":1e-18,\"y1\":1e-18,\"yref\":\"y\"}]},                        {\"responsive\": true}                    ).then(function(){\n",
       "                            \n",
       "var gd = document.getElementById('290708f3-1d4d-4c0c-b63d-fc32e7a87459');\n",
       "var x = new MutationObserver(function (mutations, observer) {{\n",
       "        var display = window.getComputedStyle(gd).display;\n",
       "        if (!display || display === 'none') {{\n",
       "            console.log([gd, 'removed!']);\n",
       "            Plotly.purge(gd);\n",
       "            observer.disconnect();\n",
       "        }}\n",
       "}});\n",
       "\n",
       "// Listen for the removal of the full notebook cells\n",
       "var notebookContainer = gd.closest('#notebook-container');\n",
       "if (notebookContainer) {{\n",
       "    x.observe(notebookContainer, {childList: true});\n",
       "}}\n",
       "\n",
       "// Listen for the clearing of the current output cell\n",
       "var outputEl = gd.closest('.output');\n",
       "if (outputEl) {{\n",
       "    x.observe(outputEl, {childList: true});\n",
       "}}\n",
       "\n",
       "                        })                };                });            </script>        </div>"
      ]
     },
     "metadata": {},
     "output_type": "display_data"
    },
    {
     "data": {
      "application/vnd.plotly.v1+json": {
       "config": {
        "plotlyServerURL": "https://plot.ly"
       },
       "data": [
        {
         "hovertemplate": "x = %{x}<br>max(|&#x394;|) = %{y}<extra></extra>",
         "mode": "markers",
         "name": "1",
         "type": "scatter",
         "x": [
          0.0161,
          11.54,
          13.501365
         ],
         "y": [
          1.1102230246251565e-16,
          6.938893903907228e-18,
          3.469446951953614e-18
         ]
        },
        {
         "hovertemplate": "x = %{x}<br>max(|&#x394;|) = %{y}<extra></extra>",
         "mode": "markers",
         "name": "2",
         "type": "scatter",
         "x": [
          0.00115,
          11.672,
          13.501365
         ],
         "y": [
          5.551115123125783e-17,
          1.5178830414797062e-18,
          4.336808689942018e-19
         ]
        },
        {
         "hovertemplate": "x = %{x}<br>max(|&#x394;|) = %{y}<extra></extra>",
         "mode": "markers",
         "name": "3",
         "type": "scatter",
         "x": [
          0.10695,
          11.678,
          13.6365
         ],
         "y": [
          5.551115123125783e-17,
          9.75781955236954e-19,
          1.0842021724855044e-19
         ]
        },
        {
         "hovertemplate": "x = %{x}<br>max(|&#x394;|) = %{y}<extra></extra>",
         "mode": "markers",
         "name": "4",
         "type": "scatter",
         "x": [
          0.10464999999999999,
          11.598,
          13.65561
         ],
         "y": [
          4.163336342344337e-17,
          1.0028870095490916e-18,
          3.3881317890172014e-20
         ]
        },
        {
         "hovertemplate": "x = %{x}<br>max(|&#x394;|) = %{y}<extra></extra>",
         "mode": "markers",
         "name": "5",
         "type": "scatter",
         "x": [
          0.01725,
          11.838,
          13.65561
         ],
         "y": [
          2.7755575615628914e-17,
          1.1384122811097797e-18,
          1.1858461261560205e-20
         ]
        },
        {
         "hovertemplate": "x = %{x}<br>max(|&#x394;|) = %{y}<extra></extra>",
         "mode": "markers",
         "name": "6",
         "type": "scatter",
         "x": [
          0.00115,
          11.684,
          13.65561
         ],
         "y": [
          2.7755575615628914e-17,
          7.555533889508359e-19,
          5.929230630780102e-21
         ]
        },
        {
         "hovertemplate": "x = %{x}<br>max(|&#x394;|) = %{y}<extra></extra>",
         "mode": "markers",
         "name": "7",
         "type": "scatter",
         "x": [
          0.0023,
          11.592,
          13.65561
         ],
         "y": [
          1.3877787807814457e-17,
          1.6042804020996448e-18,
          2.964615315390051e-21
         ]
        },
        {
         "hovertemplate": "x = %{x}<br>max(|&#x394;|) = %{y}<extra></extra>",
         "mode": "markers",
         "name": "8",
         "type": "scatter",
         "x": [
          0.01265,
          11.768,
          13.65561
         ],
         "y": [
          1.3877787807814457e-17,
          9.613823951336309e-19,
          1.9058241313221758e-21
         ]
        },
        {
         "hovertemplate": "x = %{x}<br>max(|&#x394;|) = %{y}<extra></extra>",
         "mode": "markers",
         "name": "9",
         "type": "scatter",
         "x": [
          0.0138,
          11.924,
          13.75935
         ],
         "y": [
          1.3877787807814457e-17,
          5.433716356636337e-19,
          1.2705494208814505e-21
         ]
        },
        {
         "hovertemplate": "x = %{x}<br>max(|&#x394;|) = %{y}<extra></extra>",
         "mode": "markers",
         "name": "10",
         "type": "scatter",
         "x": [
          0.0138,
          11.736,
          13.509555
         ],
         "y": [
          1.3877787807814457e-17,
          1.249373597200093e-18,
          9.529120656610879e-22
         ]
        },
        {
         "hovertemplate": "x = %{x}<br>max(|&#x394;|) = %{y}<extra></extra>",
         "mode": "markers",
         "name": "11",
         "type": "scatter",
         "x": [
          0.03335,
          11.76,
          13.75935
         ],
         "y": [
          1.3877787807814457e-17,
          7.129899833513073e-19,
          7.940933880509066e-22
         ]
        },
        {
         "hovertemplate": "x = %{x}<br>max(|&#x394;|) = %{y}<extra></extra>",
         "mode": "markers",
         "name": "12",
         "type": "scatter",
         "x": [
          0.04025,
          11.796,
          13.75935
         ],
         "y": [
          1.3877787807814457e-17,
          9.81711185867734e-19,
          6.88214269644119e-22
         ]
        },
        {
         "hovertemplate": "x = %{x}<br>max(|&#x394;|) = %{y}<extra></extra>",
         "mode": "markers",
         "name": "13",
         "type": "scatter",
         "x": [
          0.08855,
          11.648,
          13.75935
         ],
         "y": [
          1.3877787807814457e-17,
          6.456508640445904e-19,
          6.88214269644119e-22
         ]
        },
        {
         "hovertemplate": "x = %{x}<br>max(|&#x394;|) = %{y}<extra></extra>",
         "mode": "markers",
         "name": "14",
         "type": "scatter",
         "x": [
          0.069,
          11.864,
          13.75935
         ],
         "y": [
          1.3877787807814457e-17,
          6.50838940846523e-19,
          6.617444900424221e-22
         ]
        },
        {
         "hovertemplate": "x = %{x}<br>max(|&#x394;|) = %{y}<extra></extra>",
         "mode": "markers",
         "name": "15",
         "type": "scatter",
         "x": [
          0.028749999999999998,
          11.944,
          13.75935
         ],
         "y": [
          1.3877787807814457e-17,
          4.9763185651190145e-19,
          7.146840492458159e-22
         ]
        },
        {
         "hovertemplate": "x = %{x}<br>max(|&#x394;|) = %{y}<extra></extra>",
         "mode": "markers",
         "name": "16",
         "type": "scatter",
         "x": [
          0.0253,
          11.614,
          13.509555
         ],
         "y": [
          6.938893903907228e-18,
          6.8715547846005115e-19,
          8.205631676526035e-22
         ]
        },
        {
         "hovertemplate": "x = %{x}<br>max(|&#x394;|) = %{y}<extra></extra>",
         "mode": "markers",
         "name": "17",
         "type": "scatter",
         "x": [
          0.0253,
          11.562,
          13.509555
         ],
         "y": [
          1.0408340855860843e-17,
          8.967961329054905e-19,
          1.0323214044661785e-21
         ]
        },
        {
         "hovertemplate": "x = %{x}<br>max(|&#x394;|) = %{y}<extra></extra>",
         "mode": "markers",
         "name": "18",
         "type": "scatter",
         "x": [
          0.00805,
          11.914,
          13.509555
         ],
         "y": [
          6.938893903907228e-18,
          3.919115567827241e-19,
          1.3499587596865412e-21
         ]
        },
        {
         "hovertemplate": "x = %{x}<br>max(|&#x394;|) = %{y}<extra></extra>",
         "mode": "markers",
         "name": "19",
         "type": "scatter",
         "x": [
          0.01495,
          11.536,
          13.509555
         ],
         "y": [
          6.938893903907228e-18,
          4.818558678692901e-19,
          1.8661194619196304e-21
         ]
        },
        {
         "hovertemplate": "x = %{x}<br>max(|&#x394;|) = %{y}<extra></extra>",
         "mode": "markers",
         "name": "20",
         "type": "scatter",
         "x": [
          0.0023,
          11.846,
          13.509555
         ],
         "y": [
          6.938893903907228e-18,
          4.410924072826769e-19,
          2.686682629572234e-21
         ]
        }
       ],
       "layout": {
        "autosize": false,
        "height": 700,
        "legend": {
         "title": {
          "text": "Boys' function order"
         }
        },
        "shapes": [
         {
          "line": {
           "width": 0.7
          },
          "type": "line",
          "x0": 11.5,
          "x1": 11.5,
          "xref": "x",
          "y0": 0,
          "y1": 1,
          "yref": "y domain"
         },
         {
          "line": {
           "width": 0.7
          },
          "type": "line",
          "x0": 13.5,
          "x1": 13.5,
          "xref": "x",
          "y0": 0,
          "y1": 1,
          "yref": "y domain"
         },
         {
          "line": {
           "color": "blue",
           "dash": "dot",
           "width": 0.5
          },
          "type": "line",
          "x0": 0,
          "x1": 1,
          "xref": "x domain",
          "y0": 1e-14,
          "y1": 1e-14,
          "yref": "y"
         },
         {
          "line": {
           "color": "red",
           "dash": "dot",
           "width": 0.5
          },
          "type": "line",
          "x0": 0,
          "x1": 1,
          "xref": "x domain",
          "y0": 1e-16,
          "y1": 1e-16,
          "yref": "y"
         },
         {
          "line": {
           "color": "green",
           "dash": "dot",
           "width": 0.5
          },
          "type": "line",
          "x0": 0,
          "x1": 1,
          "xref": "x domain",
          "y0": 1e-18,
          "y1": 1e-18,
          "yref": "y"
         }
        ],
        "template": {
         "data": {
          "bar": [
           {
            "error_x": {
             "color": "#2a3f5f"
            },
            "error_y": {
             "color": "#2a3f5f"
            },
            "marker": {
             "line": {
              "color": "#E5ECF6",
              "width": 0.5
             },
             "pattern": {
              "fillmode": "overlay",
              "size": 10,
              "solidity": 0.2
             }
            },
            "type": "bar"
           }
          ],
          "barpolar": [
           {
            "marker": {
             "line": {
              "color": "#E5ECF6",
              "width": 0.5
             },
             "pattern": {
              "fillmode": "overlay",
              "size": 10,
              "solidity": 0.2
             }
            },
            "type": "barpolar"
           }
          ],
          "carpet": [
           {
            "aaxis": {
             "endlinecolor": "#2a3f5f",
             "gridcolor": "white",
             "linecolor": "white",
             "minorgridcolor": "white",
             "startlinecolor": "#2a3f5f"
            },
            "baxis": {
             "endlinecolor": "#2a3f5f",
             "gridcolor": "white",
             "linecolor": "white",
             "minorgridcolor": "white",
             "startlinecolor": "#2a3f5f"
            },
            "type": "carpet"
           }
          ],
          "choropleth": [
           {
            "colorbar": {
             "outlinewidth": 0,
             "ticks": ""
            },
            "type": "choropleth"
           }
          ],
          "contour": [
           {
            "colorbar": {
             "outlinewidth": 0,
             "ticks": ""
            },
            "colorscale": [
             [
              0,
              "#0d0887"
             ],
             [
              0.1111111111111111,
              "#46039f"
             ],
             [
              0.2222222222222222,
              "#7201a8"
             ],
             [
              0.3333333333333333,
              "#9c179e"
             ],
             [
              0.4444444444444444,
              "#bd3786"
             ],
             [
              0.5555555555555556,
              "#d8576b"
             ],
             [
              0.6666666666666666,
              "#ed7953"
             ],
             [
              0.7777777777777778,
              "#fb9f3a"
             ],
             [
              0.8888888888888888,
              "#fdca26"
             ],
             [
              1,
              "#f0f921"
             ]
            ],
            "type": "contour"
           }
          ],
          "contourcarpet": [
           {
            "colorbar": {
             "outlinewidth": 0,
             "ticks": ""
            },
            "type": "contourcarpet"
           }
          ],
          "heatmap": [
           {
            "colorbar": {
             "outlinewidth": 0,
             "ticks": ""
            },
            "colorscale": [
             [
              0,
              "#0d0887"
             ],
             [
              0.1111111111111111,
              "#46039f"
             ],
             [
              0.2222222222222222,
              "#7201a8"
             ],
             [
              0.3333333333333333,
              "#9c179e"
             ],
             [
              0.4444444444444444,
              "#bd3786"
             ],
             [
              0.5555555555555556,
              "#d8576b"
             ],
             [
              0.6666666666666666,
              "#ed7953"
             ],
             [
              0.7777777777777778,
              "#fb9f3a"
             ],
             [
              0.8888888888888888,
              "#fdca26"
             ],
             [
              1,
              "#f0f921"
             ]
            ],
            "type": "heatmap"
           }
          ],
          "heatmapgl": [
           {
            "colorbar": {
             "outlinewidth": 0,
             "ticks": ""
            },
            "colorscale": [
             [
              0,
              "#0d0887"
             ],
             [
              0.1111111111111111,
              "#46039f"
             ],
             [
              0.2222222222222222,
              "#7201a8"
             ],
             [
              0.3333333333333333,
              "#9c179e"
             ],
             [
              0.4444444444444444,
              "#bd3786"
             ],
             [
              0.5555555555555556,
              "#d8576b"
             ],
             [
              0.6666666666666666,
              "#ed7953"
             ],
             [
              0.7777777777777778,
              "#fb9f3a"
             ],
             [
              0.8888888888888888,
              "#fdca26"
             ],
             [
              1,
              "#f0f921"
             ]
            ],
            "type": "heatmapgl"
           }
          ],
          "histogram": [
           {
            "marker": {
             "pattern": {
              "fillmode": "overlay",
              "size": 10,
              "solidity": 0.2
             }
            },
            "type": "histogram"
           }
          ],
          "histogram2d": [
           {
            "colorbar": {
             "outlinewidth": 0,
             "ticks": ""
            },
            "colorscale": [
             [
              0,
              "#0d0887"
             ],
             [
              0.1111111111111111,
              "#46039f"
             ],
             [
              0.2222222222222222,
              "#7201a8"
             ],
             [
              0.3333333333333333,
              "#9c179e"
             ],
             [
              0.4444444444444444,
              "#bd3786"
             ],
             [
              0.5555555555555556,
              "#d8576b"
             ],
             [
              0.6666666666666666,
              "#ed7953"
             ],
             [
              0.7777777777777778,
              "#fb9f3a"
             ],
             [
              0.8888888888888888,
              "#fdca26"
             ],
             [
              1,
              "#f0f921"
             ]
            ],
            "type": "histogram2d"
           }
          ],
          "histogram2dcontour": [
           {
            "colorbar": {
             "outlinewidth": 0,
             "ticks": ""
            },
            "colorscale": [
             [
              0,
              "#0d0887"
             ],
             [
              0.1111111111111111,
              "#46039f"
             ],
             [
              0.2222222222222222,
              "#7201a8"
             ],
             [
              0.3333333333333333,
              "#9c179e"
             ],
             [
              0.4444444444444444,
              "#bd3786"
             ],
             [
              0.5555555555555556,
              "#d8576b"
             ],
             [
              0.6666666666666666,
              "#ed7953"
             ],
             [
              0.7777777777777778,
              "#fb9f3a"
             ],
             [
              0.8888888888888888,
              "#fdca26"
             ],
             [
              1,
              "#f0f921"
             ]
            ],
            "type": "histogram2dcontour"
           }
          ],
          "mesh3d": [
           {
            "colorbar": {
             "outlinewidth": 0,
             "ticks": ""
            },
            "type": "mesh3d"
           }
          ],
          "parcoords": [
           {
            "line": {
             "colorbar": {
              "outlinewidth": 0,
              "ticks": ""
             }
            },
            "type": "parcoords"
           }
          ],
          "pie": [
           {
            "automargin": true,
            "type": "pie"
           }
          ],
          "scatter": [
           {
            "fillpattern": {
             "fillmode": "overlay",
             "size": 10,
             "solidity": 0.2
            },
            "type": "scatter"
           }
          ],
          "scatter3d": [
           {
            "line": {
             "colorbar": {
              "outlinewidth": 0,
              "ticks": ""
             }
            },
            "marker": {
             "colorbar": {
              "outlinewidth": 0,
              "ticks": ""
             }
            },
            "type": "scatter3d"
           }
          ],
          "scattercarpet": [
           {
            "marker": {
             "colorbar": {
              "outlinewidth": 0,
              "ticks": ""
             }
            },
            "type": "scattercarpet"
           }
          ],
          "scattergeo": [
           {
            "marker": {
             "colorbar": {
              "outlinewidth": 0,
              "ticks": ""
             }
            },
            "type": "scattergeo"
           }
          ],
          "scattergl": [
           {
            "marker": {
             "colorbar": {
              "outlinewidth": 0,
              "ticks": ""
             }
            },
            "type": "scattergl"
           }
          ],
          "scattermapbox": [
           {
            "marker": {
             "colorbar": {
              "outlinewidth": 0,
              "ticks": ""
             }
            },
            "type": "scattermapbox"
           }
          ],
          "scatterpolar": [
           {
            "marker": {
             "colorbar": {
              "outlinewidth": 0,
              "ticks": ""
             }
            },
            "type": "scatterpolar"
           }
          ],
          "scatterpolargl": [
           {
            "marker": {
             "colorbar": {
              "outlinewidth": 0,
              "ticks": ""
             }
            },
            "type": "scatterpolargl"
           }
          ],
          "scatterternary": [
           {
            "marker": {
             "colorbar": {
              "outlinewidth": 0,
              "ticks": ""
             }
            },
            "type": "scatterternary"
           }
          ],
          "surface": [
           {
            "colorbar": {
             "outlinewidth": 0,
             "ticks": ""
            },
            "colorscale": [
             [
              0,
              "#0d0887"
             ],
             [
              0.1111111111111111,
              "#46039f"
             ],
             [
              0.2222222222222222,
              "#7201a8"
             ],
             [
              0.3333333333333333,
              "#9c179e"
             ],
             [
              0.4444444444444444,
              "#bd3786"
             ],
             [
              0.5555555555555556,
              "#d8576b"
             ],
             [
              0.6666666666666666,
              "#ed7953"
             ],
             [
              0.7777777777777778,
              "#fb9f3a"
             ],
             [
              0.8888888888888888,
              "#fdca26"
             ],
             [
              1,
              "#f0f921"
             ]
            ],
            "type": "surface"
           }
          ],
          "table": [
           {
            "cells": {
             "fill": {
              "color": "#EBF0F8"
             },
             "line": {
              "color": "white"
             }
            },
            "header": {
             "fill": {
              "color": "#C8D4E3"
             },
             "line": {
              "color": "white"
             }
            },
            "type": "table"
           }
          ]
         },
         "layout": {
          "annotationdefaults": {
           "arrowcolor": "#2a3f5f",
           "arrowhead": 0,
           "arrowwidth": 1
          },
          "autotypenumbers": "strict",
          "coloraxis": {
           "colorbar": {
            "outlinewidth": 0,
            "ticks": ""
           }
          },
          "colorscale": {
           "diverging": [
            [
             0,
             "#8e0152"
            ],
            [
             0.1,
             "#c51b7d"
            ],
            [
             0.2,
             "#de77ae"
            ],
            [
             0.3,
             "#f1b6da"
            ],
            [
             0.4,
             "#fde0ef"
            ],
            [
             0.5,
             "#f7f7f7"
            ],
            [
             0.6,
             "#e6f5d0"
            ],
            [
             0.7,
             "#b8e186"
            ],
            [
             0.8,
             "#7fbc41"
            ],
            [
             0.9,
             "#4d9221"
            ],
            [
             1,
             "#276419"
            ]
           ],
           "sequential": [
            [
             0,
             "#0d0887"
            ],
            [
             0.1111111111111111,
             "#46039f"
            ],
            [
             0.2222222222222222,
             "#7201a8"
            ],
            [
             0.3333333333333333,
             "#9c179e"
            ],
            [
             0.4444444444444444,
             "#bd3786"
            ],
            [
             0.5555555555555556,
             "#d8576b"
            ],
            [
             0.6666666666666666,
             "#ed7953"
            ],
            [
             0.7777777777777778,
             "#fb9f3a"
            ],
            [
             0.8888888888888888,
             "#fdca26"
            ],
            [
             1,
             "#f0f921"
            ]
           ],
           "sequentialminus": [
            [
             0,
             "#0d0887"
            ],
            [
             0.1111111111111111,
             "#46039f"
            ],
            [
             0.2222222222222222,
             "#7201a8"
            ],
            [
             0.3333333333333333,
             "#9c179e"
            ],
            [
             0.4444444444444444,
             "#bd3786"
            ],
            [
             0.5555555555555556,
             "#d8576b"
            ],
            [
             0.6666666666666666,
             "#ed7953"
            ],
            [
             0.7777777777777778,
             "#fb9f3a"
            ],
            [
             0.8888888888888888,
             "#fdca26"
            ],
            [
             1,
             "#f0f921"
            ]
           ]
          },
          "colorway": [
           "#636efa",
           "#EF553B",
           "#00cc96",
           "#ab63fa",
           "#FFA15A",
           "#19d3f3",
           "#FF6692",
           "#B6E880",
           "#FF97FF",
           "#FECB52"
          ],
          "font": {
           "color": "#2a3f5f"
          },
          "geo": {
           "bgcolor": "white",
           "lakecolor": "white",
           "landcolor": "#E5ECF6",
           "showlakes": true,
           "showland": true,
           "subunitcolor": "white"
          },
          "hoverlabel": {
           "align": "left"
          },
          "hovermode": "closest",
          "mapbox": {
           "style": "light"
          },
          "paper_bgcolor": "white",
          "plot_bgcolor": "#E5ECF6",
          "polar": {
           "angularaxis": {
            "gridcolor": "white",
            "linecolor": "white",
            "ticks": ""
           },
           "bgcolor": "#E5ECF6",
           "radialaxis": {
            "gridcolor": "white",
            "linecolor": "white",
            "ticks": ""
           }
          },
          "scene": {
           "xaxis": {
            "backgroundcolor": "#E5ECF6",
            "gridcolor": "white",
            "gridwidth": 2,
            "linecolor": "white",
            "showbackground": true,
            "ticks": "",
            "zerolinecolor": "white"
           },
           "yaxis": {
            "backgroundcolor": "#E5ECF6",
            "gridcolor": "white",
            "gridwidth": 2,
            "linecolor": "white",
            "showbackground": true,
            "ticks": "",
            "zerolinecolor": "white"
           },
           "zaxis": {
            "backgroundcolor": "#E5ECF6",
            "gridcolor": "white",
            "gridwidth": 2,
            "linecolor": "white",
            "showbackground": true,
            "ticks": "",
            "zerolinecolor": "white"
           }
          },
          "shapedefaults": {
           "line": {
            "color": "#2a3f5f"
           }
          },
          "ternary": {
           "aaxis": {
            "gridcolor": "white",
            "linecolor": "white",
            "ticks": ""
           },
           "baxis": {
            "gridcolor": "white",
            "linecolor": "white",
            "ticks": ""
           },
           "bgcolor": "#E5ECF6",
           "caxis": {
            "gridcolor": "white",
            "linecolor": "white",
            "ticks": ""
           }
          },
          "title": {
           "x": 0.05
          },
          "xaxis": {
           "automargin": true,
           "gridcolor": "white",
           "linecolor": "white",
           "ticks": "",
           "title": {
            "standoff": 15
           },
           "zerolinecolor": "white",
           "zerolinewidth": 2
          },
          "yaxis": {
           "automargin": true,
           "gridcolor": "white",
           "linecolor": "white",
           "ticks": "",
           "title": {
            "standoff": 15
           },
           "zerolinecolor": "white",
           "zerolinewidth": 2
          }
         }
        },
        "title": {
         "text": "pade_25_26"
        },
        "width": 1500,
        "xaxis": {
         "range": [
          0,
          20
         ],
         "title": {
          "text": "$x$"
         },
         "type": "linear"
        },
        "yaxis": {
         "exponentformat": "power",
         "range": [
          -24,
          -4
         ],
         "title": {
          "text": "$\\max|\\Delta|$"
         },
         "type": "log"
        }
       }
      },
      "image/png": "[encoded data removed]",
      "text/html": [
       "<div>                            <div id=\"d90c18ed-376c-4654-b8d5-489a63801a0f\" class=\"plotly-graph-div\" style=\"height:700px; width:1500px;\"></div>            <script type=\"text/javascript\">                require([\"plotly\"], function(Plotly) {                    window.PLOTLYENV=window.PLOTLYENV || {};                                    if (document.getElementById(\"d90c18ed-376c-4654-b8d5-489a63801a0f\")) {                    Plotly.newPlot(                        \"d90c18ed-376c-4654-b8d5-489a63801a0f\",                        [{\"hovertemplate\":\"x = %{x}<br>max(|&#x394;|) = %{y}<extra></extra>\",\"mode\":\"markers\",\"name\":\"1\",\"x\":[0.0161,11.54,13.501365],\"y\":[1.1102230246251565e-16,6.938893903907228e-18,3.469446951953614e-18],\"type\":\"scatter\"},{\"hovertemplate\":\"x = %{x}<br>max(|&#x394;|) = %{y}<extra></extra>\",\"mode\":\"markers\",\"name\":\"2\",\"x\":[0.00115,11.672,13.501365],\"y\":[5.551115123125783e-17,1.5178830414797062e-18,4.336808689942018e-19],\"type\":\"scatter\"},{\"hovertemplate\":\"x = %{x}<br>max(|&#x394;|) = %{y}<extra></extra>\",\"mode\":\"markers\",\"name\":\"3\",\"x\":[0.10695,11.678,13.6365],\"y\":[5.551115123125783e-17,9.75781955236954e-19,1.0842021724855044e-19],\"type\":\"scatter\"},{\"hovertemplate\":\"x = %{x}<br>max(|&#x394;|) = %{y}<extra></extra>\",\"mode\":\"markers\",\"name\":\"4\",\"x\":[0.10464999999999999,11.598,13.65561],\"y\":[4.163336342344337e-17,1.0028870095490916e-18,3.3881317890172014e-20],\"type\":\"scatter\"},{\"hovertemplate\":\"x = %{x}<br>max(|&#x394;|) = %{y}<extra></extra>\",\"mode\":\"markers\",\"name\":\"5\",\"x\":[0.01725,11.838,13.65561],\"y\":[2.7755575615628914e-17,1.1384122811097797e-18,1.1858461261560205e-20],\"type\":\"scatter\"},{\"hovertemplate\":\"x = %{x}<br>max(|&#x394;|) = %{y}<extra></extra>\",\"mode\":\"markers\",\"name\":\"6\",\"x\":[0.00115,11.684,13.65561],\"y\":[2.7755575615628914e-17,7.555533889508359e-19,5.929230630780102e-21],\"type\":\"scatter\"},{\"hovertemplate\":\"x = %{x}<br>max(|&#x394;|) = %{y}<extra></extra>\",\"mode\":\"markers\",\"name\":\"7\",\"x\":[0.0023,11.592,13.65561],\"y\":[1.3877787807814457e-17,1.6042804020996448e-18,2.964615315390051e-21],\"type\":\"scatter\"},{\"hovertemplate\":\"x = %{x}<br>max(|&#x394;|) = %{y}<extra></extra>\",\"mode\":\"markers\",\"name\":\"8\",\"x\":[0.01265,11.768,13.65561],\"y\":[1.3877787807814457e-17,9.613823951336309e-19,1.9058241313221758e-21],\"type\":\"scatter\"},{\"hovertemplate\":\"x = %{x}<br>max(|&#x394;|) = %{y}<extra></extra>\",\"mode\":\"markers\",\"name\":\"9\",\"x\":[0.0138,11.924,13.75935],\"y\":[1.3877787807814457e-17,5.433716356636337e-19,1.2705494208814505e-21],\"type\":\"scatter\"},{\"hovertemplate\":\"x = %{x}<br>max(|&#x394;|) = %{y}<extra></extra>\",\"mode\":\"markers\",\"name\":\"10\",\"x\":[0.0138,11.736,13.509555],\"y\":[1.3877787807814457e-17,1.249373597200093e-18,9.529120656610879e-22],\"type\":\"scatter\"},{\"hovertemplate\":\"x = %{x}<br>max(|&#x394;|) = %{y}<extra></extra>\",\"mode\":\"markers\",\"name\":\"11\",\"x\":[0.03335,11.76,13.75935],\"y\":[1.3877787807814457e-17,7.129899833513073e-19,7.940933880509066e-22],\"type\":\"scatter\"},{\"hovertemplate\":\"x = %{x}<br>max(|&#x394;|) = %{y}<extra></extra>\",\"mode\":\"markers\",\"name\":\"12\",\"x\":[0.04025,11.796,13.75935],\"y\":[1.3877787807814457e-17,9.81711185867734e-19,6.88214269644119e-22],\"type\":\"scatter\"},{\"hovertemplate\":\"x = %{x}<br>max(|&#x394;|) = %{y}<extra></extra>\",\"mode\":\"markers\",\"name\":\"13\",\"x\":[0.08855,11.648,13.75935],\"y\":[1.3877787807814457e-17,6.456508640445904e-19,6.88214269644119e-22],\"type\":\"scatter\"},{\"hovertemplate\":\"x = %{x}<br>max(|&#x394;|) = %{y}<extra></extra>\",\"mode\":\"markers\",\"name\":\"14\",\"x\":[0.069,11.864,13.75935],\"y\":[1.3877787807814457e-17,6.50838940846523e-19,6.617444900424221e-22],\"type\":\"scatter\"},{\"hovertemplate\":\"x = %{x}<br>max(|&#x394;|) = %{y}<extra></extra>\",\"mode\":\"markers\",\"name\":\"15\",\"x\":[0.028749999999999998,11.944,13.75935],\"y\":[1.3877787807814457e-17,4.9763185651190145e-19,7.146840492458159e-22],\"type\":\"scatter\"},{\"hovertemplate\":\"x = %{x}<br>max(|&#x394;|) = %{y}<extra></extra>\",\"mode\":\"markers\",\"name\":\"16\",\"x\":[0.0253,11.614,13.509555],\"y\":[6.938893903907228e-18,6.8715547846005115e-19,8.205631676526035e-22],\"type\":\"scatter\"},{\"hovertemplate\":\"x = %{x}<br>max(|&#x394;|) = %{y}<extra></extra>\",\"mode\":\"markers\",\"name\":\"17\",\"x\":[0.0253,11.562,13.509555],\"y\":[1.0408340855860843e-17,8.967961329054905e-19,1.0323214044661785e-21],\"type\":\"scatter\"},{\"hovertemplate\":\"x = %{x}<br>max(|&#x394;|) = %{y}<extra></extra>\",\"mode\":\"markers\",\"name\":\"18\",\"x\":[0.00805,11.914,13.509555],\"y\":[6.938893903907228e-18,3.919115567827241e-19,1.3499587596865412e-21],\"type\":\"scatter\"},{\"hovertemplate\":\"x = %{x}<br>max(|&#x394;|) = %{y}<extra></extra>\",\"mode\":\"markers\",\"name\":\"19\",\"x\":[0.01495,11.536,13.509555],\"y\":[6.938893903907228e-18,4.818558678692901e-19,1.8661194619196304e-21],\"type\":\"scatter\"},{\"hovertemplate\":\"x = %{x}<br>max(|&#x394;|) = %{y}<extra></extra>\",\"mode\":\"markers\",\"name\":\"20\",\"x\":[0.0023,11.846,13.509555],\"y\":[6.938893903907228e-18,4.410924072826769e-19,2.686682629572234e-21],\"type\":\"scatter\"}],                        {\"template\":{\"data\":{\"histogram2dcontour\":[{\"type\":\"histogram2dcontour\",\"colorbar\":{\"outlinewidth\":0,\"ticks\":\"\"},\"colorscale\":[[0.0,\"#0d0887\"],[0.1111111111111111,\"#46039f\"],[0.2222222222222222,\"#7201a8\"],[0.3333333333333333,\"#9c179e\"],[0.4444444444444444,\"#bd3786\"],[0.5555555555555556,\"#d8576b\"],[0.6666666666666666,\"#ed7953\"],[0.7777777777777778,\"#fb9f3a\"],[0.8888888888888888,\"#fdca26\"],[1.0,\"#f0f921\"]]}],\"choropleth\":[{\"type\":\"choropleth\",\"colorbar\":{\"outlinewidth\":0,\"ticks\":\"\"}}],\"histogram2d\":[{\"type\":\"histogram2d\",\"colorbar\":{\"outlinewidth\":0,\"ticks\":\"\"},\"colorscale\":[[0.0,\"#0d0887\"],[0.1111111111111111,\"#46039f\"],[0.2222222222222222,\"#7201a8\"],[0.3333333333333333,\"#9c179e\"],[0.4444444444444444,\"#bd3786\"],[0.5555555555555556,\"#d8576b\"],[0.6666666666666666,\"#ed7953\"],[0.7777777777777778,\"#fb9f3a\"],[0.8888888888888888,\"#fdca26\"],[1.0,\"#f0f921\"]]}],\"heatmap\":[{\"type\":\"heatmap\",\"colorbar\":{\"outlinewidth\":0,\"ticks\":\"\"},\"colorscale\":[[0.0,\"#0d0887\"],[0.1111111111111111,\"#46039f\"],[0.2222222222222222,\"#7201a8\"],[0.3333333333333333,\"#9c179e\"],[0.4444444444444444,\"#bd3786\"],[0.5555555555555556,\"#d8576b\"],[0.6666666666666666,\"#ed7953\"],[0.7777777777777778,\"#fb9f3a\"],[0.8888888888888888,\"#fdca26\"],[1.0,\"#f0f921\"]]}],\"heatmapgl\":[{\"type\":\"heatmapgl\",\"colorbar\":{\"outlinewidth\":0,\"ticks\":\"\"},\"colorscale\":[[0.0,\"#0d0887\"],[0.1111111111111111,\"#46039f\"],[0.2222222222222222,\"#7201a8\"],[0.3333333333333333,\"#9c179e\"],[0.4444444444444444,\"#bd3786\"],[0.5555555555555556,\"#d8576b\"],[0.6666666666666666,\"#ed7953\"],[0.7777777777777778,\"#fb9f3a\"],[0.8888888888888888,\"#fdca26\"],[1.0,\"#f0f921\"]]}],\"contourcarpet\":[{\"type\":\"contourcarpet\",\"colorbar\":{\"outlinewidth\":0,\"ticks\":\"\"}}],\"contour\":[{\"type\":\"contour\",\"colorbar\":{\"outlinewidth\":0,\"ticks\":\"\"},\"colorscale\":[[0.0,\"#0d0887\"],[0.1111111111111111,\"#46039f\"],[0.2222222222222222,\"#7201a8\"],[0.3333333333333333,\"#9c179e\"],[0.4444444444444444,\"#bd3786\"],[0.5555555555555556,\"#d8576b\"],[0.6666666666666666,\"#ed7953\"],[0.7777777777777778,\"#fb9f3a\"],[0.8888888888888888,\"#fdca26\"],[1.0,\"#f0f921\"]]}],\"surface\":[{\"type\":\"surface\",\"colorbar\":{\"outlinewidth\":0,\"ticks\":\"\"},\"colorscale\":[[0.0,\"#0d0887\"],[0.1111111111111111,\"#46039f\"],[0.2222222222222222,\"#7201a8\"],[0.3333333333333333,\"#9c179e\"],[0.4444444444444444,\"#bd3786\"],[0.5555555555555556,\"#d8576b\"],[0.6666666666666666,\"#ed7953\"],[0.7777777777777778,\"#fb9f3a\"],[0.8888888888888888,\"#fdca26\"],[1.0,\"#f0f921\"]]}],\"mesh3d\":[{\"type\":\"mesh3d\",\"colorbar\":{\"outlinewidth\":0,\"ticks\":\"\"}}],\"scatter\":[{\"fillpattern\":{\"fillmode\":\"overlay\",\"size\":10,\"solidity\":0.2},\"type\":\"scatter\"}],\"parcoords\":[{\"type\":\"parcoords\",\"line\":{\"colorbar\":{\"outlinewidth\":0,\"ticks\":\"\"}}}],\"scatterpolargl\":[{\"type\":\"scatterpolargl\",\"marker\":{\"colorbar\":{\"outlinewidth\":0,\"ticks\":\"\"}}}],\"bar\":[{\"error_x\":{\"color\":\"#2a3f5f\"},\"error_y\":{\"color\":\"#2a3f5f\"},\"marker\":{\"line\":{\"color\":\"#E5ECF6\",\"width\":0.5},\"pattern\":{\"fillmode\":\"overlay\",\"size\":10,\"solidity\":0.2}},\"type\":\"bar\"}],\"scattergeo\":[{\"type\":\"scattergeo\",\"marker\":{\"colorbar\":{\"outlinewidth\":0,\"ticks\":\"\"}}}],\"scatterpolar\":[{\"type\":\"scatterpolar\",\"marker\":{\"colorbar\":{\"outlinewidth\":0,\"ticks\":\"\"}}}],\"histogram\":[{\"marker\":{\"pattern\":{\"fillmode\":\"overlay\",\"size\":10,\"solidity\":0.2}},\"type\":\"histogram\"}],\"scattergl\":[{\"type\":\"scattergl\",\"marker\":{\"colorbar\":{\"outlinewidth\":0,\"ticks\":\"\"}}}],\"scatter3d\":[{\"type\":\"scatter3d\",\"line\":{\"colorbar\":{\"outlinewidth\":0,\"ticks\":\"\"}},\"marker\":{\"colorbar\":{\"outlinewidth\":0,\"ticks\":\"\"}}}],\"scattermapbox\":[{\"type\":\"scattermapbox\",\"marker\":{\"colorbar\":{\"outlinewidth\":0,\"ticks\":\"\"}}}],\"scatterternary\":[{\"type\":\"scatterternary\",\"marker\":{\"colorbar\":{\"outlinewidth\":0,\"ticks\":\"\"}}}],\"scattercarpet\":[{\"type\":\"scattercarpet\",\"marker\":{\"colorbar\":{\"outlinewidth\":0,\"ticks\":\"\"}}}],\"carpet\":[{\"aaxis\":{\"endlinecolor\":\"#2a3f5f\",\"gridcolor\":\"white\",\"linecolor\":\"white\",\"minorgridcolor\":\"white\",\"startlinecolor\":\"#2a3f5f\"},\"baxis\":{\"endlinecolor\":\"#2a3f5f\",\"gridcolor\":\"white\",\"linecolor\":\"white\",\"minorgridcolor\":\"white\",\"startlinecolor\":\"#2a3f5f\"},\"type\":\"carpet\"}],\"table\":[{\"cells\":{\"fill\":{\"color\":\"#EBF0F8\"},\"line\":{\"color\":\"white\"}},\"header\":{\"fill\":{\"color\":\"#C8D4E3\"},\"line\":{\"color\":\"white\"}},\"type\":\"table\"}],\"barpolar\":[{\"marker\":{\"line\":{\"color\":\"#E5ECF6\",\"width\":0.5},\"pattern\":{\"fillmode\":\"overlay\",\"size\":10,\"solidity\":0.2}},\"type\":\"barpolar\"}],\"pie\":[{\"automargin\":true,\"type\":\"pie\"}]},\"layout\":{\"autotypenumbers\":\"strict\",\"colorway\":[\"#636efa\",\"#EF553B\",\"#00cc96\",\"#ab63fa\",\"#FFA15A\",\"#19d3f3\",\"#FF6692\",\"#B6E880\",\"#FF97FF\",\"#FECB52\"],\"font\":{\"color\":\"#2a3f5f\"},\"hovermode\":\"closest\",\"hoverlabel\":{\"align\":\"left\"},\"paper_bgcolor\":\"white\",\"plot_bgcolor\":\"#E5ECF6\",\"polar\":{\"bgcolor\":\"#E5ECF6\",\"angularaxis\":{\"gridcolor\":\"white\",\"linecolor\":\"white\",\"ticks\":\"\"},\"radialaxis\":{\"gridcolor\":\"white\",\"linecolor\":\"white\",\"ticks\":\"\"}},\"ternary\":{\"bgcolor\":\"#E5ECF6\",\"aaxis\":{\"gridcolor\":\"white\",\"linecolor\":\"white\",\"ticks\":\"\"},\"baxis\":{\"gridcolor\":\"white\",\"linecolor\":\"white\",\"ticks\":\"\"},\"caxis\":{\"gridcolor\":\"white\",\"linecolor\":\"white\",\"ticks\":\"\"}},\"coloraxis\":{\"colorbar\":{\"outlinewidth\":0,\"ticks\":\"\"}},\"colorscale\":{\"sequential\":[[0.0,\"#0d0887\"],[0.1111111111111111,\"#46039f\"],[0.2222222222222222,\"#7201a8\"],[0.3333333333333333,\"#9c179e\"],[0.4444444444444444,\"#bd3786\"],[0.5555555555555556,\"#d8576b\"],[0.6666666666666666,\"#ed7953\"],[0.7777777777777778,\"#fb9f3a\"],[0.8888888888888888,\"#fdca26\"],[1.0,\"#f0f921\"]],\"sequentialminus\":[[0.0,\"#0d0887\"],[0.1111111111111111,\"#46039f\"],[0.2222222222222222,\"#7201a8\"],[0.3333333333333333,\"#9c179e\"],[0.4444444444444444,\"#bd3786\"],[0.5555555555555556,\"#d8576b\"],[0.6666666666666666,\"#ed7953\"],[0.7777777777777778,\"#fb9f3a\"],[0.8888888888888888,\"#fdca26\"],[1.0,\"#f0f921\"]],\"diverging\":[[0,\"#8e0152\"],[0.1,\"#c51b7d\"],[0.2,\"#de77ae\"],[0.3,\"#f1b6da\"],[0.4,\"#fde0ef\"],[0.5,\"#f7f7f7\"],[0.6,\"#e6f5d0\"],[0.7,\"#b8e186\"],[0.8,\"#7fbc41\"],[0.9,\"#4d9221\"],[1,\"#276419\"]]},\"xaxis\":{\"gridcolor\":\"white\",\"linecolor\":\"white\",\"ticks\":\"\",\"title\":{\"standoff\":15},\"zerolinecolor\":\"white\",\"automargin\":true,\"zerolinewidth\":2},\"yaxis\":{\"gridcolor\":\"white\",\"linecolor\":\"white\",\"ticks\":\"\",\"title\":{\"standoff\":15},\"zerolinecolor\":\"white\",\"automargin\":true,\"zerolinewidth\":2},\"scene\":{\"xaxis\":{\"backgroundcolor\":\"#E5ECF6\",\"gridcolor\":\"white\",\"linecolor\":\"white\",\"showbackground\":true,\"ticks\":\"\",\"zerolinecolor\":\"white\",\"gridwidth\":2},\"yaxis\":{\"backgroundcolor\":\"#E5ECF6\",\"gridcolor\":\"white\",\"linecolor\":\"white\",\"showbackground\":true,\"ticks\":\"\",\"zerolinecolor\":\"white\",\"gridwidth\":2},\"zaxis\":{\"backgroundcolor\":\"#E5ECF6\",\"gridcolor\":\"white\",\"linecolor\":\"white\",\"showbackground\":true,\"ticks\":\"\",\"zerolinecolor\":\"white\",\"gridwidth\":2}},\"shapedefaults\":{\"line\":{\"color\":\"#2a3f5f\"}},\"annotationdefaults\":{\"arrowcolor\":\"#2a3f5f\",\"arrowhead\":0,\"arrowwidth\":1},\"geo\":{\"bgcolor\":\"white\",\"landcolor\":\"#E5ECF6\",\"subunitcolor\":\"white\",\"showland\":true,\"showlakes\":true,\"lakecolor\":\"white\"},\"title\":{\"x\":0.05},\"mapbox\":{\"style\":\"light\"}}},\"legend\":{\"title\":{\"text\":\"Boys' function order\"}},\"title\":{\"text\":\"pade_25_26\"},\"autosize\":false,\"width\":1500,\"height\":700,\"xaxis\":{\"title\":{\"text\":\"$x$\"},\"range\":[0.0,20.0]},\"yaxis\":{\"title\":{\"text\":\"$\\\\max|\\\\Delta|$\"},\"type\":\"log\",\"range\":[-24,-4],\"exponentformat\":\"power\"},\"shapes\":[{\"line\":{\"width\":0.7},\"type\":\"line\",\"x0\":11.5,\"x1\":11.5,\"xref\":\"x\",\"y0\":0,\"y1\":1,\"yref\":\"y domain\"},{\"line\":{\"width\":0.7},\"type\":\"line\",\"x0\":13.5,\"x1\":13.5,\"xref\":\"x\",\"y0\":0,\"y1\":1,\"yref\":\"y domain\"},{\"line\":{\"color\":\"blue\",\"dash\":\"dot\",\"width\":0.5},\"type\":\"line\",\"x0\":0,\"x1\":1,\"xref\":\"x domain\",\"y0\":1e-14,\"y1\":1e-14,\"yref\":\"y\"},{\"line\":{\"color\":\"red\",\"dash\":\"dot\",\"width\":0.5},\"type\":\"line\",\"x0\":0,\"x1\":1,\"xref\":\"x domain\",\"y0\":1e-16,\"y1\":1e-16,\"yref\":\"y\"},{\"line\":{\"color\":\"green\",\"dash\":\"dot\",\"width\":0.5},\"type\":\"line\",\"x0\":0,\"x1\":1,\"xref\":\"x domain\",\"y0\":1e-18,\"y1\":1e-18,\"yref\":\"y\"}]},                        {\"responsive\": true}                    ).then(function(){\n",
       "                            \n",
       "var gd = document.getElementById('d90c18ed-376c-4654-b8d5-489a63801a0f');\n",
       "var x = new MutationObserver(function (mutations, observer) {{\n",
       "        var display = window.getComputedStyle(gd).display;\n",
       "        if (!display || display === 'none') {{\n",
       "            console.log([gd, 'removed!']);\n",
       "            Plotly.purge(gd);\n",
       "            observer.disconnect();\n",
       "        }}\n",
       "}});\n",
       "\n",
       "// Listen for the removal of the full notebook cells\n",
       "var notebookContainer = gd.closest('#notebook-container');\n",
       "if (notebookContainer) {{\n",
       "    x.observe(notebookContainer, {childList: true});\n",
       "}}\n",
       "\n",
       "// Listen for the clearing of the current output cell\n",
       "var outputEl = gd.closest('.output');\n",
       "if (outputEl) {{\n",
       "    x.observe(outputEl, {childList: true});\n",
       "}}\n",
       "\n",
       "                        })                };                });            </script>        </div>"
      ]
     },
     "metadata": {},
     "output_type": "display_data"
    }
   ],
   "source": [
    "for method in [\"mcmurchie_davidson\", \"pade_5_6\", \"pade_9_10\", \"pade_15_16\", \"pade_25_26\"]:\n",
    "    # initialize empty figure\n",
    "    fig = go.Figure()\n",
    "    # exclude order = 0 because it's the same for all methods\n",
    "    for order in range(1, max_order+1):\n",
    "        # points realizing the maximum absolute delta for each region/order\n",
    "        xs = []\n",
    "        deltas = []\n",
    "        for region in (\"lo\", \"mid\", \"hi\"):\n",
    "            # compute difference\n",
    "            abs_diff_ys = np.abs(ref_fh[f\"{region}_interval/ys/order_{order}\"][:] - comp_fh[f\"{region}_interval/{method}/cpu/ys/order_{order}\"][:])\n",
    "            # find index realizing the maximum absolute difference\n",
    "            idx = np.argmax(abs_diff_ys)\n",
    "            #print(f\"{region=} {idx=}\")\n",
    "            # save maximum absolute difference\n",
    "            deltas.append(abs_diff_ys[idx])\n",
    "            # save corresponding x value from reference\n",
    "            xs.append(ref_fh[f\"{region}_interval/xs\"][:][idx])\n",
    "        # add line to plot\n",
    "        fig.add_trace(\n",
    "            go.Scatter(\n",
    "                x=xs,\n",
    "                y=deltas, \n",
    "                mode=\"markers\", \n",
    "                name=f\"{order}\",\n",
    "                hovertemplate=r\"x = %{x}<br>max(|&#x394;|) = %{y}<extra></extra>\",\n",
    "            )\n",
    "        )\n",
    "    \n",
    "    # make figure a bit prettier\n",
    "    fig.update_layout(\n",
    "        title=f\"{method}\",\n",
    "        legend_title_text=\"Boys' function order\",\n",
    "        autosize=False,\n",
    "        width=1500,\n",
    "        height=700,\n",
    "    )\n",
    "\n",
    "    fig.update_xaxes(\n",
    "        title_text=r\"$x$\", \n",
    "        range=[0.0, 20.0]\n",
    "    )\n",
    "    fig.update_yaxes(\n",
    "        title_text=r\"$\\max|\\Delta|$\", \n",
    "        type=\"log\", \n",
    "        range=[-24, -4],\n",
    "        exponentformat=\"power\",\n",
    "    )\n",
    "    # add vertical lines to delimit regions\n",
    "    fig.add_vline(x=11.5, line_width=0.7)\n",
    "    fig.add_vline(x=13.5, line_width=0.7)\n",
    "    # add horizontal lines to delimit precision\n",
    "    fig.add_hline(\n",
    "        y=1e-14, \n",
    "        line_dash=\"dot\",\n",
    "        line_width=0.5,\n",
    "        line_color=\"blue\",\n",
    "    )\n",
    "    fig.add_hline(\n",
    "        y=1e-16, \n",
    "        line_dash=\"dot\",\n",
    "        line_width=0.5,\n",
    "        line_color=\"red\")\n",
    "    fig.add_hline(\n",
    "        y=1e-18, \n",
    "        line_dash=\"dot\",\n",
    "        line_width=0.5,\n",
    "        line_color=\"green\"\n",
    "    )\n",
    "    # visualize\n",
    "    fig.show()"
   ]
  },
  {
   "cell_type": "code",
   "execution_count": null,
   "id": "be51fdda-bda4-47d3-8c47-cd327be542a7",
   "metadata": {},
   "outputs": [],
   "source": []
  }
 ],
 "metadata": {
  "kernelspec": {
   "display_name": "Python 3 (ipykernel)",
   "language": "python",
   "name": "python3"
  },
  "language_info": {
   "codemirror_mode": {
    "name": "ipython",
    "version": 3
   },
   "file_extension": ".py",
   "mimetype": "text/x-python",
   "name": "python",
   "nbconvert_exporter": "python",
   "pygments_lexer": "ipython3",
   "version": "3.11.3"
  }
 },
 "nbformat": 4,
 "nbformat_minor": 5
}
